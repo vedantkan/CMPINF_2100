{
 "cells": [
  {
   "cell_type": "markdown",
   "metadata": {},
   "source": [
    "# CMPINF 2100: Homework 01\n",
    "\n",
    "### Vedant Kansara\n",
    "\n",
    "### Assigned: Monday September 6, 2021\n",
    "\n",
    "### Due: Sunday September 12, 2021 11:00PM EST\n",
    "\n",
    "This assignment focuses on the creation and manipulation of lists and dictionaries. You will apply your skills to a simulation example similar to the in-lecture example in Week 02. \n",
    "\n",
    "You may add as many code and markdown cells as you see fit to answer the questions.  \n",
    "\n",
    "#### Name your collaborators here.\n",
    "NONE"
   ]
  },
  {
   "cell_type": "markdown",
   "metadata": {},
   "source": [
    "## Example application\n",
    "\n",
    "The first three problems are associated with the Pittsburgh Pirates, the local Major League Baseball (MLB) team in Pittsburgh, PA. The MLB consists of 30 baseball teams. A single game is between 2 teams, a Home team and an Away team. The two teams usually play 3 to 4 games in a row, before changing to different opponents. The consecutive games between the same two teams are referred to as a \"series\" in baseball nomenclature.  \n",
    "\n",
    "You will work with a list where each element in the list corresponds to a game against an opponent. Specifically, seven series of games are created and assigned to the `opponents` object in the cell below. The object is created to be easy to visually confirm the number of games within each series against an opposing team. Note that the `\\` character continues the line of code across multiple lines."
   ]
  },
  {
   "cell_type": "code",
   "execution_count": 1,
   "metadata": {},
   "outputs": [],
   "source": [
    "# define the list of opponents the Pirates played in the first 7 series\n",
    "opponents = 3 * ['Cardinals'] + 3 * ['Brewers'] \\\n",
    "+ 3 * ['Cubs'] + 4 * ['Twins'] \\\n",
    "+ 3 * ['Tigers'] + 3 * ['Cardinals'] + 3 * ['Reds']"
   ]
  },
  {
   "cell_type": "code",
   "execution_count": 2,
   "metadata": {},
   "outputs": [
    {
     "name": "stdout",
     "output_type": "stream",
     "text": [
      "['Cardinals', 'Cardinals', 'Cardinals', 'Brewers', 'Brewers', 'Brewers', 'Cubs', 'Cubs', 'Cubs', 'Twins', 'Twins', 'Twins', 'Twins', 'Tigers', 'Tigers', 'Tigers', 'Cardinals', 'Cardinals', 'Cardinals', 'Reds', 'Reds', 'Reds']\n"
     ]
    }
   ],
   "source": [
    "print( opponents )"
   ]
  },
  {
   "cell_type": "markdown",
   "metadata": {},
   "source": [
    "## Problem 01\n",
    "Let's start out by focusing on the unique opponents (teams) that the Pirates played against."
   ]
  },
  {
   "cell_type": "markdown",
   "metadata": {},
   "source": [
    "### 1a) - QUESTION\n",
    "\n",
    "Print the data type associated with the `opponents` variable."
   ]
  },
  {
   "cell_type": "markdown",
   "metadata": {},
   "source": [
    "#### 1a) - SOLUTION"
   ]
  },
  {
   "cell_type": "code",
   "execution_count": 3,
   "metadata": {},
   "outputs": [
    {
     "name": "stdout",
     "output_type": "stream",
     "text": [
      "<class 'list'>\n"
     ]
    }
   ],
   "source": [
    "print(type(opponents))"
   ]
  },
  {
   "cell_type": "markdown",
   "metadata": {},
   "source": [
    "### 1b) - QUESTION\n",
    "Each element in the `opponents` object corresponds to a game. Determine the number of games the Pirates played over the seven series within the `opponents` object. Print your result to the screen."
   ]
  },
  {
   "cell_type": "markdown",
   "metadata": {},
   "source": [
    "#### 1b) - SOLUTION"
   ]
  },
  {
   "cell_type": "code",
   "execution_count": 4,
   "metadata": {},
   "outputs": [
    {
     "name": "stdout",
     "output_type": "stream",
     "text": [
      "22\n"
     ]
    }
   ],
   "source": [
    "print(len(opponents))"
   ]
  },
  {
   "cell_type": "markdown",
   "metadata": {},
   "source": [
    "### 1c) - QUESTION\n",
    "Determine the unique or distinct teams the Pirates played against. Assign the result to the `unique_teams` variable. Print their names to the screen **and** print the number of unique teams the Pirates played against."
   ]
  },
  {
   "cell_type": "markdown",
   "metadata": {},
   "source": [
    "#### 1c) - SOLUTION"
   ]
  },
  {
   "cell_type": "code",
   "execution_count": 5,
   "metadata": {},
   "outputs": [
    {
     "name": "stdout",
     "output_type": "stream",
     "text": [
      "The number of unique teams pirates played against are :6\n",
      "{'Cubs', 'Cardinals', 'Twins', 'Brewers', 'Reds', 'Tigers'}\n"
     ]
    }
   ],
   "source": [
    "unique_teams = set(opponents)\n",
    "\n",
    "print(\"The number of unique teams pirates played against are :\" + str(len(unique_teams)))\n",
    "\n",
    "print(unique_teams)"
   ]
  },
  {
   "cell_type": "markdown",
   "metadata": {},
   "source": [
    "### 1d) - QUESTION\n",
    "What is the data type associated with the `unique_teams` object? What makes that data type different from a Python list?"
   ]
  },
  {
   "cell_type": "markdown",
   "metadata": {},
   "source": [
    "#### 1d) - SOLUTION"
   ]
  },
  {
   "cell_type": "markdown",
   "metadata": {},
   "source": [
    "Your response."
   ]
  },
  {
   "cell_type": "markdown",
   "metadata": {},
   "source": [
    "The data type associated with the `unique_teams` object is `set`\n",
    "\n",
    "This is because set is another data structure, which represents a collection of distinct elements. "
   ]
  },
  {
   "cell_type": "markdown",
   "metadata": {},
   "source": [
    "### 1e) - QUESTION\n",
    "Convert the `unique_teams` object to a list and assign the result to the `teams_list` object."
   ]
  },
  {
   "cell_type": "markdown",
   "metadata": {},
   "source": [
    "#### 1e) - SOLUTION"
   ]
  },
  {
   "cell_type": "code",
   "execution_count": 6,
   "metadata": {},
   "outputs": [],
   "source": [
    "teams_list = list(unique_teams)"
   ]
  },
  {
   "cell_type": "markdown",
   "metadata": {},
   "source": [
    "### 1f) - QUESTION\n",
    "Sort the `teams_list` object and print the list to the screen."
   ]
  },
  {
   "cell_type": "markdown",
   "metadata": {},
   "source": [
    "#### 1f) - SOLUTION"
   ]
  },
  {
   "cell_type": "code",
   "execution_count": 7,
   "metadata": {},
   "outputs": [
    {
     "name": "stdout",
     "output_type": "stream",
     "text": [
      "['Brewers', 'Cardinals', 'Cubs', 'Reds', 'Tigers', 'Twins']\n"
     ]
    }
   ],
   "source": [
    "teams_list.sort()\n",
    "print(teams_list)"
   ]
  },
  {
   "cell_type": "markdown",
   "metadata": {},
   "source": [
    "## Problem 02\n",
    "Next, let's figure out the number of games the Pirates played against each unique team."
   ]
  },
  {
   "cell_type": "markdown",
   "metadata": {},
   "source": [
    "### 2a) - QUESTION\n",
    "What method can you use to determine the total number of times the Pirates played the Cardinals? Print the result to the screen. \n",
    "\n",
    "*HINT*: You can always count by hand to make sure you are correct."
   ]
  },
  {
   "cell_type": "markdown",
   "metadata": {},
   "source": [
    "#### 2a) - SOLUTION"
   ]
  },
  {
   "cell_type": "code",
   "execution_count": 8,
   "metadata": {},
   "outputs": [
    {
     "data": {
      "text/plain": [
       "6"
      ]
     },
     "execution_count": 8,
     "metadata": {},
     "output_type": "execute_result"
    }
   ],
   "source": [
    "def no_of_times(x):\n",
    "    count = 0\n",
    "    for i in range(0,21):\n",
    "        if opponents[i]==x:\n",
    "            count=count+1\n",
    "    return count\n",
    "\n",
    "no_of_times('Cardinals')"
   ]
  },
  {
   "cell_type": "markdown",
   "metadata": {},
   "source": [
    "### 2b) - QUESTION\n",
    "\n",
    "Determine the total number of games the Pirates played against each team listed in the `teams_list` list. You **must** assign your result to the `games_per_team_list` object. You **must** use the `.append()` method and a for-loop to fill the elements within the `games_per_team_list` object. Once completed, print `games_per_team_list` to the screen."
   ]
  },
  {
   "cell_type": "markdown",
   "metadata": {},
   "source": [
    "#### 2b) - SOLUTION"
   ]
  },
  {
   "cell_type": "code",
   "execution_count": 9,
   "metadata": {},
   "outputs": [
    {
     "name": "stdout",
     "output_type": "stream",
     "text": [
      "['Brewers = 3', 'Cardinals = 6', 'Cubs = 3', 'Reds = 2', 'Tigers = 3', 'Twins = 4']\n"
     ]
    }
   ],
   "source": [
    "games_per_team_list = []\n",
    "\n",
    "for i in range(0,len(teams_list)):\n",
    "    games_per_team_list.append(teams_list[i]+\" = \"+ str(no_of_times(teams_list[i])))\n",
    "    \n",
    "print(games_per_team_list)"
   ]
  },
  {
   "cell_type": "markdown",
   "metadata": {},
   "source": [
    "### 2c) - QUESTION\n",
    "Determine the total number of games the Pirates played against each team listed in the `teams_list` list. This time however you **must use a list comprehension**. Assign the result to the `games_per_team_comp` object. Once completed print your result to the screen."
   ]
  },
  {
   "cell_type": "markdown",
   "metadata": {},
   "source": [
    "#### 2c) - SOLUTION"
   ]
  },
  {
   "cell_type": "code",
   "execution_count": 10,
   "metadata": {},
   "outputs": [
    {
     "name": "stdout",
     "output_type": "stream",
     "text": [
      "['Brewers = 3', 'Cardinals = 6', 'Cubs = 3', 'Reds = 2', 'Tigers = 3', 'Twins = 4']\n"
     ]
    }
   ],
   "source": [
    "games_per_team_comp = [teams_list[i] + \" = \" + str(no_of_times(teams_list[i])) for i in range(0,len(teams_list))]\n",
    "print(games_per_team_list)"
   ]
  },
  {
   "cell_type": "markdown",
   "metadata": {},
   "source": [
    "### 2d) - QUESTION\n",
    "Comfirm programmatically that the contents of `games_per_team_comp` are the same as in `games_per_team_list`."
   ]
  },
  {
   "cell_type": "markdown",
   "metadata": {},
   "source": [
    "#### 2d) - SOLUTION"
   ]
  },
  {
   "cell_type": "code",
   "execution_count": 11,
   "metadata": {},
   "outputs": [
    {
     "data": {
      "text/plain": [
       "True"
      ]
     },
     "execution_count": 11,
     "metadata": {},
     "output_type": "execute_result"
    }
   ],
   "source": [
    "games_per_team_comp==games_per_team_list"
   ]
  },
  {
   "cell_type": "markdown",
   "metadata": {},
   "source": [
    "## Problem 03\n",
    "The number of games played against each was stored in a list in Problem 02. You will repeat similar actions in this problem, except you will work with Python dictionaries."
   ]
  },
  {
   "cell_type": "markdown",
   "metadata": {},
   "source": [
    "### 3a) - QUESTION\n",
    "Describe a few differences between Python lists and dictionaries."
   ]
  },
  {
   "cell_type": "markdown",
   "metadata": {},
   "source": [
    "#### 3a) - SOLUTION\n",
    "* Lists are created by placing elements in `[]` while dictionaries are created by placing elements in `{}`\n",
    "* Elements are accessed via indices in lists whereas elements are accessed via key-values in dictionaries\n",
    "* The indices of list are integers starting from zero while the keys can be of any data-type\n",
    "* The order of elements is maintained in lists where there is no gaurentee of maintiang order in dictionaries"
   ]
  },
  {
   "cell_type": "markdown",
   "metadata": {},
   "source": [
    "### 3b) - QUESTION\n",
    "\n",
    "Create a dictionary with items corresponding to the team as the KEY and the total number of games played as the VALUE. You **must** use a for-loop to create the items in the dictionary. You are allowed to use the `teams_list` and `games_per_team_list` (or `games_per_team_comp`) objects you created in Problems 01 and 02, respectively. Assign the dictionary to the `games_per_team_dict` object.\n",
    "\n",
    "Print the `games_per_team_dict` dictionary to the screen, once it has been created."
   ]
  },
  {
   "cell_type": "markdown",
   "metadata": {},
   "source": [
    "#### 3b) - SOLUTION\n",
    "*HINT*: The cell below does **not** have to be completed in 1 line!"
   ]
  },
  {
   "cell_type": "code",
   "execution_count": 13,
   "metadata": {},
   "outputs": [
    {
     "name": "stdout",
     "output_type": "stream",
     "text": [
      "{'Brewers': 3, 'Cardinals': 6, 'Cubs': 3, 'Reds': 2, 'Tigers': 3, 'Twins': 4}\n"
     ]
    }
   ],
   "source": [
    "games_per_team_dict = {}\n",
    "\n",
    "for i in range(len(teams_list)):\n",
    "    games_per_team_dict[teams_list[i]]=no_of_times(teams_list[i])\n",
    "print(games_per_team_dict)"
   ]
  },
  {
   "cell_type": "markdown",
   "metadata": {},
   "source": [
    "### 3c) - QUESTION\n",
    "\n",
    "Use a **dictionary comprehension** to programmatically create a dictionary, `games_per_team_dict_comp`, which stores the number of games played as the VALUE and the team as the KEY. "
   ]
  },
  {
   "cell_type": "markdown",
   "metadata": {},
   "source": [
    "#### 3c) - SOLUTION"
   ]
  },
  {
   "cell_type": "code",
   "execution_count": 14,
   "metadata": {},
   "outputs": [
    {
     "name": "stdout",
     "output_type": "stream",
     "text": [
      "{'Brewers': 3, 'Cardinals': 6, 'Cubs': 3, 'Reds': 2, 'Tigers': 3, 'Twins': 4}\n"
     ]
    }
   ],
   "source": [
    "games_per_team_dict_comp = { teams_list[i]:no_of_times(teams_list[i]) for i in range(len(teams_list)) }\n",
    "print(games_per_team_dict_comp)"
   ]
  },
  {
   "cell_type": "markdown",
   "metadata": {},
   "source": [
    "### 3d) - QUESTION\n",
    "Programmatically confirm that the `games_per_team_dict_comp` contains the same information as the `games_per_team_dict` object. Print your result to the screen."
   ]
  },
  {
   "cell_type": "markdown",
   "metadata": {},
   "source": [
    "#### 3d) - SOLUTION"
   ]
  },
  {
   "cell_type": "code",
   "execution_count": 15,
   "metadata": {},
   "outputs": [
    {
     "data": {
      "text/plain": [
       "True"
      ]
     },
     "execution_count": 15,
     "metadata": {},
     "output_type": "execute_result"
    }
   ],
   "source": [
    "games_per_team_dict_comp == games_per_team_dict"
   ]
  },
  {
   "cell_type": "markdown",
   "metadata": {},
   "source": [
    "## Problem 04\n",
    "You must use simulation to determine the standard error on the mean with respect to sample size for a Gaussian random variable with `mu=100` (mean) and `sigma=25` (standard deviation). You must replicate the sample average 5000 times at each sample size. You must display the standard error as a plot with the standard error on the y-axis and the sample size on the horizontal axis. This problem is open ended and does not walk through the steps as the previous questions in the assignment.  \n",
    "\n",
    "The specific sample size values you should use as per provided in the cell below."
   ]
  },
  {
   "cell_type": "code",
   "execution_count": 19,
   "metadata": {},
   "outputs": [
    {
     "data": {
      "image/png": "[encoded data removed]",
      "text/plain": [
       "<Figure size 864x432 with 1 Axes>"
      ]
     },
     "metadata": {
      "needs_background": "light"
     },
     "output_type": "display_data"
    }
   ],
   "source": [
    "sample_size_use = [5, 10, 20, 40, 80, 160, 320, 640, 1280, 2560, 5120, 10240]\n",
    "import matplotlib.pyplot as plt\n",
    "import random\n",
    "random.seed(100)\n",
    "\n",
    "def my_avg(x):\n",
    "    return sum(x)/len(x)\n",
    "\n",
    "def gen_sample_calc_avg(N):\n",
    "    return(my_avg([random.gauss(100,25) for _ in range(N)]))\n",
    "\n",
    "def my_variance(x):\n",
    "    xbar = my_avg(x)\n",
    "    squared_deviation = [ (xn - xbar) ** 2 for xn in x ]\n",
    "    return sum(squared_deviation) / (len(x) - 1)\n",
    "\n",
    "study_variance_vs_samplesize = [my_variance([gen_sample_calc_avg(n) for _ in range(5000)]) for n in sample_size_use]\n",
    "\n",
    "fig, ax = plt.subplots(figsize=(12,6))\n",
    "\n",
    "ax.plot(sample_size_use, [xv**0.5 for xv in study_variance_vs_samplesize], '-o')\n",
    "ax.set_xscale('log')\n",
    "ax.set_xlabel('Sample Size')\n",
    "ax.set_ylabel('Standard Error')\n",
    "ax.grid(True)\n",
    "plt.show()\n"
   ]
  }
 ],
 "metadata": {
  "kernelspec": {
   "display_name": "Python 3",
   "language": "python",
   "name": "python3"
  },
  "language_info": {
   "codemirror_mode": {
    "name": "ipython",
    "version": 3
   },
   "file_extension": ".py",
   "mimetype": "text/x-python",
   "name": "python",
   "nbconvert_exporter": "python",
   "pygments_lexer": "ipython3",
   "version": "3.8.8"
  }
 },
 "nbformat": 4,
 "nbformat_minor": 4
}
