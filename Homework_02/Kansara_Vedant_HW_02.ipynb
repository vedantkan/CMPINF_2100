{
 "cells": [
  {
   "cell_type": "markdown",
   "metadata": {},
   "source": [
    "# CMPINF 2100: Homework 02\n",
    "\n",
    "## Vedant Kansara\n",
    "\n",
    "### Assigned: Monday September 13, 2021\n",
    "\n",
    "### DUE: Sunday September 19, 2021 at 11:00PM EST\n",
    "\n",
    "This assignment focuses on creating, manipulating, and working with NumPy arrays. After practicing slicing and operating on arrays you will perform the simulation study from homework 01, but this time using NumPy functions and methods.  \n",
    "\n",
    "You may add as many code and markdown cells as you see fit to answer the questions.\n",
    "\n",
    "#### Write the name of your collaborators here\n",
    "\n",
    "None."
   ]
  },
  {
   "cell_type": "markdown",
   "metadata": {},
   "source": [
    "## Import modules\n",
    "The cell below imports in NumPy as np for you."
   ]
  },
  {
   "cell_type": "code",
   "execution_count": 4,
   "metadata": {},
   "outputs": [],
   "source": [
    "import numpy as np"
   ]
  },
  {
   "cell_type": "markdown",
   "metadata": {},
   "source": [
    "## Problem 01\n",
    "\n",
    "NumPy arrays can be created several different ways. After creating and manipulating a few arrays you will practice using their associated attributes to understand the size and shape of the objects."
   ]
  },
  {
   "cell_type": "markdown",
   "metadata": {},
   "source": [
    "### 1a)\n",
    "\n",
    "Use the `np.arange()` function to create a 1D array of 20 elements starting from 0. Assign the result to the variable `my_1d_array`. Print the data type of `my_1d_array` to the screen."
   ]
  },
  {
   "cell_type": "markdown",
   "metadata": {},
   "source": [
    "#### 1a) - SOLUTION"
   ]
  },
  {
   "cell_type": "code",
   "execution_count": 5,
   "metadata": {},
   "outputs": [
    {
     "name": "stdout",
     "output_type": "stream",
     "text": [
      "<class 'numpy.ndarray'>\n"
     ]
    }
   ],
   "source": [
    "my_1d_array = np.arange(20)\n",
    "print(type(my_1d_array))"
   ]
  },
  {
   "cell_type": "markdown",
   "metadata": {},
   "source": [
    "### 1b)\n",
    "Use an attribute associated with the object to determine the number of dimensions for `my_1d_array`."
   ]
  },
  {
   "cell_type": "markdown",
   "metadata": {},
   "source": [
    "#### 1b) - SOLUTION"
   ]
  },
  {
   "cell_type": "code",
   "execution_count": 6,
   "metadata": {},
   "outputs": [
    {
     "data": {
      "text/plain": [
       "1"
      ]
     },
     "execution_count": 6,
     "metadata": {},
     "output_type": "execute_result"
    }
   ],
   "source": [
    "my_1d_array.ndim"
   ]
  },
  {
   "cell_type": "markdown",
   "metadata": {},
   "source": [
    "### 1c)\n",
    "Use an attribute associate with the `my_1d_array` object to determine its size. What base Python function that we learned about when discussing Python lists would give the same answer as this attribute for the 1D array?"
   ]
  },
  {
   "cell_type": "markdown",
   "metadata": {},
   "source": [
    "#### 1c)- SOLUTION"
   ]
  },
  {
   "cell_type": "code",
   "execution_count": 7,
   "metadata": {},
   "outputs": [
    {
     "data": {
      "text/plain": [
       "20"
      ]
     },
     "execution_count": 7,
     "metadata": {},
     "output_type": "execute_result"
    }
   ],
   "source": [
    "my_1d_array.size"
   ]
  },
  {
   "cell_type": "markdown",
   "metadata": {},
   "source": [
    "We can use `len()` function to get the same answer as `size` attribute for 1D array"
   ]
  },
  {
   "cell_type": "markdown",
   "metadata": {},
   "source": [
    "### 1d)\n",
    "Print the shape attribute associated with the `my_1d_array` object. How is this attribute different from the attribute displayed in Problem 1b)?"
   ]
  },
  {
   "cell_type": "markdown",
   "metadata": {},
   "source": [
    "#### 1d) - SOLUTION"
   ]
  },
  {
   "cell_type": "code",
   "execution_count": 8,
   "metadata": {},
   "outputs": [
    {
     "data": {
      "text/plain": [
       "(20,)"
      ]
     },
     "execution_count": 8,
     "metadata": {},
     "output_type": "execute_result"
    }
   ],
   "source": [
    "my_1d_array.shape"
   ]
  },
  {
   "cell_type": "markdown",
   "metadata": {},
   "source": [
    "What do you think?\n",
    "\n",
    "In problem 1b we get the dimension of the array. The dimension of an array is the number of indices that we need to specify to get an individual element in array. Shape of array is number of elements in each dimension.\n",
    "\n",
    "The calss of `ndim` is *int* whereas the class of `size` is a *tuple*"
   ]
  },
  {
   "cell_type": "markdown",
   "metadata": {},
   "source": [
    "### 1e)\n",
    "Use the `.reshape()` method to reshape the 1D array, `my_1d_array`, into a 2D array with 4 rows and 5 columns. Assign the result to the `my_reshaped_array` object. Print the reshaped object to the screen."
   ]
  },
  {
   "cell_type": "markdown",
   "metadata": {},
   "source": [
    "#### 1e) - SOLUTION"
   ]
  },
  {
   "cell_type": "code",
   "execution_count": 9,
   "metadata": {},
   "outputs": [
    {
     "name": "stdout",
     "output_type": "stream",
     "text": [
      "[[ 0  1  2  3  4]\n",
      " [ 5  6  7  8  9]\n",
      " [10 11 12 13 14]\n",
      " [15 16 17 18 19]]\n"
     ]
    }
   ],
   "source": [
    "my_reshaped_array = my_1d_array.reshape(4,5)\n",
    "print(my_reshaped_array)"
   ]
  },
  {
   "cell_type": "markdown",
   "metadata": {},
   "source": [
    "### 1f)\n",
    "Use attributes of the `my_reshaped_array` object to check the size of the object and the shape. Which of the two attributes gives a different result from the `my_1d_array` object? Why?"
   ]
  },
  {
   "cell_type": "markdown",
   "metadata": {},
   "source": [
    "#### 1f) - SOLUTION"
   ]
  },
  {
   "cell_type": "code",
   "execution_count": 10,
   "metadata": {},
   "outputs": [
    {
     "name": "stdout",
     "output_type": "stream",
     "text": [
      "20\n",
      "(4, 5)\n"
     ]
    }
   ],
   "source": [
    "print(my_reshaped_array.size)\n",
    "print(my_reshaped_array.shape)"
   ]
  },
  {
   "cell_type": "markdown",
   "metadata": {},
   "source": [
    "What do you think?\n",
    "\n",
    "Size gives the total number of elements in the array whereas the shape gives us the number of rows and columns of the array.\n",
    "Since the number of elements are same and we have just changes the shape of the array the attribute `size` remains same and the attribute `shape` changes"
   ]
  },
  {
   "cell_type": "markdown",
   "metadata": {},
   "source": [
    "## Problem 02\n",
    "\n",
    "You will work with creating NumPy arrays from existing lists and then manipulating the resulting arrays, in this problem. The cell below defines two lists for you, `list_of_lists_a` and `list_of_lists_b`. As their variable names state, both are lists of lists. You will work with those two objects in this problem."
   ]
  },
  {
   "cell_type": "code",
   "execution_count": 11,
   "metadata": {},
   "outputs": [],
   "source": [
    "list_of_lists_a = [[0, 0, 0, 0, 0],\n",
    "                  [1, 1, 1, 1, 1],\n",
    "                  [2, 2, 2, 2, 2]]\n",
    "\n",
    "list_of_lists_b = [[3, 3, 3, 3, 3],\n",
    "                  [4, 4, 4, 4, 4]]"
   ]
  },
  {
   "cell_type": "markdown",
   "metadata": {},
   "source": [
    "### 2a)\n",
    "If we create two NumPy arrays from the two lists above, how many rows and columns would you expect the resulting NumPy arrays to have?"
   ]
  },
  {
   "cell_type": "markdown",
   "metadata": {},
   "source": [
    "#### 2a) - SOLUTION"
   ]
  },
  {
   "cell_type": "markdown",
   "metadata": {},
   "source": [
    "What do you think?\n",
    "\n",
    "For `list_of_lists_a` there will be 3 rows and 5 columns \n",
    "\n",
    "For `list_of_lists_b` there will be 2 rows and 5 columns"
   ]
  },
  {
   "cell_type": "markdown",
   "metadata": {},
   "source": [
    "### 2b)\n",
    "Create NumPy arrays from `list_of_lists_a` and `list_of_lists_b`, and assign the new objects to `array_from_list_a` and `array_from_list_b`, respectively. "
   ]
  },
  {
   "cell_type": "markdown",
   "metadata": {},
   "source": [
    "#### 2b) - SOLUTION"
   ]
  },
  {
   "cell_type": "code",
   "execution_count": 12,
   "metadata": {},
   "outputs": [],
   "source": [
    "array_from_list_a = np.array(list_of_lists_a)\n",
    "array_from_list_b = np.array(list_of_lists_b)"
   ]
  },
  {
   "cell_type": "markdown",
   "metadata": {},
   "source": [
    "### 2c)\n",
    "Which attribute can you use to check your result from Problem 2a) on both arrays? Print the result of that attribute to the screen for both array objects."
   ]
  },
  {
   "cell_type": "markdown",
   "metadata": {},
   "source": [
    "#### 2c) - SOLUTION"
   ]
  },
  {
   "cell_type": "markdown",
   "metadata": {},
   "source": [
    "What do you think?"
   ]
  },
  {
   "cell_type": "code",
   "execution_count": 13,
   "metadata": {},
   "outputs": [
    {
     "name": "stdout",
     "output_type": "stream",
     "text": [
      "<class 'numpy.ndarray'>\n",
      "<class 'numpy.ndarray'>\n"
     ]
    }
   ],
   "source": [
    "print(type(array_from_list_a))\n",
    "print(type(array_from_list_b))"
   ]
  },
  {
   "cell_type": "markdown",
   "metadata": {},
   "source": [
    "### 2d)\n",
    "You will now concatenate the `array_from_list_a` and `array_from_list_b` arrays. Stack them vertically and assign the result to the `my_stacked_array`. Would the number of dimensions of `my_stacked_array` be different from either of the arrays you combined to create it? Print the attribute to the screen to check your answer.\n",
    "\n",
    "Be careful which function you use to combine the two arrays."
   ]
  },
  {
   "cell_type": "markdown",
   "metadata": {},
   "source": [
    "#### 2d) - SOLUTION"
   ]
  },
  {
   "cell_type": "code",
   "execution_count": 14,
   "metadata": {},
   "outputs": [
    {
     "name": "stdout",
     "output_type": "stream",
     "text": [
      "[[0 0 0 0 0]\n",
      " [1 1 1 1 1]\n",
      " [2 2 2 2 2]\n",
      " [3 3 3 3 3]\n",
      " [4 4 4 4 4]]\n",
      "2\n"
     ]
    }
   ],
   "source": [
    "my_stacked_array = np.vstack((array_from_list_a, array_from_list_b))\n",
    "print(my_stacked_array)\n",
    "print(my_stacked_array.ndim)"
   ]
  },
  {
   "cell_type": "markdown",
   "metadata": {},
   "source": [
    "What do you think?\n",
    "\n",
    "No the dimesion would remain the same as both are 2-D array. We are just staking array a and array b so just the shape of array would change."
   ]
  },
  {
   "cell_type": "markdown",
   "metadata": {},
   "source": [
    "### 2e)\n",
    "Slice the `my_stacked_array` array by selecting all but the last row and the first two columns. Assign the result to the variable `my_subset_array`. Print the `my_subset_array` array to the screen."
   ]
  },
  {
   "cell_type": "markdown",
   "metadata": {},
   "source": [
    "#### 2e) - SOLUTION"
   ]
  },
  {
   "cell_type": "code",
   "execution_count": 15,
   "metadata": {},
   "outputs": [
    {
     "name": "stdout",
     "output_type": "stream",
     "text": [
      "[[0 0]\n",
      " [1 1]\n",
      " [2 2]\n",
      " [3 3]]\n"
     ]
    }
   ],
   "source": [
    "my_subset_array = my_stacked_array[:4,:2] \n",
    "print(my_subset_array)"
   ]
  },
  {
   "cell_type": "markdown",
   "metadata": {},
   "source": [
    "### 2f)\n",
    "Assign the zeroth row and zeroth column in `my_subset_array` to be equal to -99 and assign the last row and last column in `my_subset_array` to be equal to -99. Print the `my_subset_array` array to the screen."
   ]
  },
  {
   "cell_type": "markdown",
   "metadata": {},
   "source": [
    "#### 2f) - SOLUTION"
   ]
  },
  {
   "cell_type": "code",
   "execution_count": 16,
   "metadata": {},
   "outputs": [
    {
     "name": "stdout",
     "output_type": "stream",
     "text": [
      "[[-99   0]\n",
      " [  1   1]\n",
      " [  2   2]\n",
      " [  3 -99]]\n"
     ]
    }
   ],
   "source": [
    "my_subset_array[0, 0] = -99\n",
    "my_subset_array[3,1] = -99\n",
    "print(my_subset_array)"
   ]
  },
  {
   "cell_type": "markdown",
   "metadata": {},
   "source": [
    "### 2g)\n",
    "Did your action in Problem 2f) change the `my_stacked_array` array? Why or why not? Print `my_stacked array` to the screen to confirm you are correct. "
   ]
  },
  {
   "cell_type": "markdown",
   "metadata": {},
   "source": [
    "#### 2g) - SOLUTION"
   ]
  },
  {
   "cell_type": "markdown",
   "metadata": {},
   "source": [
    "What do you think?\n",
    "\n",
    "Yes it changes the value in `my_stacked_array` too because right now when we are sub-setting we are just giving the pointer address of the original `my_stacked_array` and not making a hard or deep copy. So when we change the value of the sub-set the value in the original array would also change because both things are pointing at the same locaiton or address"
   ]
  },
  {
   "cell_type": "code",
   "execution_count": 17,
   "metadata": {},
   "outputs": [
    {
     "name": "stdout",
     "output_type": "stream",
     "text": [
      "[[-99   0   0   0   0]\n",
      " [  1   1   1   1   1]\n",
      " [  2   2   2   2   2]\n",
      " [  3 -99   3   3   3]\n",
      " [  4   4   4   4   4]]\n",
      "[[-99   0]\n",
      " [  1   1]\n",
      " [  2   2]\n",
      " [  3 -99]]\n"
     ]
    }
   ],
   "source": [
    "print(my_stacked_array)\n",
    "print(my_subset_array)"
   ]
  },
  {
   "cell_type": "markdown",
   "metadata": {},
   "source": [
    "## Problem 03\n",
    "\n",
    "In this problem you will practice performing data splitting and summarizing operations similar to those that you will work with in a data analysis project. The cell below creates a list of lists for you. Once you convert that object to a NumPy array, the structure will be such that the rows correspond to observations and the columns represent variables. The last column of the NumPy array will be assumed to correspond to a response, as is common to do in practice."
   ]
  },
  {
   "cell_type": "code",
   "execution_count": 18,
   "metadata": {},
   "outputs": [],
   "source": [
    "list_of_lists_3 = [[1, -2, 3, 7], [2, 2, -1, 12], [3, 0, 2, 10], \n",
    "                   [4, -3, 1, 6], [5, -3, 2, 8], [6, 1, 2, 10], \n",
    "                   [7, 0, -1, 9], [8, 5, -3, 12], [9, -4, 5, 15]]"
   ]
  },
  {
   "cell_type": "markdown",
   "metadata": {},
   "source": [
    "### 3a)\n",
    "Create an array from the `list_of_lists_3` object and assign the result to the `mat_all` object. How many rows and columns does the `mat_all` object have?"
   ]
  },
  {
   "cell_type": "markdown",
   "metadata": {},
   "source": [
    "#### 3a) - SOLUTION"
   ]
  },
  {
   "cell_type": "code",
   "execution_count": 19,
   "metadata": {},
   "outputs": [
    {
     "name": "stdout",
     "output_type": "stream",
     "text": [
      "(9, 4)\n"
     ]
    }
   ],
   "source": [
    "mat_all = np.array(list_of_lists_3)\n",
    "print(mat_all.shape)"
   ]
  },
  {
   "cell_type": "markdown",
   "metadata": {},
   "source": [
    "### 3b)\n",
    "In week 01 of the semester, we discussed the importance of data splitting in evaluating predictive model performance. You will approximate a data splitting operation here by slicing the `mat_all` into separate \"training\" and \"test\" sets. The \"training set\" must correspond to slicing every other row from `mat_all` starting from the zeroth row. The \"test set\" must correspond to the slicing every other row from `mat_all` starting from the first row. \n",
    "\n",
    "Assign the training set to the `mat_train` object and the test set to the `mat_test` object. Print the two objects to screen to confirm you sliced `mat_all` correctly."
   ]
  },
  {
   "cell_type": "markdown",
   "metadata": {},
   "source": [
    "#### 3b) - SOLUTION"
   ]
  },
  {
   "cell_type": "code",
   "execution_count": 20,
   "metadata": {},
   "outputs": [
    {
     "name": "stdout",
     "output_type": "stream",
     "text": [
      "[[ 1 -2  3  7]\n",
      " [ 3  0  2 10]\n",
      " [ 5 -3  2  8]\n",
      " [ 7  0 -1  9]\n",
      " [ 9 -4  5 15]]\n",
      "---------\n",
      "[[ 2  2 -1 12]\n",
      " [ 4 -3  1  6]\n",
      " [ 6  1  2 10]\n",
      " [ 8  5 -3 12]]\n"
     ]
    }
   ],
   "source": [
    "mat_train = mat_all[::2]\n",
    "print(mat_train)\n",
    "mat_test = mat_all[1::2]\n",
    "print('---------')\n",
    "print(mat_test)"
   ]
  },
  {
   "cell_type": "markdown",
   "metadata": {},
   "source": [
    "### 3c)\n",
    "As mentioned earlier, the last column in the array is assumed to be the response (output) variable of interest. You must take the `mat_train` and `mat_test` objects from Problem 3b) and separate them into the training inputs, training output, test inputs, and test output. \n",
    "\n",
    "Thus, you must extract the first 3 columns of the `mat_train` and `mat_test` objects and assign the input variables to the `x_train` and `x_test` objects, respectively. You must also extract the last column of `mat_train` and `mat_test` and assign the responses to the `y_train` and `y_test` objects.\n",
    "\n",
    "Print the `x_train` and `y_train` objects to confirm you separated the inputs correctly."
   ]
  },
  {
   "cell_type": "markdown",
   "metadata": {},
   "source": [
    "#### 3c) - SOLUTION"
   ]
  },
  {
   "cell_type": "code",
   "execution_count": 21,
   "metadata": {},
   "outputs": [
    {
     "name": "stdout",
     "output_type": "stream",
     "text": [
      "[[ 1 -2  3]\n",
      " [ 3  0  2]\n",
      " [ 5 -3  2]\n",
      " [ 7  0 -1]\n",
      " [ 9 -4  5]]\n",
      "-----\n",
      "[ 7 10  8  9 15]\n"
     ]
    }
   ],
   "source": [
    "x_train = mat_train[:,:3]\n",
    "x_test = mat_test[:,:3]\n",
    "y_train = mat_train[:,-1]\n",
    "y_test = mat_test[:,-1]\n",
    "print(x_train)\n",
    "print('-----')\n",
    "print(y_train)"
   ]
  },
  {
   "cell_type": "markdown",
   "metadata": {},
   "source": [
    "### 3d)\n",
    "An important part of Exploratory Data Analysis (EDA) is to examine summary statistics about our different variables. Use methods associated with the NumPy objects to determine the sample averages associated with each input on the training and test sets. How do the sample averages compare between the train and test sets for the different variables.  \n",
    "\n",
    "*NOTE*: you do not have to consider the standard error on the averages in this problem. Just consider the sample average estimates."
   ]
  },
  {
   "cell_type": "markdown",
   "metadata": {},
   "source": [
    "#### 3d) - SOLUTION"
   ]
  },
  {
   "cell_type": "markdown",
   "metadata": {},
   "source": [
    "What do you think?"
   ]
  },
  {
   "cell_type": "code",
   "execution_count": 25,
   "metadata": {},
   "outputs": [
    {
     "name": "stdout",
     "output_type": "stream",
     "text": [
      "[0.66666667 1.66666667 1.33333333 2.         3.33333333]\n",
      "-----\n",
      "[1.         0.66666667 3.         3.33333333]\n"
     ]
    }
   ],
   "source": [
    "print(x_train.mean(axis=1))\n",
    "print('-----')\n",
    "print(x_test.mean(axis=1))"
   ]
  },
  {
   "cell_type": "markdown",
   "metadata": {},
   "source": [
    "### 3e)\n",
    "Next, calculate the standard deviation associated with each input in the training set and then the test set. How does the standard deviation compare between the two data sets?"
   ]
  },
  {
   "cell_type": "markdown",
   "metadata": {},
   "source": [
    "#### 3e) - SOLUTION"
   ]
  },
  {
   "cell_type": "code",
   "execution_count": 27,
   "metadata": {},
   "outputs": [
    {
     "name": "stdout",
     "output_type": "stream",
     "text": [
      "[2.51661148 1.52752523 4.04145188 4.35889894 6.65832812]\n",
      "-----\n",
      "[1.73205081 3.51188458 2.64575131 5.6862407 ]\n"
     ]
    }
   ],
   "source": [
    "print(x_train.std(axis=1,ddof=1))\n",
    "print('-----')\n",
    "print(x_test.std(axis=1,ddof=1))"
   ]
  },
  {
   "cell_type": "markdown",
   "metadata": {},
   "source": [
    "What do you think?"
   ]
  },
  {
   "cell_type": "markdown",
   "metadata": {},
   "source": [
    "## Problem 04\n",
    "\n",
    "You performed a simulation in Homework 01 to estimate the standard error on the mean. The **sampling distribution** was Gaussian with mean equal to 100 and standard deviation of 25. You estimated the standard error as a function of sample size using 5000 replications in the simulation.  \n",
    "\n",
    "You will perform another simulation with the same set of sample sizes and the same number of replications. However, this time you must use NumPy arrays and methods to generate the random samples, calculate the mean for each replication, and calcualte the standard deviation across all replications. You may use a for-loop or a list comprehension to iterate over the desired sample size values. The random number generation itself should **not** occur with iteration. You must generate NumPy arrays of the correct size and shape.\n",
    "\n",
    "You must use the the `np.arange()` function create the 1D array of sample size values to consider. The formula I have been using to create the sample size is:  \n",
    "\n",
    "$$ \\mathrm{sample\\ size} = 5 \\times \\left( 2 ^{p} \\right) $$\n",
    "\n",
    "where $p$ must be a 1D array from 0 to (but not including) 12.\n",
    "\n",
    "You should plot your estimated standard error on the mean as a function of the sample size using `matplotlib.pyplot`."
   ]
  },
  {
   "cell_type": "markdown",
   "metadata": {},
   "source": [
    "#### 4 - SOLUTION"
   ]
  },
  {
   "cell_type": "code",
   "execution_count": 28,
   "metadata": {},
   "outputs": [],
   "source": [
    "### create the array for the sample size and save to the following object\n",
    "sample_size_use = 5 * (2 ** np.arange(12))"
   ]
  },
  {
   "cell_type": "code",
   "execution_count": 31,
   "metadata": {},
   "outputs": [],
   "source": [
    "se_vs_sample_size = [ np.random.normal(100, 25, size=(5000,nns)).mean(axis=1).std(ddof=1) for nns in list(sample_size_use) ]"
   ]
  },
  {
   "cell_type": "code",
   "execution_count": 32,
   "metadata": {},
   "outputs": [],
   "source": [
    "import matplotlib.pyplot as plt"
   ]
  },
  {
   "cell_type": "code",
   "execution_count": 33,
   "metadata": {},
   "outputs": [
    {
     "data": {
      "image/png": "[encoded data removed]",
      "text/plain": [
       "<Figure size 864x432 with 1 Axes>"
      ]
     },
     "metadata": {
      "needs_background": "light"
     },
     "output_type": "display_data"
    }
   ],
   "source": [
    "fig, ax = plt.subplots(figsize=(12,6))\n",
    "\n",
    "ax.plot(sample_size_use, se_vs_sample_size, '-o')\n",
    "ax.set_xscale('log')\n",
    "ax.set_xlabel('sample size')\n",
    "ax.set_ylabel('standard error on the average')\n",
    "ax.grid(True)\n",
    "plt.show()"
   ]
  },
  {
   "cell_type": "markdown",
   "metadata": {},
   "source": [
    "## Problem 05\n",
    "\n",
    "The homework assignments up to this point have focused on the programming skills and concepts discussed in the readings and lecture. This problem however will get you started thinking about the final project. Video recordings are available on Canvas which discuss the potential projects you could work on. Multiple options are available. For this assignment, you must select 2 projects. You must watch their respective video recordings, and answer the following:\n",
    "\n",
    "* What interested you the most about that potential project?\n",
    "* What are you personally hoping to learn from working on the project?\n",
    "* From the discussion provided in the recording, what data types do you think will play an important role in the project?\n",
    "\n",
    "**NOTE:** Videos will be uploaded to Canvas by Wednesday."
   ]
  },
  {
   "cell_type": "markdown",
   "metadata": {},
   "source": [
    "#### 5 - SOLUTION"
   ]
  },
  {
   "cell_type": "markdown",
   "metadata": {},
   "source": [
    "What do you think?"
   ]
  },
  {
   "cell_type": "markdown",
   "metadata": {},
   "source": [
    "*PPG: Customer Churn Prediction*\n",
    " \n",
    "I really liked the idea of predicting if a customer would be leaving the company based on his buying patterns. Like for every company customers are important and bringing in new customers is good but holding on to the existing customers base is also important.\n",
    "\n",
    "From what I understand this can give us the idea like if recently if there has been something wrong with the product or if we are not able to update the products which meets customer's new requirements. So basically we need to find a reason for what broke the trust of the customer towards the company.\n",
    "\n",
    "As decribed in the video as they will be providing us with the sales transiction history I think we will work with integers most of the time as sales numbers are whole numbers.\n",
    "\n",
    "*University of Pittsburgh: Battery research with Dr. Prashant Kumta*\n",
    "\n",
    "I have always been fascinated by elctric cars. The other technologies in electric car like motor, the drive train and all have developed significantly but the only thing holding back right now is the battery technology. Like the range of car is one of the issue which makes a customer skeptical but also the lifetime of the battery is important. Like how many complete cycles can the battry make without degrading the capacity. \n",
    "\n",
    "So working on such project I fell will bring me closer technological advancement in this particular area anf so is very fascinating.\n",
    "\n",
    "I guess double will paly an importatn role in this project"
   ]
  }
 ],
 "metadata": {
  "kernelspec": {
   "display_name": "Python 3 (ipykernel)",
   "language": "python",
   "name": "python3"
  },
  "language_info": {
   "codemirror_mode": {
    "name": "ipython",
    "version": 3
   },
   "file_extension": ".py",
   "mimetype": "text/x-python",
   "name": "python",
   "nbconvert_exporter": "python",
   "pygments_lexer": "ipython3",
   "version": "3.8.11"
  }
 },
 "nbformat": 4,
 "nbformat_minor": 4
}
