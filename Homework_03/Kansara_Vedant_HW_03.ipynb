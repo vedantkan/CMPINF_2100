{
 "cells": [
  {
   "cell_type": "markdown",
   "metadata": {},
   "source": [
    "# CMPINF 2100: Homework 03\n",
    "\n",
    "## Vedant Kansara\n",
    "\n",
    "### Assigned: Monday September 20, 2021\n",
    "\n",
    "### DUE: Sunday September 26, 2021 at 11:00PM EST\n",
    "\n",
    "This assignment focuses on creating, manipulating, and working with Pandas data frames.   \n",
    "\n",
    "You may add as many code and markdown cells as you see fit to answer the questions.\n",
    "\n",
    "#### Write the name of your collaborators here\n",
    "\n",
    "None."
   ]
  },
  {
   "cell_type": "markdown",
   "metadata": {},
   "source": [
    "## Problem 00\n",
    "\n",
    "Import the NumPy and Pandas modules using their conventional aliases.  "
   ]
  },
  {
   "cell_type": "code",
   "execution_count": 1,
   "metadata": {},
   "outputs": [],
   "source": [
    "import numpy as np\n",
    "import pandas as pd"
   ]
  },
  {
   "cell_type": "markdown",
   "metadata": {},
   "source": [
    "## Problem 01\n",
    "You will practice creating Pandas Series objects and how to use basic attributes."
   ]
  },
  {
   "cell_type": "markdown",
   "metadata": {},
   "source": [
    "### 1a)\n",
    "In the cell below, create a list of integers between 1 and 5 and assign the result to the variable `my_list`. Convert the `my_list` object into a Pandas Series object and assign the result to the variable `my_series`. Print the `my_list` list and the `my_series` Series objects to the screen.  "
   ]
  },
  {
   "cell_type": "markdown",
   "metadata": {},
   "source": [
    "#### 1a) - SOLUTION"
   ]
  },
  {
   "cell_type": "code",
   "execution_count": 3,
   "metadata": {},
   "outputs": [
    {
     "name": "stdout",
     "output_type": "stream",
     "text": [
      "[1, 2, 3, 4, 5]\n",
      "-----\n",
      "   0\n",
      "0  1\n",
      "1  2\n",
      "2  3\n",
      "3  4\n",
      "4  5\n"
     ]
    }
   ],
   "source": [
    "my_list = [1, 2, 3, 4, 5]\n",
    "print(my_list)\n",
    "print('-----')\n",
    "my_series = pd.DataFrame(my_list)\n",
    "print(my_series)\n"
   ]
  },
  {
   "cell_type": "markdown",
   "metadata": {},
   "source": [
    "### 1b)\n",
    "Your print display of the list and the Series objects should be different. The series should display what looks to be 2 columns. The left most \"column\" is actually an index not a value stored in the Series.  \n",
    "\n",
    "We can examine what this index is using the `.index` attribute. Print the `.index` attribute associated with `my_series` to the screen."
   ]
  },
  {
   "cell_type": "markdown",
   "metadata": {},
   "source": [
    "#### 1b) - SOLUTION"
   ]
  },
  {
   "cell_type": "code",
   "execution_count": 4,
   "metadata": {},
   "outputs": [
    {
     "data": {
      "text/plain": [
       "RangeIndex(start=0, stop=5, step=1)"
      ]
     },
     "execution_count": 4,
     "metadata": {},
     "output_type": "execute_result"
    }
   ],
   "source": [
    "my_series.index"
   ]
  },
  {
   "cell_type": "markdown",
   "metadata": {},
   "source": [
    "### 1c)\n",
    "We can modify the index to a Series by assigning an object to the `.index` attribute. In this problem you will create a list of `str`s. That list should contain the letters `'a'` through `'e'`. Assign the list to the `my_letter_index` object.  \n",
    "\n",
    "Assign the `my_letter_index` list to the `.index` attribute associated with `my_series`. Print the `my_series` object to the screen."
   ]
  },
  {
   "cell_type": "markdown",
   "metadata": {},
   "source": [
    "#### 1c) - SOLUTION"
   ]
  },
  {
   "cell_type": "code",
   "execution_count": 5,
   "metadata": {},
   "outputs": [
    {
     "name": "stdout",
     "output_type": "stream",
     "text": [
      "   0\n",
      "a  1\n",
      "b  2\n",
      "c  3\n",
      "d  4\n",
      "e  5\n"
     ]
    }
   ],
   "source": [
    "my_letter_index = ['a','b','c','d','e']\n",
    "my_series.index = my_letter_index\n",
    "print(my_series)"
   ]
  },
  {
   "cell_type": "markdown",
   "metadata": {},
   "source": [
    "### 1d)\n",
    "There are multiple ways to access values within a Pandas Series object. We can index and slice a Series like a NumPy array. However, the more formal and correct approach is to use the attributes and methods associated with the Series object.  \n",
    "\n",
    "The `.iloc[]` attribute allows indexing and slicing by the index integer in the Series. You must pass in the integer position you wish to subset into the `.iloc[]` method. You can pass in a single value or multiple values in order to slice the Series.  \n",
    "\n",
    "Use the `.iloc[]` method to subset the 0 index from `my_series` and print the result to screen. "
   ]
  },
  {
   "cell_type": "markdown",
   "metadata": {},
   "source": [
    "#### 1d) - SOLUTION"
   ]
  },
  {
   "cell_type": "code",
   "execution_count": 6,
   "metadata": {},
   "outputs": [
    {
     "data": {
      "text/plain": [
       "0    1\n",
       "Name: a, dtype: int64"
      ]
     },
     "execution_count": 6,
     "metadata": {},
     "output_type": "execute_result"
    }
   ],
   "source": [
    "my_series.iloc[0]"
   ]
  },
  {
   "cell_type": "markdown",
   "metadata": {},
   "source": [
    "### 1e)\n",
    "Now subset the first 3 elements from `my_series` using the `.iloc[]` method, and print the result to the screen."
   ]
  },
  {
   "cell_type": "markdown",
   "metadata": {},
   "source": [
    "#### 1e) - SOLUTION"
   ]
  },
  {
   "cell_type": "code",
   "execution_count": 7,
   "metadata": {},
   "outputs": [
    {
     "data": {
      "text/html": [
       "<div>\n",
       "<style scoped>\n",
       "    .dataframe tbody tr th:only-of-type {\n",
       "        vertical-align: middle;\n",
       "    }\n",
       "\n",
       "    .dataframe tbody tr th {\n",
       "        vertical-align: top;\n",
       "    }\n",
       "\n",
       "    .dataframe thead th {\n",
       "        text-align: right;\n",
       "    }\n",
       "</style>\n",
       "<table border=\"1\" class=\"dataframe\">\n",
       "  <thead>\n",
       "    <tr style=\"text-align: right;\">\n",
       "      <th></th>\n",
       "      <th>0</th>\n",
       "    </tr>\n",
       "  </thead>\n",
       "  <tbody>\n",
       "    <tr>\n",
       "      <th>a</th>\n",
       "      <td>1</td>\n",
       "    </tr>\n",
       "    <tr>\n",
       "      <th>b</th>\n",
       "      <td>2</td>\n",
       "    </tr>\n",
       "    <tr>\n",
       "      <th>c</th>\n",
       "      <td>3</td>\n",
       "    </tr>\n",
       "  </tbody>\n",
       "</table>\n",
       "</div>"
      ],
      "text/plain": [
       "   0\n",
       "a  1\n",
       "b  2\n",
       "c  3"
      ]
     },
     "execution_count": 7,
     "metadata": {},
     "output_type": "execute_result"
    }
   ],
   "source": [
    "my_series[0:3]"
   ]
  },
  {
   "cell_type": "markdown",
   "metadata": {},
   "source": [
    "### 1f)\n",
    "The `.iloc[]` method is useful when we know the exact integer index position(s) of interest. However, we can also use the index label to subset a Series via the `.loc[]` method.  \n",
    "\n",
    "Remember that you changed the index in `my_series` to the letters `'a'` through `'e'`. Use the `.loc[]` attribute to access the value associated with the `'a'` index, and print the result to the screen."
   ]
  },
  {
   "cell_type": "markdown",
   "metadata": {},
   "source": [
    "#### 1f) - SOLUTION"
   ]
  },
  {
   "cell_type": "code",
   "execution_count": 8,
   "metadata": {},
   "outputs": [
    {
     "data": {
      "text/plain": [
       "0    1\n",
       "Name: a, dtype: int64"
      ]
     },
     "execution_count": 8,
     "metadata": {},
     "output_type": "execute_result"
    }
   ],
   "source": [
    "my_series.loc['a']"
   ]
  },
  {
   "cell_type": "markdown",
   "metadata": {},
   "source": [
    "### 1g)\n",
    "You can slice multiple values from the Series by passing in a list of index labels. Pass in the list, `['a', 'b', 'c']`, into the `.loc[]` attribute of `my_series` to subset the first three values. Print the result to the screen."
   ]
  },
  {
   "cell_type": "code",
   "execution_count": 9,
   "metadata": {},
   "outputs": [
    {
     "data": {
      "text/html": [
       "<div>\n",
       "<style scoped>\n",
       "    .dataframe tbody tr th:only-of-type {\n",
       "        vertical-align: middle;\n",
       "    }\n",
       "\n",
       "    .dataframe tbody tr th {\n",
       "        vertical-align: top;\n",
       "    }\n",
       "\n",
       "    .dataframe thead th {\n",
       "        text-align: right;\n",
       "    }\n",
       "</style>\n",
       "<table border=\"1\" class=\"dataframe\">\n",
       "  <thead>\n",
       "    <tr style=\"text-align: right;\">\n",
       "      <th></th>\n",
       "      <th>0</th>\n",
       "    </tr>\n",
       "  </thead>\n",
       "  <tbody>\n",
       "    <tr>\n",
       "      <th>a</th>\n",
       "      <td>1</td>\n",
       "    </tr>\n",
       "    <tr>\n",
       "      <th>b</th>\n",
       "      <td>2</td>\n",
       "    </tr>\n",
       "    <tr>\n",
       "      <th>c</th>\n",
       "      <td>3</td>\n",
       "    </tr>\n",
       "  </tbody>\n",
       "</table>\n",
       "</div>"
      ],
      "text/plain": [
       "   0\n",
       "a  1\n",
       "b  2\n",
       "c  3"
      ]
     },
     "execution_count": 9,
     "metadata": {},
     "output_type": "execute_result"
    }
   ],
   "source": [
    "my_series.loc[['a','b','c']]"
   ]
  },
  {
   "cell_type": "markdown",
   "metadata": {},
   "source": [
    "## Problem 2\n",
    "You will practice creating Pandas DataFrames objects in this problem."
   ]
  },
  {
   "cell_type": "markdown",
   "metadata": {},
   "source": [
    "### 2a)\n",
    "The Pandas DataFrame can be created from a Python `dict` object. In the cell below you must create a dictionary with 3 KEY/VALUE pairs. The first item should have the KEY `'letters'` with VALUE as a list of `str` with letters `'a'` through `'e'`. The second item should have the KEY `'integers'` with VALUE as a list of integers `1` through `5`. The third item should have a KEY `'floats'` with VALUE as a list of floating point numbers (decimals) `1.0` through `5.0`. Assign the result to `my_dictionary`.\n",
    "\n",
    "Print `my_dictionary` to the screen."
   ]
  },
  {
   "cell_type": "markdown",
   "metadata": {},
   "source": [
    "#### 2a) - SOLUTION"
   ]
  },
  {
   "cell_type": "code",
   "execution_count": 10,
   "metadata": {},
   "outputs": [
    {
     "name": "stdout",
     "output_type": "stream",
     "text": [
      "{'letters': ['a', 'b', 'c', 'd', 'e'], 'integers': [1, 2, 3, 4, 5], 'floats': [1.0, 2.0, 3.0, 4.0, 5.0]}\n"
     ]
    }
   ],
   "source": [
    "my_dictionary = {\"letters\" : ['a','b','c','d','e'],\n",
    "                 \"integers\" : [1, 2, 3, 4, 5],\n",
    "                 \"floats\" :[1.0, 2.0, 3.0, 4.0, 5.0]\n",
    "                }\n",
    "print(my_dictionary)"
   ]
  },
  {
   "cell_type": "markdown",
   "metadata": {},
   "source": [
    "### 2b)\n",
    "Convert `my_dictionary` into a Pandas DataFrame object and assign the result to the `my_df` object. Print the `my_df` object to the screen."
   ]
  },
  {
   "cell_type": "markdown",
   "metadata": {},
   "source": [
    "#### 2b) - SOLUTION"
   ]
  },
  {
   "cell_type": "code",
   "execution_count": 11,
   "metadata": {},
   "outputs": [
    {
     "data": {
      "text/html": [
       "<div>\n",
       "<style scoped>\n",
       "    .dataframe tbody tr th:only-of-type {\n",
       "        vertical-align: middle;\n",
       "    }\n",
       "\n",
       "    .dataframe tbody tr th {\n",
       "        vertical-align: top;\n",
       "    }\n",
       "\n",
       "    .dataframe thead th {\n",
       "        text-align: right;\n",
       "    }\n",
       "</style>\n",
       "<table border=\"1\" class=\"dataframe\">\n",
       "  <thead>\n",
       "    <tr style=\"text-align: right;\">\n",
       "      <th></th>\n",
       "      <th>letters</th>\n",
       "      <th>integers</th>\n",
       "      <th>floats</th>\n",
       "    </tr>\n",
       "  </thead>\n",
       "  <tbody>\n",
       "    <tr>\n",
       "      <th>0</th>\n",
       "      <td>a</td>\n",
       "      <td>1</td>\n",
       "      <td>1.0</td>\n",
       "    </tr>\n",
       "    <tr>\n",
       "      <th>1</th>\n",
       "      <td>b</td>\n",
       "      <td>2</td>\n",
       "      <td>2.0</td>\n",
       "    </tr>\n",
       "    <tr>\n",
       "      <th>2</th>\n",
       "      <td>c</td>\n",
       "      <td>3</td>\n",
       "      <td>3.0</td>\n",
       "    </tr>\n",
       "    <tr>\n",
       "      <th>3</th>\n",
       "      <td>d</td>\n",
       "      <td>4</td>\n",
       "      <td>4.0</td>\n",
       "    </tr>\n",
       "    <tr>\n",
       "      <th>4</th>\n",
       "      <td>e</td>\n",
       "      <td>5</td>\n",
       "      <td>5.0</td>\n",
       "    </tr>\n",
       "  </tbody>\n",
       "</table>\n",
       "</div>"
      ],
      "text/plain": [
       "  letters  integers  floats\n",
       "0       a         1     1.0\n",
       "1       b         2     2.0\n",
       "2       c         3     3.0\n",
       "3       d         4     4.0\n",
       "4       e         5     5.0"
      ]
     },
     "execution_count": 11,
     "metadata": {},
     "output_type": "execute_result"
    }
   ],
   "source": [
    "my_df = pd.DataFrame(my_dictionary)\n",
    "my_df"
   ]
  },
  {
   "cell_type": "markdown",
   "metadata": {},
   "source": [
    "### 2c)\n",
    "You should see a difference in the print out between the dictionary and the DataFrame. The dictionary KEYs are treated differently from the other values in the DataFrame. What do the KEYs look like in the DataFrame print out?"
   ]
  },
  {
   "cell_type": "markdown",
   "metadata": {},
   "source": [
    "#### 2c) - SOLUTION\n"
   ]
  },
  {
   "cell_type": "markdown",
   "metadata": {},
   "source": [
    "The keys in the dictionary becomes the column names in data frame"
   ]
  },
  {
   "cell_type": "markdown",
   "metadata": {},
   "source": [
    "### 2d)\n",
    "We can directly select columns in the DataFrame through the KEY labels by passing the KEY into `[]`. Select the `'letters'` column and print the result to the screen."
   ]
  },
  {
   "cell_type": "markdown",
   "metadata": {},
   "source": [
    "#### 2d) - SOLUTION"
   ]
  },
  {
   "cell_type": "code",
   "execution_count": 12,
   "metadata": {},
   "outputs": [
    {
     "data": {
      "text/plain": [
       "0    a\n",
       "1    b\n",
       "2    c\n",
       "3    d\n",
       "4    e\n",
       "Name: letters, dtype: object"
      ]
     },
     "execution_count": 12,
     "metadata": {},
     "output_type": "execute_result"
    }
   ],
   "source": [
    "my_df['letters']"
   ]
  },
  {
   "cell_type": "markdown",
   "metadata": {},
   "source": [
    "### 2e)\n",
    "We can access multiple columns by passing a list of KEYs into `[]`. Select the `'letters'` and the `'floats'` columns and output the result to screen. Do **NOT** use the `print()` function this time."
   ]
  },
  {
   "cell_type": "markdown",
   "metadata": {},
   "source": [
    "#### 2e) - SOLUTION"
   ]
  },
  {
   "cell_type": "code",
   "execution_count": 13,
   "metadata": {},
   "outputs": [
    {
     "name": "stdout",
     "output_type": "stream",
     "text": [
      "  letters  floats\n",
      "0       a     1.0\n",
      "1       b     2.0\n",
      "2       c     3.0\n",
      "3       d     4.0\n",
      "4       e     5.0\n"
     ]
    }
   ],
   "source": [
    "print(my_df[['letters','floats']])"
   ]
  },
  {
   "cell_type": "markdown",
   "metadata": {},
   "source": [
    "### 2f)\n",
    "The more formal approach to selecting columns is to use the `.loc[]` attribute. Since the DataFrame is multidimensional, consisting of rows and columns, row labels and column labels must be passed into `.loc[]`. Thus, the `:` operator is important to use when we wish to select all values from one of the two dimensions.  \n",
    "\n",
    "Select the `'letters'` and `'floats'` columns again, but this time use the `.loc[]` method. Perform this operation twice once within the `print()` function and once without the `print()` function where you output the result to the screen directly."
   ]
  },
  {
   "cell_type": "markdown",
   "metadata": {},
   "source": [
    "#### 2f) - SOLUTION"
   ]
  },
  {
   "cell_type": "code",
   "execution_count": 14,
   "metadata": {},
   "outputs": [
    {
     "name": "stdout",
     "output_type": "stream",
     "text": [
      "  letters  floats\n",
      "0       a     1.0\n",
      "1       b     2.0\n",
      "2       c     3.0\n",
      "3       d     4.0\n",
      "4       e     5.0\n"
     ]
    }
   ],
   "source": [
    "### within the print() function\n",
    "print(my_df.loc[:,[\"letters\",\"floats\"]])"
   ]
  },
  {
   "cell_type": "code",
   "execution_count": 15,
   "metadata": {},
   "outputs": [
    {
     "data": {
      "text/html": [
       "<div>\n",
       "<style scoped>\n",
       "    .dataframe tbody tr th:only-of-type {\n",
       "        vertical-align: middle;\n",
       "    }\n",
       "\n",
       "    .dataframe tbody tr th {\n",
       "        vertical-align: top;\n",
       "    }\n",
       "\n",
       "    .dataframe thead th {\n",
       "        text-align: right;\n",
       "    }\n",
       "</style>\n",
       "<table border=\"1\" class=\"dataframe\">\n",
       "  <thead>\n",
       "    <tr style=\"text-align: right;\">\n",
       "      <th></th>\n",
       "      <th>letters</th>\n",
       "      <th>floats</th>\n",
       "    </tr>\n",
       "  </thead>\n",
       "  <tbody>\n",
       "    <tr>\n",
       "      <th>0</th>\n",
       "      <td>a</td>\n",
       "      <td>1.0</td>\n",
       "    </tr>\n",
       "    <tr>\n",
       "      <th>1</th>\n",
       "      <td>b</td>\n",
       "      <td>2.0</td>\n",
       "    </tr>\n",
       "    <tr>\n",
       "      <th>2</th>\n",
       "      <td>c</td>\n",
       "      <td>3.0</td>\n",
       "    </tr>\n",
       "    <tr>\n",
       "      <th>3</th>\n",
       "      <td>d</td>\n",
       "      <td>4.0</td>\n",
       "    </tr>\n",
       "    <tr>\n",
       "      <th>4</th>\n",
       "      <td>e</td>\n",
       "      <td>5.0</td>\n",
       "    </tr>\n",
       "  </tbody>\n",
       "</table>\n",
       "</div>"
      ],
      "text/plain": [
       "  letters  floats\n",
       "0       a     1.0\n",
       "1       b     2.0\n",
       "2       c     3.0\n",
       "3       d     4.0\n",
       "4       e     5.0"
      ]
     },
     "execution_count": 15,
     "metadata": {},
     "output_type": "execute_result"
    }
   ],
   "source": [
    "### without the print() function\n",
    "my_df.loc[:,[\"letters\",\"floats\"]]"
   ]
  },
  {
   "cell_type": "markdown",
   "metadata": {},
   "source": [
    "## Problem 3\n",
    "In Problem 2, you worked through different approaches to selecting columns from a DataFrame. You will now consider different approaches to slice or subset a DataFrame. Slicing DataFrames is similar to slicing Series objects (as you worked through in Problem 1). Let's get some more practice but also considering how to filter a DataFrame conditioned on the values of variables within the DataFrame."
   ]
  },
  {
   "cell_type": "markdown",
   "metadata": {},
   "source": [
    "### 3a)\n",
    "The `.iloc[]` attribute of a DataFrame allows slicing the rows based on the index integer. If you want to keep all of the columns in the DataFrame, you do not need to include the column integers in the `.iloc[]` attribute.  \n",
    "\n",
    "Slice the first 3 rows of the `my_df` DataFrame using the `.iloc[]` attribute. Output the result directly to the screen."
   ]
  },
  {
   "cell_type": "markdown",
   "metadata": {},
   "source": [
    "#### 3a) - SOLUTION"
   ]
  },
  {
   "cell_type": "code",
   "execution_count": 16,
   "metadata": {},
   "outputs": [
    {
     "data": {
      "text/html": [
       "<div>\n",
       "<style scoped>\n",
       "    .dataframe tbody tr th:only-of-type {\n",
       "        vertical-align: middle;\n",
       "    }\n",
       "\n",
       "    .dataframe tbody tr th {\n",
       "        vertical-align: top;\n",
       "    }\n",
       "\n",
       "    .dataframe thead th {\n",
       "        text-align: right;\n",
       "    }\n",
       "</style>\n",
       "<table border=\"1\" class=\"dataframe\">\n",
       "  <thead>\n",
       "    <tr style=\"text-align: right;\">\n",
       "      <th></th>\n",
       "      <th>letters</th>\n",
       "      <th>integers</th>\n",
       "      <th>floats</th>\n",
       "    </tr>\n",
       "  </thead>\n",
       "  <tbody>\n",
       "    <tr>\n",
       "      <th>0</th>\n",
       "      <td>a</td>\n",
       "      <td>1</td>\n",
       "      <td>1.0</td>\n",
       "    </tr>\n",
       "    <tr>\n",
       "      <th>1</th>\n",
       "      <td>b</td>\n",
       "      <td>2</td>\n",
       "      <td>2.0</td>\n",
       "    </tr>\n",
       "    <tr>\n",
       "      <th>2</th>\n",
       "      <td>c</td>\n",
       "      <td>3</td>\n",
       "      <td>3.0</td>\n",
       "    </tr>\n",
       "  </tbody>\n",
       "</table>\n",
       "</div>"
      ],
      "text/plain": [
       "  letters  integers  floats\n",
       "0       a         1     1.0\n",
       "1       b         2     2.0\n",
       "2       c         3     3.0"
      ]
     },
     "execution_count": 16,
     "metadata": {},
     "output_type": "execute_result"
    }
   ],
   "source": [
    "my_df.iloc[0:3]"
   ]
  },
  {
   "cell_type": "markdown",
   "metadata": {},
   "source": [
    "### 3b)\n",
    "\n",
    "The first 3 rows of `my_df` contains the `integers` and `floats` values that are less than 4. Although it was easy to slice based on the index integer, it can be more convenient to subset based on a conditional statement. I will typically refer to conditional slicing as \"filtering\". The Pandas documentation refers to this operation as Boolean indexing.  \n",
    "\n",
    "Filtering can be performed two ways. The less formal approach is to apply the filtering operation within the `[]`. The more formal approach is to use the `.loc[]` attribute. Either approach will give you the same result, but the `.loc[]` attribute is more formal.\n",
    "\n",
    "You must filter the `my_df` object and return all rows with `floats` less than 4. Perform the operation with the less formal approach in the first cell below. Then perform the operation again with the formal approach with the `.loc[]` attribute in the second cell."
   ]
  },
  {
   "cell_type": "markdown",
   "metadata": {},
   "source": [
    "#### 3b) - SOLUTION"
   ]
  },
  {
   "cell_type": "code",
   "execution_count": 17,
   "metadata": {},
   "outputs": [
    {
     "data": {
      "text/html": [
       "<div>\n",
       "<style scoped>\n",
       "    .dataframe tbody tr th:only-of-type {\n",
       "        vertical-align: middle;\n",
       "    }\n",
       "\n",
       "    .dataframe tbody tr th {\n",
       "        vertical-align: top;\n",
       "    }\n",
       "\n",
       "    .dataframe thead th {\n",
       "        text-align: right;\n",
       "    }\n",
       "</style>\n",
       "<table border=\"1\" class=\"dataframe\">\n",
       "  <thead>\n",
       "    <tr style=\"text-align: right;\">\n",
       "      <th></th>\n",
       "      <th>letters</th>\n",
       "      <th>integers</th>\n",
       "      <th>floats</th>\n",
       "    </tr>\n",
       "  </thead>\n",
       "  <tbody>\n",
       "    <tr>\n",
       "      <th>0</th>\n",
       "      <td>a</td>\n",
       "      <td>1</td>\n",
       "      <td>1.0</td>\n",
       "    </tr>\n",
       "    <tr>\n",
       "      <th>1</th>\n",
       "      <td>b</td>\n",
       "      <td>2</td>\n",
       "      <td>2.0</td>\n",
       "    </tr>\n",
       "    <tr>\n",
       "      <th>2</th>\n",
       "      <td>c</td>\n",
       "      <td>3</td>\n",
       "      <td>3.0</td>\n",
       "    </tr>\n",
       "  </tbody>\n",
       "</table>\n",
       "</div>"
      ],
      "text/plain": [
       "  letters  integers  floats\n",
       "0       a         1     1.0\n",
       "1       b         2     2.0\n",
       "2       c         3     3.0"
      ]
     },
     "execution_count": 17,
     "metadata": {},
     "output_type": "execute_result"
    }
   ],
   "source": [
    "# do NOT use `.loc[]`\n",
    "my_df[my_df[\"floats\"]<4.0]"
   ]
  },
  {
   "cell_type": "code",
   "execution_count": 18,
   "metadata": {},
   "outputs": [
    {
     "data": {
      "text/html": [
       "<div>\n",
       "<style scoped>\n",
       "    .dataframe tbody tr th:only-of-type {\n",
       "        vertical-align: middle;\n",
       "    }\n",
       "\n",
       "    .dataframe tbody tr th {\n",
       "        vertical-align: top;\n",
       "    }\n",
       "\n",
       "    .dataframe thead th {\n",
       "        text-align: right;\n",
       "    }\n",
       "</style>\n",
       "<table border=\"1\" class=\"dataframe\">\n",
       "  <thead>\n",
       "    <tr style=\"text-align: right;\">\n",
       "      <th></th>\n",
       "      <th>letters</th>\n",
       "      <th>integers</th>\n",
       "      <th>floats</th>\n",
       "    </tr>\n",
       "  </thead>\n",
       "  <tbody>\n",
       "    <tr>\n",
       "      <th>0</th>\n",
       "      <td>a</td>\n",
       "      <td>1</td>\n",
       "      <td>1.0</td>\n",
       "    </tr>\n",
       "    <tr>\n",
       "      <th>1</th>\n",
       "      <td>b</td>\n",
       "      <td>2</td>\n",
       "      <td>2.0</td>\n",
       "    </tr>\n",
       "    <tr>\n",
       "      <th>2</th>\n",
       "      <td>c</td>\n",
       "      <td>3</td>\n",
       "      <td>3.0</td>\n",
       "    </tr>\n",
       "  </tbody>\n",
       "</table>\n",
       "</div>"
      ],
      "text/plain": [
       "  letters  integers  floats\n",
       "0       a         1     1.0\n",
       "1       b         2     2.0\n",
       "2       c         3     3.0"
      ]
     },
     "execution_count": 18,
     "metadata": {},
     "output_type": "execute_result"
    }
   ],
   "source": [
    "# USE `.loc[]`\n",
    "my_df.loc[my_df[\"floats\"]<4.0]"
   ]
  },
  {
   "cell_type": "markdown",
   "metadata": {},
   "source": [
    "### 3c)\n",
    "Conditional statements such as less than and greater than are useful when we wish to filter by integer or float data types. However, we will often work with strings and categorical variables where \"less than\" and \"greater than\" have no meaning.  \n",
    "\n",
    "With `str`, we may instead want to find all rows that match a particular set of values. Pattern matching of `str` can be quite difficult, so we will start with a simple operation of finding all rows that exactly match one out of several possible values. The `.isin()` method checks if the rows of a column in a DataFrame \"are in\" or \"are *contained* in\" a list of options. (Note that `.isin()` works with other data types besides just `str`, I find it useful to introduce in the context of strings.\n",
    "\n",
    "Use the `.isin()` method to filter all rows containing either `['a', 'b', 'c']` in `my_df`. Output the result directly to the screen.  "
   ]
  },
  {
   "cell_type": "markdown",
   "metadata": {},
   "source": [
    "#### 3c) - SOLUTION"
   ]
  },
  {
   "cell_type": "code",
   "execution_count": 19,
   "metadata": {},
   "outputs": [
    {
     "data": {
      "text/html": [
       "<div>\n",
       "<style scoped>\n",
       "    .dataframe tbody tr th:only-of-type {\n",
       "        vertical-align: middle;\n",
       "    }\n",
       "\n",
       "    .dataframe tbody tr th {\n",
       "        vertical-align: top;\n",
       "    }\n",
       "\n",
       "    .dataframe thead th {\n",
       "        text-align: right;\n",
       "    }\n",
       "</style>\n",
       "<table border=\"1\" class=\"dataframe\">\n",
       "  <thead>\n",
       "    <tr style=\"text-align: right;\">\n",
       "      <th></th>\n",
       "      <th>letters</th>\n",
       "      <th>integers</th>\n",
       "      <th>floats</th>\n",
       "    </tr>\n",
       "  </thead>\n",
       "  <tbody>\n",
       "    <tr>\n",
       "      <th>0</th>\n",
       "      <td>a</td>\n",
       "      <td>1</td>\n",
       "      <td>1.0</td>\n",
       "    </tr>\n",
       "    <tr>\n",
       "      <th>1</th>\n",
       "      <td>b</td>\n",
       "      <td>2</td>\n",
       "      <td>2.0</td>\n",
       "    </tr>\n",
       "    <tr>\n",
       "      <th>2</th>\n",
       "      <td>c</td>\n",
       "      <td>3</td>\n",
       "      <td>3.0</td>\n",
       "    </tr>\n",
       "  </tbody>\n",
       "</table>\n",
       "</div>"
      ],
      "text/plain": [
       "  letters  integers  floats\n",
       "0       a         1     1.0\n",
       "1       b         2     2.0\n",
       "2       c         3     3.0"
      ]
     },
     "execution_count": 19,
     "metadata": {},
     "output_type": "execute_result"
    }
   ],
   "source": [
    "my_df[my_df[\"letters\"].isin(['a','b','c'])]"
   ]
  },
  {
   "cell_type": "markdown",
   "metadata": {},
   "source": [
    "### 3d)\n",
    "More complicated conditional filtering operations can be performed. For example, we may need to filter based on different conditions applied to multiple variables within the DataFrame. Each operation **must** be grouped by parentheses and separated by the operator you wish to use. For example, the **or** operator is a vertical bar, |, while the **and** operator is the &.  \n",
    "\n",
    "Use multiple conditional filters to subset the rows that have `'integers'` less than 2 **or** greater than 4."
   ]
  },
  {
   "cell_type": "markdown",
   "metadata": {},
   "source": [
    "#### 3d) - SOLUTION"
   ]
  },
  {
   "cell_type": "code",
   "execution_count": 20,
   "metadata": {},
   "outputs": [
    {
     "data": {
      "text/html": [
       "<div>\n",
       "<style scoped>\n",
       "    .dataframe tbody tr th:only-of-type {\n",
       "        vertical-align: middle;\n",
       "    }\n",
       "\n",
       "    .dataframe tbody tr th {\n",
       "        vertical-align: top;\n",
       "    }\n",
       "\n",
       "    .dataframe thead th {\n",
       "        text-align: right;\n",
       "    }\n",
       "</style>\n",
       "<table border=\"1\" class=\"dataframe\">\n",
       "  <thead>\n",
       "    <tr style=\"text-align: right;\">\n",
       "      <th></th>\n",
       "      <th>letters</th>\n",
       "      <th>integers</th>\n",
       "      <th>floats</th>\n",
       "    </tr>\n",
       "  </thead>\n",
       "  <tbody>\n",
       "    <tr>\n",
       "      <th>0</th>\n",
       "      <td>a</td>\n",
       "      <td>1</td>\n",
       "      <td>1.0</td>\n",
       "    </tr>\n",
       "    <tr>\n",
       "      <th>4</th>\n",
       "      <td>e</td>\n",
       "      <td>5</td>\n",
       "      <td>5.0</td>\n",
       "    </tr>\n",
       "  </tbody>\n",
       "</table>\n",
       "</div>"
      ],
      "text/plain": [
       "  letters  integers  floats\n",
       "0       a         1     1.0\n",
       "4       e         5     5.0"
      ]
     },
     "execution_count": 20,
     "metadata": {},
     "output_type": "execute_result"
    }
   ],
   "source": [
    "my_df[(my_df['integers']<2) | (my_df['integers']>4)] "
   ]
  },
  {
   "cell_type": "markdown",
   "metadata": {},
   "source": [
    "## Problem 4\n",
    "You have worked with a simple DataFrame consisting of just 3 columns. You will now merge or **join** that DataFrame to separate objects using the `.merge()` function from Pandas."
   ]
  },
  {
   "cell_type": "markdown",
   "metadata": {},
   "source": [
    "### 4a)\n",
    "Create a dictionary and then convert that dictionary into a DataFrame in the cell below. The dictionary must contain two items. The KEY associated with the first item should be `'letters'` with VALUE equal to a list. The list should store the letters `'a'` through `'e'`. The second item should have a KEY `'words'` with VALUE equal to the following list `['apples', 'bananas', 'cookies', 'dogs', 'elephants']`.  \n",
    "\n",
    "Assign the dictionary to the object `words_dict` and the DataFrame to `words_df`.  \n",
    "\n",
    "Output the DataFrame to the screen."
   ]
  },
  {
   "cell_type": "markdown",
   "metadata": {},
   "source": [
    "#### 4a) - SOLUTION"
   ]
  },
  {
   "cell_type": "code",
   "execution_count": 21,
   "metadata": {},
   "outputs": [
    {
     "data": {
      "text/html": [
       "<div>\n",
       "<style scoped>\n",
       "    .dataframe tbody tr th:only-of-type {\n",
       "        vertical-align: middle;\n",
       "    }\n",
       "\n",
       "    .dataframe tbody tr th {\n",
       "        vertical-align: top;\n",
       "    }\n",
       "\n",
       "    .dataframe thead th {\n",
       "        text-align: right;\n",
       "    }\n",
       "</style>\n",
       "<table border=\"1\" class=\"dataframe\">\n",
       "  <thead>\n",
       "    <tr style=\"text-align: right;\">\n",
       "      <th></th>\n",
       "      <th>letters</th>\n",
       "      <th>words</th>\n",
       "    </tr>\n",
       "  </thead>\n",
       "  <tbody>\n",
       "    <tr>\n",
       "      <th>0</th>\n",
       "      <td>a</td>\n",
       "      <td>apples</td>\n",
       "    </tr>\n",
       "    <tr>\n",
       "      <th>1</th>\n",
       "      <td>b</td>\n",
       "      <td>bananas</td>\n",
       "    </tr>\n",
       "    <tr>\n",
       "      <th>2</th>\n",
       "      <td>c</td>\n",
       "      <td>cookies</td>\n",
       "    </tr>\n",
       "    <tr>\n",
       "      <th>3</th>\n",
       "      <td>d</td>\n",
       "      <td>dogs</td>\n",
       "    </tr>\n",
       "    <tr>\n",
       "      <th>4</th>\n",
       "      <td>e</td>\n",
       "      <td>elephants</td>\n",
       "    </tr>\n",
       "  </tbody>\n",
       "</table>\n",
       "</div>"
      ],
      "text/plain": [
       "  letters      words\n",
       "0       a     apples\n",
       "1       b    bananas\n",
       "2       c    cookies\n",
       "3       d       dogs\n",
       "4       e  elephants"
      ]
     },
     "execution_count": 21,
     "metadata": {},
     "output_type": "execute_result"
    }
   ],
   "source": [
    "# create the dictionary\n",
    "words_dict = { \"letters\" : ['a','b','c','d','e'],\n",
    "             \"words\" : ['apples','bananas','cookies','dogs','elephants']}\n",
    "\n",
    "# create the DataFrame\n",
    "words_df = pd.DataFrame(words_dict)\n",
    "\n",
    "# output to the screen\n",
    "words_df"
   ]
  },
  {
   "cell_type": "markdown",
   "metadata": {},
   "source": [
    "### 4b)\n",
    "Use the `pd.merge()` function to merge or join the `my_df` DataFrame to the `words_df`. Which variable (column) should you specify as the variable to join `on`? Assign the result to a new DataFrame, `my_merged_df`.\n",
    "\n",
    "Output the `my_merged_df` object directly to screen."
   ]
  },
  {
   "cell_type": "markdown",
   "metadata": {},
   "source": [
    "#### 4b) - SOLUTION"
   ]
  },
  {
   "cell_type": "markdown",
   "metadata": {},
   "source": [
    "What do you think?"
   ]
  },
  {
   "cell_type": "code",
   "execution_count": 23,
   "metadata": {},
   "outputs": [
    {
     "data": {
      "text/html": [
       "<div>\n",
       "<style scoped>\n",
       "    .dataframe tbody tr th:only-of-type {\n",
       "        vertical-align: middle;\n",
       "    }\n",
       "\n",
       "    .dataframe tbody tr th {\n",
       "        vertical-align: top;\n",
       "    }\n",
       "\n",
       "    .dataframe thead th {\n",
       "        text-align: right;\n",
       "    }\n",
       "</style>\n",
       "<table border=\"1\" class=\"dataframe\">\n",
       "  <thead>\n",
       "    <tr style=\"text-align: right;\">\n",
       "      <th></th>\n",
       "      <th>letters</th>\n",
       "      <th>words</th>\n",
       "      <th>integers</th>\n",
       "      <th>floats</th>\n",
       "    </tr>\n",
       "  </thead>\n",
       "  <tbody>\n",
       "    <tr>\n",
       "      <th>0</th>\n",
       "      <td>a</td>\n",
       "      <td>apples</td>\n",
       "      <td>1</td>\n",
       "      <td>1.0</td>\n",
       "    </tr>\n",
       "    <tr>\n",
       "      <th>1</th>\n",
       "      <td>b</td>\n",
       "      <td>bananas</td>\n",
       "      <td>2</td>\n",
       "      <td>2.0</td>\n",
       "    </tr>\n",
       "    <tr>\n",
       "      <th>2</th>\n",
       "      <td>c</td>\n",
       "      <td>cookies</td>\n",
       "      <td>3</td>\n",
       "      <td>3.0</td>\n",
       "    </tr>\n",
       "    <tr>\n",
       "      <th>3</th>\n",
       "      <td>d</td>\n",
       "      <td>dogs</td>\n",
       "      <td>4</td>\n",
       "      <td>4.0</td>\n",
       "    </tr>\n",
       "    <tr>\n",
       "      <th>4</th>\n",
       "      <td>e</td>\n",
       "      <td>elephants</td>\n",
       "      <td>5</td>\n",
       "      <td>5.0</td>\n",
       "    </tr>\n",
       "  </tbody>\n",
       "</table>\n",
       "</div>"
      ],
      "text/plain": [
       "  letters      words  integers  floats\n",
       "0       a     apples         1     1.0\n",
       "1       b    bananas         2     2.0\n",
       "2       c    cookies         3     3.0\n",
       "3       d       dogs         4     4.0\n",
       "4       e  elephants         5     5.0"
      ]
     },
     "execution_count": 23,
     "metadata": {},
     "output_type": "execute_result"
    }
   ],
   "source": [
    "my_merged_df = words_df.merge(my_df, on='letters')\n",
    "my_merged_df"
   ]
  },
  {
   "cell_type": "markdown",
   "metadata": {},
   "source": [
    "### 4c)\n",
    "Use the `.shape` attribute to confirm that the `my_merged_df` has a different number of columns than `my_df` or `words_df`. "
   ]
  },
  {
   "cell_type": "markdown",
   "metadata": {},
   "source": [
    "#### 4c) - SOLUTION"
   ]
  },
  {
   "cell_type": "code",
   "execution_count": 24,
   "metadata": {},
   "outputs": [
    {
     "name": "stdout",
     "output_type": "stream",
     "text": [
      "(5, 4)\n",
      "-----\n",
      "(5, 3)\n",
      "-----\n",
      "(5, 2)\n"
     ]
    }
   ],
   "source": [
    "print(my_merged_df.shape)\n",
    "print('-----')\n",
    "print(my_df.shape)\n",
    "print('-----')\n",
    "print(words_df.shape)"
   ]
  },
  {
   "cell_type": "markdown",
   "metadata": {},
   "source": [
    "### 4d)\n",
    "The DataFrame `number_words_df` is created for you in the cell below. It consists of 2 columns, the `'integers'` column which holds the integers 1, 3, and 5. And it holds a column named `integer_words` which holds `'one'`, `'three'`, and `'five'`. The DataFrame is output for you to see in the cell below."
   ]
  },
  {
   "cell_type": "code",
   "execution_count": 25,
   "metadata": {},
   "outputs": [
    {
     "data": {
      "text/html": [
       "<div>\n",
       "<style scoped>\n",
       "    .dataframe tbody tr th:only-of-type {\n",
       "        vertical-align: middle;\n",
       "    }\n",
       "\n",
       "    .dataframe tbody tr th {\n",
       "        vertical-align: top;\n",
       "    }\n",
       "\n",
       "    .dataframe thead th {\n",
       "        text-align: right;\n",
       "    }\n",
       "</style>\n",
       "<table border=\"1\" class=\"dataframe\">\n",
       "  <thead>\n",
       "    <tr style=\"text-align: right;\">\n",
       "      <th></th>\n",
       "      <th>integers</th>\n",
       "      <th>integer_words</th>\n",
       "    </tr>\n",
       "  </thead>\n",
       "  <tbody>\n",
       "    <tr>\n",
       "      <th>0</th>\n",
       "      <td>1</td>\n",
       "      <td>one</td>\n",
       "    </tr>\n",
       "    <tr>\n",
       "      <th>1</th>\n",
       "      <td>3</td>\n",
       "      <td>three</td>\n",
       "    </tr>\n",
       "    <tr>\n",
       "      <th>2</th>\n",
       "      <td>5</td>\n",
       "      <td>five</td>\n",
       "    </tr>\n",
       "  </tbody>\n",
       "</table>\n",
       "</div>"
      ],
      "text/plain": [
       "   integers integer_words\n",
       "0         1           one\n",
       "1         3         three\n",
       "2         5          five"
      ]
     },
     "execution_count": 25,
     "metadata": {},
     "output_type": "execute_result"
    }
   ],
   "source": [
    "number_words_df = pd.DataFrame({'integers':[1, 3, 5], 'integer_words':['one', 'three', 'five']})\n",
    "\n",
    "number_words_df"
   ]
  },
  {
   "cell_type": "markdown",
   "metadata": {},
   "source": [
    "Merge the `my_merged_df` with the `number_words_df` object. Which variable should you specify as the `on` argument to the `pd.merge()` function?  \n",
    "\n",
    "Assign the merged object to the `another_merged_df` variable and output `another_merged_df` to the screen."
   ]
  },
  {
   "cell_type": "markdown",
   "metadata": {},
   "source": [
    "#### 4d) - SOLUTION"
   ]
  },
  {
   "cell_type": "code",
   "execution_count": 26,
   "metadata": {},
   "outputs": [
    {
     "data": {
      "text/html": [
       "<div>\n",
       "<style scoped>\n",
       "    .dataframe tbody tr th:only-of-type {\n",
       "        vertical-align: middle;\n",
       "    }\n",
       "\n",
       "    .dataframe tbody tr th {\n",
       "        vertical-align: top;\n",
       "    }\n",
       "\n",
       "    .dataframe thead th {\n",
       "        text-align: right;\n",
       "    }\n",
       "</style>\n",
       "<table border=\"1\" class=\"dataframe\">\n",
       "  <thead>\n",
       "    <tr style=\"text-align: right;\">\n",
       "      <th></th>\n",
       "      <th>letters</th>\n",
       "      <th>words</th>\n",
       "      <th>integers</th>\n",
       "      <th>floats</th>\n",
       "      <th>integer_words</th>\n",
       "    </tr>\n",
       "  </thead>\n",
       "  <tbody>\n",
       "    <tr>\n",
       "      <th>0</th>\n",
       "      <td>a</td>\n",
       "      <td>apples</td>\n",
       "      <td>1</td>\n",
       "      <td>1.0</td>\n",
       "      <td>one</td>\n",
       "    </tr>\n",
       "    <tr>\n",
       "      <th>1</th>\n",
       "      <td>c</td>\n",
       "      <td>cookies</td>\n",
       "      <td>3</td>\n",
       "      <td>3.0</td>\n",
       "      <td>three</td>\n",
       "    </tr>\n",
       "    <tr>\n",
       "      <th>2</th>\n",
       "      <td>e</td>\n",
       "      <td>elephants</td>\n",
       "      <td>5</td>\n",
       "      <td>5.0</td>\n",
       "      <td>five</td>\n",
       "    </tr>\n",
       "  </tbody>\n",
       "</table>\n",
       "</div>"
      ],
      "text/plain": [
       "  letters      words  integers  floats integer_words\n",
       "0       a     apples         1     1.0           one\n",
       "1       c    cookies         3     3.0         three\n",
       "2       e  elephants         5     5.0          five"
      ]
     },
     "execution_count": 26,
     "metadata": {},
     "output_type": "execute_result"
    }
   ],
   "source": [
    "another_merged_df = my_merged_df.merge(number_words_df, on = 'integers')\n",
    "another_merged_df"
   ]
  },
  {
   "cell_type": "markdown",
   "metadata": {},
   "source": [
    "### 4e)\n",
    "Are the number of rows the same between `another_merged_df` and `my_merged_df`? If not, what caused the change?"
   ]
  },
  {
   "cell_type": "markdown",
   "metadata": {},
   "source": [
    "#### 4e) - SOLUTION"
   ]
  },
  {
   "cell_type": "markdown",
   "metadata": {},
   "source": [
    "NO the number of rows are not same between `another_merged_df`and `my_merged_df`because here we have not specified how to merge and the default action is to do by inner join which uses intersection of keys from both frmaes and preserves order of left keys"
   ]
  },
  {
   "cell_type": "markdown",
   "metadata": {},
   "source": [
    "### 4f)\n",
    "You will reperform the joining operation between `my_merged_df` and `number_words_df`. This time however, you will specify the `how` argument to be `'left'` in the `pd.merge()` function. Assign the result to the `left_merged_df` and then output the result to the screen.  "
   ]
  },
  {
   "cell_type": "markdown",
   "metadata": {},
   "source": [
    "#### 4f) - SOLUTION"
   ]
  },
  {
   "cell_type": "code",
   "execution_count": 27,
   "metadata": {},
   "outputs": [
    {
     "data": {
      "text/html": [
       "<div>\n",
       "<style scoped>\n",
       "    .dataframe tbody tr th:only-of-type {\n",
       "        vertical-align: middle;\n",
       "    }\n",
       "\n",
       "    .dataframe tbody tr th {\n",
       "        vertical-align: top;\n",
       "    }\n",
       "\n",
       "    .dataframe thead th {\n",
       "        text-align: right;\n",
       "    }\n",
       "</style>\n",
       "<table border=\"1\" class=\"dataframe\">\n",
       "  <thead>\n",
       "    <tr style=\"text-align: right;\">\n",
       "      <th></th>\n",
       "      <th>letters</th>\n",
       "      <th>words</th>\n",
       "      <th>integers</th>\n",
       "      <th>floats</th>\n",
       "      <th>integer_words</th>\n",
       "    </tr>\n",
       "  </thead>\n",
       "  <tbody>\n",
       "    <tr>\n",
       "      <th>0</th>\n",
       "      <td>a</td>\n",
       "      <td>apples</td>\n",
       "      <td>1</td>\n",
       "      <td>1.0</td>\n",
       "      <td>one</td>\n",
       "    </tr>\n",
       "    <tr>\n",
       "      <th>1</th>\n",
       "      <td>b</td>\n",
       "      <td>bananas</td>\n",
       "      <td>2</td>\n",
       "      <td>2.0</td>\n",
       "      <td>NaN</td>\n",
       "    </tr>\n",
       "    <tr>\n",
       "      <th>2</th>\n",
       "      <td>c</td>\n",
       "      <td>cookies</td>\n",
       "      <td>3</td>\n",
       "      <td>3.0</td>\n",
       "      <td>three</td>\n",
       "    </tr>\n",
       "    <tr>\n",
       "      <th>3</th>\n",
       "      <td>d</td>\n",
       "      <td>dogs</td>\n",
       "      <td>4</td>\n",
       "      <td>4.0</td>\n",
       "      <td>NaN</td>\n",
       "    </tr>\n",
       "    <tr>\n",
       "      <th>4</th>\n",
       "      <td>e</td>\n",
       "      <td>elephants</td>\n",
       "      <td>5</td>\n",
       "      <td>5.0</td>\n",
       "      <td>five</td>\n",
       "    </tr>\n",
       "  </tbody>\n",
       "</table>\n",
       "</div>"
      ],
      "text/plain": [
       "  letters      words  integers  floats integer_words\n",
       "0       a     apples         1     1.0           one\n",
       "1       b    bananas         2     2.0           NaN\n",
       "2       c    cookies         3     3.0         three\n",
       "3       d       dogs         4     4.0           NaN\n",
       "4       e  elephants         5     5.0          five"
      ]
     },
     "execution_count": 27,
     "metadata": {},
     "output_type": "execute_result"
    }
   ],
   "source": [
    "left_merged_df = my_merged_df.merge(number_words_df, how='left')\n",
    "left_merged_df"
   ]
  },
  {
   "cell_type": "markdown",
   "metadata": {},
   "source": [
    "### 4g)\n",
    "How many rows are in the `left_merged_df` object? What's different about `left_merged_df` compared with `another_merged_df`?"
   ]
  },
  {
   "cell_type": "markdown",
   "metadata": {},
   "source": [
    "#### 4g) - SOLUTION"
   ]
  },
  {
   "cell_type": "markdown",
   "metadata": {},
   "source": [
    "There are 5 rows in `left_merged_df`. The difference is here we have specified how are we merging two frames. As we have used `left`so the right data frame is merged with the left data frame using only the keys from the left data frame. "
   ]
  },
  {
   "cell_type": "markdown",
   "metadata": {},
   "source": [
    "## Problem 5\n",
    "\n",
    "You have started to look through the available set of projects to choose from as your final project for the course. You will now read in one of the available data sets and get some practice with basic Pandas DataFrame attributes and methods. The data set you choose to use for this problem does **NOT** have to be the data set you work with in your final project. It is just to give you practice with basic DataFrame functionality.\n",
    "\n",
    "Whichever data set you select, you must: \n",
    "* Determine the number of rows and number of columns in the data set\n",
    "* Display the data types associated with the variables in the data set\n",
    "* Summarize or *DESCRIBE* the variables in the data set\n",
    "\n",
    "**The data available for the final projects will be uploaded by Wednesday.**"
   ]
  },
  {
   "cell_type": "code",
   "execution_count": 28,
   "metadata": {},
   "outputs": [],
   "source": [
    "df_churn = pd.read_csv('ppg_churn.csv')\n"
   ]
  },
  {
   "cell_type": "code",
   "execution_count": 29,
   "metadata": {},
   "outputs": [
    {
     "data": {
      "text/plain": [
       "(5000, 20)"
      ]
     },
     "execution_count": 29,
     "metadata": {},
     "output_type": "execute_result"
    }
   ],
   "source": [
    "df_churn.shape"
   ]
  },
  {
   "cell_type": "code",
   "execution_count": 30,
   "metadata": {},
   "outputs": [
    {
     "name": "stdout",
     "output_type": "stream",
     "text": [
      "<class 'pandas.core.frame.DataFrame'>\n",
      "RangeIndex: 5000 entries, 0 to 4999\n",
      "Data columns (total 20 columns):\n",
      " #   Column  Non-Null Count  Dtype  \n",
      "---  ------  --------------  -----  \n",
      " 0   state   5000 non-null   object \n",
      " 1   X02     5000 non-null   int64  \n",
      " 2   X03     5000 non-null   object \n",
      " 3   X04     5000 non-null   object \n",
      " 4   X05     5000 non-null   object \n",
      " 5   X06     5000 non-null   int64  \n",
      " 6   X07     5000 non-null   float64\n",
      " 7   X08     5000 non-null   int64  \n",
      " 8   X09     5000 non-null   float64\n",
      " 9   X10     5000 non-null   float64\n",
      " 10  X11     5000 non-null   int64  \n",
      " 11  X12     5000 non-null   float64\n",
      " 12  X13     5000 non-null   float64\n",
      " 13  X14     5000 non-null   int64  \n",
      " 14  X15     5000 non-null   float64\n",
      " 15  X16     5000 non-null   float64\n",
      " 16  X17     5000 non-null   int64  \n",
      " 17  X18     5000 non-null   float64\n",
      " 18  X19     5000 non-null   int64  \n",
      " 19  churn   5000 non-null   object \n",
      "dtypes: float64(8), int64(7), object(5)\n",
      "memory usage: 781.4+ KB\n"
     ]
    }
   ],
   "source": [
    "df_churn.info()"
   ]
  },
  {
   "cell_type": "code",
   "execution_count": 31,
   "metadata": {},
   "outputs": [
    {
     "data": {
      "text/html": [
       "<div>\n",
       "<style scoped>\n",
       "    .dataframe tbody tr th:only-of-type {\n",
       "        vertical-align: middle;\n",
       "    }\n",
       "\n",
       "    .dataframe tbody tr th {\n",
       "        vertical-align: top;\n",
       "    }\n",
       "\n",
       "    .dataframe thead th {\n",
       "        text-align: right;\n",
       "    }\n",
       "</style>\n",
       "<table border=\"1\" class=\"dataframe\">\n",
       "  <thead>\n",
       "    <tr style=\"text-align: right;\">\n",
       "      <th></th>\n",
       "      <th>X02</th>\n",
       "      <th>X06</th>\n",
       "      <th>X07</th>\n",
       "      <th>X08</th>\n",
       "      <th>X09</th>\n",
       "      <th>X10</th>\n",
       "      <th>X11</th>\n",
       "      <th>X12</th>\n",
       "      <th>X13</th>\n",
       "      <th>X14</th>\n",
       "      <th>X15</th>\n",
       "      <th>X16</th>\n",
       "      <th>X17</th>\n",
       "      <th>X18</th>\n",
       "      <th>X19</th>\n",
       "    </tr>\n",
       "  </thead>\n",
       "  <tbody>\n",
       "    <tr>\n",
       "      <th>count</th>\n",
       "      <td>5000.00000</td>\n",
       "      <td>5000.000000</td>\n",
       "      <td>5000.000000</td>\n",
       "      <td>5000.000000</td>\n",
       "      <td>5000.000000</td>\n",
       "      <td>5000.000000</td>\n",
       "      <td>5000.000000</td>\n",
       "      <td>5000.000000</td>\n",
       "      <td>5000.000000</td>\n",
       "      <td>5000.000000</td>\n",
       "      <td>5000.000000</td>\n",
       "      <td>5000.000000</td>\n",
       "      <td>5000.000000</td>\n",
       "      <td>5000.000000</td>\n",
       "      <td>5000.000000</td>\n",
       "    </tr>\n",
       "    <tr>\n",
       "      <th>mean</th>\n",
       "      <td>100.25860</td>\n",
       "      <td>7.755200</td>\n",
       "      <td>180.288900</td>\n",
       "      <td>100.029400</td>\n",
       "      <td>30.649668</td>\n",
       "      <td>200.636560</td>\n",
       "      <td>100.191000</td>\n",
       "      <td>17.054322</td>\n",
       "      <td>200.391620</td>\n",
       "      <td>99.919200</td>\n",
       "      <td>9.017732</td>\n",
       "      <td>10.261780</td>\n",
       "      <td>4.435200</td>\n",
       "      <td>2.771196</td>\n",
       "      <td>1.570400</td>\n",
       "    </tr>\n",
       "    <tr>\n",
       "      <th>std</th>\n",
       "      <td>39.69456</td>\n",
       "      <td>13.546393</td>\n",
       "      <td>53.894699</td>\n",
       "      <td>19.831197</td>\n",
       "      <td>9.162069</td>\n",
       "      <td>50.551309</td>\n",
       "      <td>19.826496</td>\n",
       "      <td>4.296843</td>\n",
       "      <td>50.527789</td>\n",
       "      <td>19.958686</td>\n",
       "      <td>2.273763</td>\n",
       "      <td>2.761396</td>\n",
       "      <td>2.456788</td>\n",
       "      <td>0.745514</td>\n",
       "      <td>1.306363</td>\n",
       "    </tr>\n",
       "    <tr>\n",
       "      <th>min</th>\n",
       "      <td>1.00000</td>\n",
       "      <td>0.000000</td>\n",
       "      <td>0.000000</td>\n",
       "      <td>0.000000</td>\n",
       "      <td>0.000000</td>\n",
       "      <td>0.000000</td>\n",
       "      <td>0.000000</td>\n",
       "      <td>0.000000</td>\n",
       "      <td>0.000000</td>\n",
       "      <td>0.000000</td>\n",
       "      <td>0.000000</td>\n",
       "      <td>0.000000</td>\n",
       "      <td>0.000000</td>\n",
       "      <td>0.000000</td>\n",
       "      <td>0.000000</td>\n",
       "    </tr>\n",
       "    <tr>\n",
       "      <th>25%</th>\n",
       "      <td>73.00000</td>\n",
       "      <td>0.000000</td>\n",
       "      <td>143.700000</td>\n",
       "      <td>87.000000</td>\n",
       "      <td>24.430000</td>\n",
       "      <td>166.375000</td>\n",
       "      <td>87.000000</td>\n",
       "      <td>14.140000</td>\n",
       "      <td>166.900000</td>\n",
       "      <td>87.000000</td>\n",
       "      <td>7.510000</td>\n",
       "      <td>8.500000</td>\n",
       "      <td>3.000000</td>\n",
       "      <td>2.300000</td>\n",
       "      <td>1.000000</td>\n",
       "    </tr>\n",
       "    <tr>\n",
       "      <th>50%</th>\n",
       "      <td>100.00000</td>\n",
       "      <td>0.000000</td>\n",
       "      <td>180.100000</td>\n",
       "      <td>100.000000</td>\n",
       "      <td>30.620000</td>\n",
       "      <td>201.000000</td>\n",
       "      <td>100.000000</td>\n",
       "      <td>17.090000</td>\n",
       "      <td>200.400000</td>\n",
       "      <td>100.000000</td>\n",
       "      <td>9.020000</td>\n",
       "      <td>10.300000</td>\n",
       "      <td>4.000000</td>\n",
       "      <td>2.780000</td>\n",
       "      <td>1.000000</td>\n",
       "    </tr>\n",
       "    <tr>\n",
       "      <th>75%</th>\n",
       "      <td>127.00000</td>\n",
       "      <td>17.000000</td>\n",
       "      <td>216.200000</td>\n",
       "      <td>113.000000</td>\n",
       "      <td>36.750000</td>\n",
       "      <td>234.100000</td>\n",
       "      <td>114.000000</td>\n",
       "      <td>19.900000</td>\n",
       "      <td>234.700000</td>\n",
       "      <td>113.000000</td>\n",
       "      <td>10.560000</td>\n",
       "      <td>12.000000</td>\n",
       "      <td>6.000000</td>\n",
       "      <td>3.240000</td>\n",
       "      <td>2.000000</td>\n",
       "    </tr>\n",
       "    <tr>\n",
       "      <th>max</th>\n",
       "      <td>243.00000</td>\n",
       "      <td>52.000000</td>\n",
       "      <td>351.500000</td>\n",
       "      <td>165.000000</td>\n",
       "      <td>59.760000</td>\n",
       "      <td>363.700000</td>\n",
       "      <td>170.000000</td>\n",
       "      <td>30.910000</td>\n",
       "      <td>395.000000</td>\n",
       "      <td>175.000000</td>\n",
       "      <td>17.770000</td>\n",
       "      <td>20.000000</td>\n",
       "      <td>20.000000</td>\n",
       "      <td>5.400000</td>\n",
       "      <td>9.000000</td>\n",
       "    </tr>\n",
       "  </tbody>\n",
       "</table>\n",
       "</div>"
      ],
      "text/plain": [
       "              X02          X06          X07          X08          X09  \\\n",
       "count  5000.00000  5000.000000  5000.000000  5000.000000  5000.000000   \n",
       "mean    100.25860     7.755200   180.288900   100.029400    30.649668   \n",
       "std      39.69456    13.546393    53.894699    19.831197     9.162069   \n",
       "min       1.00000     0.000000     0.000000     0.000000     0.000000   \n",
       "25%      73.00000     0.000000   143.700000    87.000000    24.430000   \n",
       "50%     100.00000     0.000000   180.100000   100.000000    30.620000   \n",
       "75%     127.00000    17.000000   216.200000   113.000000    36.750000   \n",
       "max     243.00000    52.000000   351.500000   165.000000    59.760000   \n",
       "\n",
       "               X10          X11          X12          X13          X14  \\\n",
       "count  5000.000000  5000.000000  5000.000000  5000.000000  5000.000000   \n",
       "mean    200.636560   100.191000    17.054322   200.391620    99.919200   \n",
       "std      50.551309    19.826496     4.296843    50.527789    19.958686   \n",
       "min       0.000000     0.000000     0.000000     0.000000     0.000000   \n",
       "25%     166.375000    87.000000    14.140000   166.900000    87.000000   \n",
       "50%     201.000000   100.000000    17.090000   200.400000   100.000000   \n",
       "75%     234.100000   114.000000    19.900000   234.700000   113.000000   \n",
       "max     363.700000   170.000000    30.910000   395.000000   175.000000   \n",
       "\n",
       "               X15          X16          X17          X18          X19  \n",
       "count  5000.000000  5000.000000  5000.000000  5000.000000  5000.000000  \n",
       "mean      9.017732    10.261780     4.435200     2.771196     1.570400  \n",
       "std       2.273763     2.761396     2.456788     0.745514     1.306363  \n",
       "min       0.000000     0.000000     0.000000     0.000000     0.000000  \n",
       "25%       7.510000     8.500000     3.000000     2.300000     1.000000  \n",
       "50%       9.020000    10.300000     4.000000     2.780000     1.000000  \n",
       "75%      10.560000    12.000000     6.000000     3.240000     2.000000  \n",
       "max      17.770000    20.000000    20.000000     5.400000     9.000000  "
      ]
     },
     "execution_count": 31,
     "metadata": {},
     "output_type": "execute_result"
    }
   ],
   "source": [
    "df_churn.describe()"
   ]
  },
  {
   "cell_type": "markdown",
   "metadata": {},
   "source": [
    "## Problem 6\n",
    "In each of the last few homework assignments, you have calculated the standard error on the mean as a function of the sample size. Rather than repeating that process again, let's use Pandas to help us **visualize** what's happening when we generate the random samples. We will discuss visualization in more detail soon in the course. That said Pandas has a few built-in plotting methods that make it quite simple to generate useful statistical graphics to help us understand a data set."
   ]
  },
  {
   "cell_type": "markdown",
   "metadata": {},
   "source": [
    "### 6a)\n",
    "\n",
    "Over the last few weeks we have talked about the difference between **replications** associated with the Monte Carlo simulations and the **sample size** effect we wish to study. We estimated the standard error on the mean by generating 5000 replications of the sample average.  \n",
    "\n",
    "This week, you will work with a smaller number of replications, just 50. As we saw in the second lecture, we used 5000 replications because the distribution on the sample average converges to a Normal in the limit of an infinite number of replications. With just 50 replications, our simulated estimate to the standard error will have error relative to the asymptotic value. However, it will be useful for visualization to just use 50 replications.\n",
    "\n",
    "Use the same format of the last assignment where we stored the replications down rows and the sample size along the columns. Use NumPy to generate 7 samples of a Normal with mean 100 and standard deviation 25 and replicate that process 50 times. Assign the result to the variable `X`. \n",
    "\n",
    "**Don't forget to set the seed!**\n",
    "\n",
    "Print the data type assocated with the `X` object to the screen and print the `.shape` of `X`.  "
   ]
  },
  {
   "cell_type": "markdown",
   "metadata": {},
   "source": [
    "#### 6a) - SOLUTION"
   ]
  },
  {
   "cell_type": "code",
   "execution_count": 32,
   "metadata": {},
   "outputs": [
    {
     "name": "stdout",
     "output_type": "stream",
     "text": [
      "<class 'numpy.ndarray'>\n"
     ]
    }
   ],
   "source": [
    "from numpy.random import default_rng\n",
    "rg = default_rng(12345)\n",
    "X = rg.normal(100,25, size=(50,7))\n",
    "print(type(X))\n"
   ]
  },
  {
   "cell_type": "code",
   "execution_count": 33,
   "metadata": {},
   "outputs": [
    {
     "data": {
      "text/plain": [
       "(50, 7)"
      ]
     },
     "execution_count": 33,
     "metadata": {},
     "output_type": "execute_result"
    }
   ],
   "source": [
    "X.shape"
   ]
  },
  {
   "cell_type": "markdown",
   "metadata": {},
   "source": [
    "### 6b)\n",
    "Convert the `X` object to a Pandas DataFrame and assign the result to the variable `Xdf`. Check the data type and print the `.dtypes` attribute associated with the variables in the DataFrame."
   ]
  },
  {
   "cell_type": "markdown",
   "metadata": {},
   "source": [
    "#### 6b) - SOLUTION"
   ]
  },
  {
   "cell_type": "code",
   "execution_count": 34,
   "metadata": {},
   "outputs": [],
   "source": [
    "Xdf = pd.DataFrame(X)"
   ]
  },
  {
   "cell_type": "code",
   "execution_count": 35,
   "metadata": {},
   "outputs": [
    {
     "name": "stdout",
     "output_type": "stream",
     "text": [
      "<class 'pandas.core.frame.DataFrame'>\n",
      "RangeIndex: 50 entries, 0 to 49\n",
      "Data columns (total 7 columns):\n",
      " #   Column  Non-Null Count  Dtype  \n",
      "---  ------  --------------  -----  \n",
      " 0   0       50 non-null     float64\n",
      " 1   1       50 non-null     float64\n",
      " 2   2       50 non-null     float64\n",
      " 3   3       50 non-null     float64\n",
      " 4   4       50 non-null     float64\n",
      " 5   5       50 non-null     float64\n",
      " 6   6       50 non-null     float64\n",
      "dtypes: float64(7)\n",
      "memory usage: 2.9 KB\n"
     ]
    }
   ],
   "source": [
    "Xdf.info()"
   ]
  },
  {
   "cell_type": "code",
   "execution_count": 36,
   "metadata": {},
   "outputs": [
    {
     "data": {
      "text/plain": [
       "0    float64\n",
       "1    float64\n",
       "2    float64\n",
       "3    float64\n",
       "4    float64\n",
       "5    float64\n",
       "6    float64\n",
       "dtype: object"
      ]
     },
     "execution_count": 36,
     "metadata": {},
     "output_type": "execute_result"
    }
   ],
   "source": [
    "Xdf.dtypes"
   ]
  },
  {
   "cell_type": "markdown",
   "metadata": {},
   "source": [
    "### 6c)\n",
    "Use the transpose attribute, `.T` to transpose the DataFrame. Print the shape of the transposed object to the screen."
   ]
  },
  {
   "cell_type": "markdown",
   "metadata": {},
   "source": [
    "#### 6c) - SOLUTION"
   ]
  },
  {
   "cell_type": "code",
   "execution_count": 37,
   "metadata": {},
   "outputs": [
    {
     "data": {
      "text/html": [
       "<div>\n",
       "<style scoped>\n",
       "    .dataframe tbody tr th:only-of-type {\n",
       "        vertical-align: middle;\n",
       "    }\n",
       "\n",
       "    .dataframe tbody tr th {\n",
       "        vertical-align: top;\n",
       "    }\n",
       "\n",
       "    .dataframe thead th {\n",
       "        text-align: right;\n",
       "    }\n",
       "</style>\n",
       "<table border=\"1\" class=\"dataframe\">\n",
       "  <thead>\n",
       "    <tr style=\"text-align: right;\">\n",
       "      <th></th>\n",
       "      <th>0</th>\n",
       "      <th>1</th>\n",
       "      <th>2</th>\n",
       "      <th>3</th>\n",
       "      <th>4</th>\n",
       "      <th>5</th>\n",
       "      <th>6</th>\n",
       "      <th>7</th>\n",
       "      <th>8</th>\n",
       "      <th>9</th>\n",
       "      <th>...</th>\n",
       "      <th>40</th>\n",
       "      <th>41</th>\n",
       "      <th>42</th>\n",
       "      <th>43</th>\n",
       "      <th>44</th>\n",
       "      <th>45</th>\n",
       "      <th>46</th>\n",
       "      <th>47</th>\n",
       "      <th>48</th>\n",
       "      <th>49</th>\n",
       "    </tr>\n",
       "  </thead>\n",
       "  <tbody>\n",
       "    <tr>\n",
       "      <th>0</th>\n",
       "      <td>64.404374</td>\n",
       "      <td>116.222320</td>\n",
       "      <td>88.326171</td>\n",
       "      <td>92.507537</td>\n",
       "      <td>143.118498</td>\n",
       "      <td>113.538671</td>\n",
       "      <td>131.749578</td>\n",
       "      <td>101.772865</td>\n",
       "      <td>107.500774</td>\n",
       "      <td>102.442913</td>\n",
       "      <td>...</td>\n",
       "      <td>67.570418</td>\n",
       "      <td>87.162799</td>\n",
       "      <td>58.977452</td>\n",
       "      <td>96.767682</td>\n",
       "      <td>86.100025</td>\n",
       "      <td>89.718852</td>\n",
       "      <td>108.249934</td>\n",
       "      <td>99.816326</td>\n",
       "      <td>77.344023</td>\n",
       "      <td>134.485171</td>\n",
       "    </tr>\n",
       "    <tr>\n",
       "      <th>1</th>\n",
       "      <td>131.593211</td>\n",
       "      <td>109.026453</td>\n",
       "      <td>98.482762</td>\n",
       "      <td>122.572984</td>\n",
       "      <td>165.453986</td>\n",
       "      <td>118.798485</td>\n",
       "      <td>97.675939</td>\n",
       "      <td>110.841363</td>\n",
       "      <td>59.932460</td>\n",
       "      <td>58.989554</td>\n",
       "      <td>...</td>\n",
       "      <td>93.309142</td>\n",
       "      <td>74.606585</td>\n",
       "      <td>67.149910</td>\n",
       "      <td>108.861977</td>\n",
       "      <td>133.909525</td>\n",
       "      <td>117.975316</td>\n",
       "      <td>82.238835</td>\n",
       "      <td>120.776892</td>\n",
       "      <td>129.136982</td>\n",
       "      <td>114.918810</td>\n",
       "    </tr>\n",
       "    <tr>\n",
       "      <th>2</th>\n",
       "      <td>78.233457</td>\n",
       "      <td>51.178423</td>\n",
       "      <td>119.721109</td>\n",
       "      <td>59.460432</td>\n",
       "      <td>119.434034</td>\n",
       "      <td>83.530992</td>\n",
       "      <td>98.346228</td>\n",
       "      <td>106.937091</td>\n",
       "      <td>106.669971</td>\n",
       "      <td>78.568529</td>\n",
       "      <td>...</td>\n",
       "      <td>48.244836</td>\n",
       "      <td>73.243227</td>\n",
       "      <td>87.241187</td>\n",
       "      <td>72.928184</td>\n",
       "      <td>22.009784</td>\n",
       "      <td>59.187013</td>\n",
       "      <td>55.722321</td>\n",
       "      <td>99.609862</td>\n",
       "      <td>115.776185</td>\n",
       "      <td>110.828827</td>\n",
       "    </tr>\n",
       "    <tr>\n",
       "      <th>3</th>\n",
       "      <td>93.520669</td>\n",
       "      <td>158.685241</td>\n",
       "      <td>68.583297</td>\n",
       "      <td>96.045268</td>\n",
       "      <td>120.715830</td>\n",
       "      <td>69.283125</td>\n",
       "      <td>72.294638</td>\n",
       "      <td>113.256310</td>\n",
       "      <td>68.459405</td>\n",
       "      <td>117.207045</td>\n",
       "      <td>...</td>\n",
       "      <td>96.052686</td>\n",
       "      <td>103.097816</td>\n",
       "      <td>97.503478</td>\n",
       "      <td>106.123481</td>\n",
       "      <td>63.808208</td>\n",
       "      <td>78.857659</td>\n",
       "      <td>140.020896</td>\n",
       "      <td>84.227342</td>\n",
       "      <td>149.387964</td>\n",
       "      <td>147.174702</td>\n",
       "    </tr>\n",
       "    <tr>\n",
       "      <th>4</th>\n",
       "      <td>98.116417</td>\n",
       "      <td>124.212423</td>\n",
       "      <td>114.396438</td>\n",
       "      <td>111.237098</td>\n",
       "      <td>76.025292</td>\n",
       "      <td>106.438944</td>\n",
       "      <td>103.398921</td>\n",
       "      <td>113.418024</td>\n",
       "      <td>98.218230</td>\n",
       "      <td>71.136760</td>\n",
       "      <td>...</td>\n",
       "      <td>150.723566</td>\n",
       "      <td>79.924603</td>\n",
       "      <td>96.762331</td>\n",
       "      <td>105.520520</td>\n",
       "      <td>57.355365</td>\n",
       "      <td>94.422499</td>\n",
       "      <td>111.777452</td>\n",
       "      <td>117.737535</td>\n",
       "      <td>86.833620</td>\n",
       "      <td>81.415227</td>\n",
       "    </tr>\n",
       "    <tr>\n",
       "      <th>5</th>\n",
       "      <td>81.477884</td>\n",
       "      <td>81.015320</td>\n",
       "      <td>134.974475</td>\n",
       "      <td>66.409973</td>\n",
       "      <td>69.765293</td>\n",
       "      <td>107.822573</td>\n",
       "      <td>133.676944</td>\n",
       "      <td>115.458750</td>\n",
       "      <td>111.851243</td>\n",
       "      <td>116.261310</td>\n",
       "      <td>...</td>\n",
       "      <td>117.039272</td>\n",
       "      <td>84.059106</td>\n",
       "      <td>65.082374</td>\n",
       "      <td>83.489188</td>\n",
       "      <td>90.547002</td>\n",
       "      <td>69.944542</td>\n",
       "      <td>110.593766</td>\n",
       "      <td>101.492379</td>\n",
       "      <td>81.411485</td>\n",
       "      <td>68.801275</td>\n",
       "    </tr>\n",
       "    <tr>\n",
       "      <th>6</th>\n",
       "      <td>65.805182</td>\n",
       "      <td>122.554957</td>\n",
       "      <td>133.057452</td>\n",
       "      <td>97.957810</td>\n",
       "      <td>64.692700</td>\n",
       "      <td>96.729708</td>\n",
       "      <td>101.528601</td>\n",
       "      <td>80.124564</td>\n",
       "      <td>89.628656</td>\n",
       "      <td>65.291001</td>\n",
       "      <td>...</td>\n",
       "      <td>120.905090</td>\n",
       "      <td>128.612391</td>\n",
       "      <td>104.845234</td>\n",
       "      <td>94.536621</td>\n",
       "      <td>83.037652</td>\n",
       "      <td>109.249692</td>\n",
       "      <td>101.806512</td>\n",
       "      <td>80.688106</td>\n",
       "      <td>110.097264</td>\n",
       "      <td>81.384542</td>\n",
       "    </tr>\n",
       "  </tbody>\n",
       "</table>\n",
       "<p>7 rows × 50 columns</p>\n",
       "</div>"
      ],
      "text/plain": [
       "           0           1           2           3           4           5   \\\n",
       "0   64.404374  116.222320   88.326171   92.507537  143.118498  113.538671   \n",
       "1  131.593211  109.026453   98.482762  122.572984  165.453986  118.798485   \n",
       "2   78.233457   51.178423  119.721109   59.460432  119.434034   83.530992   \n",
       "3   93.520669  158.685241   68.583297   96.045268  120.715830   69.283125   \n",
       "4   98.116417  124.212423  114.396438  111.237098   76.025292  106.438944   \n",
       "5   81.477884   81.015320  134.974475   66.409973   69.765293  107.822573   \n",
       "6   65.805182  122.554957  133.057452   97.957810   64.692700   96.729708   \n",
       "\n",
       "           6           7           8           9   ...          40  \\\n",
       "0  131.749578  101.772865  107.500774  102.442913  ...   67.570418   \n",
       "1   97.675939  110.841363   59.932460   58.989554  ...   93.309142   \n",
       "2   98.346228  106.937091  106.669971   78.568529  ...   48.244836   \n",
       "3   72.294638  113.256310   68.459405  117.207045  ...   96.052686   \n",
       "4  103.398921  113.418024   98.218230   71.136760  ...  150.723566   \n",
       "5  133.676944  115.458750  111.851243  116.261310  ...  117.039272   \n",
       "6  101.528601   80.124564   89.628656   65.291001  ...  120.905090   \n",
       "\n",
       "           41          42          43          44          45          46  \\\n",
       "0   87.162799   58.977452   96.767682   86.100025   89.718852  108.249934   \n",
       "1   74.606585   67.149910  108.861977  133.909525  117.975316   82.238835   \n",
       "2   73.243227   87.241187   72.928184   22.009784   59.187013   55.722321   \n",
       "3  103.097816   97.503478  106.123481   63.808208   78.857659  140.020896   \n",
       "4   79.924603   96.762331  105.520520   57.355365   94.422499  111.777452   \n",
       "5   84.059106   65.082374   83.489188   90.547002   69.944542  110.593766   \n",
       "6  128.612391  104.845234   94.536621   83.037652  109.249692  101.806512   \n",
       "\n",
       "           47          48          49  \n",
       "0   99.816326   77.344023  134.485171  \n",
       "1  120.776892  129.136982  114.918810  \n",
       "2   99.609862  115.776185  110.828827  \n",
       "3   84.227342  149.387964  147.174702  \n",
       "4  117.737535   86.833620   81.415227  \n",
       "5  101.492379   81.411485   68.801275  \n",
       "6   80.688106  110.097264   81.384542  \n",
       "\n",
       "[7 rows x 50 columns]"
      ]
     },
     "execution_count": 37,
     "metadata": {},
     "output_type": "execute_result"
    }
   ],
   "source": [
    "Xdf.T"
   ]
  },
  {
   "cell_type": "markdown",
   "metadata": {},
   "source": [
    "### 6d)\n",
    "Let's visualize the summary statistics associated with the 7 random samples over the 25 replications with a boxplot. Use the transposed object and plot the boxplot using the `.boxplot()` method. Set the `figsize` argument in `.boxplot()` to be `(18, 6)`. Set the `showmeans` argument in `.boxplot()` to be `True`. \n",
    "\n",
    "`matplotlib.pyplot` is imported for you as `plt` in the cell below."
   ]
  },
  {
   "cell_type": "code",
   "execution_count": 38,
   "metadata": {},
   "outputs": [],
   "source": [
    "import matplotlib.pyplot as plt"
   ]
  },
  {
   "cell_type": "markdown",
   "metadata": {},
   "source": [
    "#### 6d) - SOLUTION"
   ]
  },
  {
   "cell_type": "code",
   "execution_count": 39,
   "metadata": {},
   "outputs": [
    {
     "data": {
      "image/png": "[encoded data removed]",
      "text/plain": [
       "<Figure size 1296x432 with 1 Axes>"
      ]
     },
     "metadata": {
      "needs_background": "light"
     },
     "output_type": "display_data"
    }
   ],
   "source": [
    "fig, ax = plt.subplots(figsize=(18, 6))\n",
    "\n",
    "Xdf.T.boxplot(showmeans=True)\n",
    "\n",
    "plt.show()"
   ]
  },
  {
   "cell_type": "markdown",
   "metadata": {},
   "source": [
    "### 6e)\n",
    "The sample averages based on the 7 random samples are displayed by the upward pointing triangles in the figure you should have generated in Problem 6d). The horizontal axis represents the replications.  \n",
    "\n",
    "Recreate the boxplot in Problem 6d), but this time generate the random samples using sample size 700 instead of 7. You will still use 50 replications. Assign the result to the variable `X70` and convert the result to a DataFrame and assign the result to the variable `X700df`."
   ]
  },
  {
   "cell_type": "markdown",
   "metadata": {},
   "source": [
    "#### 6e) - SOLUTION"
   ]
  },
  {
   "cell_type": "code",
   "execution_count": 40,
   "metadata": {},
   "outputs": [],
   "source": [
    "X70 = rg.normal(100,25, size=(50,700))\n",
    "X700df = pd.DataFrame(X70)"
   ]
  },
  {
   "cell_type": "markdown",
   "metadata": {},
   "source": [
    "### 6f)\n",
    "Generate the boxplot associated with the 50 replications of 700 random samples stored in the `X700df` object. Use the same `.boxplot()` method arguments as you did in Problem 6d). You must also transpose the object before creating the boxplot."
   ]
  },
  {
   "cell_type": "markdown",
   "metadata": {},
   "source": [
    "#### 6f) - SOLUTION"
   ]
  },
  {
   "cell_type": "code",
   "execution_count": 41,
   "metadata": {},
   "outputs": [
    {
     "data": {
      "image/png": "[encoded data removed]",
      "text/plain": [
       "<Figure size 1296x432 with 1 Axes>"
      ]
     },
     "metadata": {
      "needs_background": "light"
     },
     "output_type": "display_data"
    }
   ],
   "source": [
    "fig, ax = plt.subplots(figsize=(18, 6))\n",
    "\n",
    "X700df.T.boxplot(showmeans=True)\n",
    "\n",
    "plt.show()"
   ]
  },
  {
   "cell_type": "markdown",
   "metadata": {},
   "source": [
    "### 6g)\n",
    "Remember that the sample averages for each replication are shown by the upward facing triangles in the boxplots. What are the differences in the behavior of the sample averages between the 7 sample size case and the 700 sample size case?"
   ]
  },
  {
   "cell_type": "markdown",
   "metadata": {},
   "source": [
    "#### 6g) - SOLUTION"
   ]
  },
  {
   "cell_type": "markdown",
   "metadata": {},
   "source": [
    "What do you think?"
   ]
  },
  {
   "cell_type": "markdown",
   "metadata": {},
   "source": [
    "When we have sample size 700 the the average is lot more closer together that is the standard error decreases and becomes minimal compared the sample size of 7 where there is lot more variation in the mean which means standard error is high."
   ]
  }
 ],
 "metadata": {
  "kernelspec": {
   "display_name": "Python 3 (ipykernel)",
   "language": "python",
   "name": "python3"
  },
  "language_info": {
   "codemirror_mode": {
    "name": "ipython",
    "version": 3
   },
   "file_extension": ".py",
   "mimetype": "text/x-python",
   "name": "python",
   "nbconvert_exporter": "python",
   "pygments_lexer": "ipython3",
   "version": "3.8.11"
  }
 },
 "nbformat": 4,
 "nbformat_minor": 4
}
