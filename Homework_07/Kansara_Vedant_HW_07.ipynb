{
 "cells": [
  {
   "cell_type": "markdown",
   "metadata": {},
   "source": [
    "# CMPINF 2100: Homework 07\n",
    "\n",
    "## Vedant Kansara\n",
    "\n",
    "### Assigned: Monday November, 2021\n",
    "\n",
    "### DUE: Sunday Monday November 7, 2021 at 11:00AM EST\n",
    "\n",
    "You may add as many code and markdown cells as you see fit to answer the questions.\n",
    "\n",
    "#### Write the name of your collaborators here\n",
    "\n",
    "None.\n",
    "\n",
    "### Overview\n",
    "\n",
    "You will practice fitting models with the `statsmodels` formula interface. The first three problems are focused on regression and the last problem requires that you fit a logistic regression model. Please see the `statsmodels` background page on working with the formula interface for additional help.\n",
    "\n",
    "https://www.statsmodels.org/dev/example_formulas.html"
   ]
  },
  {
   "cell_type": "markdown",
   "metadata": {},
   "source": [
    "## Import modules\n",
    "\n",
    "You will use the following modules in this assignment."
   ]
  },
  {
   "cell_type": "code",
   "execution_count": 1,
   "metadata": {},
   "outputs": [],
   "source": [
    "import numpy as np\n",
    "import pandas as pd\n",
    "import matplotlib.pyplot as plt\n",
    "\n",
    "import seaborn as sns"
   ]
  },
  {
   "cell_type": "markdown",
   "metadata": {},
   "source": [
    "You will also use the `statsmodels` formula api to fit the models."
   ]
  },
  {
   "cell_type": "code",
   "execution_count": 2,
   "metadata": {},
   "outputs": [],
   "source": [
    "import statsmodels.formula.api as smf"
   ]
  },
  {
   "cell_type": "markdown",
   "metadata": {},
   "source": [
    "## Problem 01 \n",
    "Two data sets are loaded for you in the cell below. Both consist of a single input, `x`, and a single continuous response, `y`. The two data sets were generated from the same set of assumptions, except that the second data set is noisier than the first. The low noise data set is assigned to the `df01_low` object, while the high noise data set is assigned to the `df01_high` object."
   ]
  },
  {
   "cell_type": "code",
   "execution_count": 3,
   "metadata": {},
   "outputs": [],
   "source": [
    "url_01_low = 'https://raw.githubusercontent.com/jyurko/CMPINF_2100_Fall_2021/main/HW/07/hw07_prob01_low.csv'\n",
    "df01_low = pd.read_csv(url_01_low)\n",
    "\n",
    "url_01_high = 'https://raw.githubusercontent.com/jyurko/CMPINF_2100_Fall_2021/main/HW/07/hw07_prob01_high.csv'\n",
    "df01_high = pd.read_csv(url_01_high)"
   ]
  },
  {
   "cell_type": "markdown",
   "metadata": {},
   "source": [
    "### 1a)\n",
    "\n",
    "Create scatter plots between the response, `y`, and the input, `x`, for both data sets."
   ]
  },
  {
   "cell_type": "markdown",
   "metadata": {},
   "source": [
    "#### 1a) - SOLUTION"
   ]
  },
  {
   "cell_type": "markdown",
   "metadata": {},
   "source": [
    "Scatterplot for the low noise data set"
   ]
  },
  {
   "cell_type": "code",
   "execution_count": 4,
   "metadata": {},
   "outputs": [
    {
     "data": {
      "text/html": [
       "<div>\n",
       "<style scoped>\n",
       "    .dataframe tbody tr th:only-of-type {\n",
       "        vertical-align: middle;\n",
       "    }\n",
       "\n",
       "    .dataframe tbody tr th {\n",
       "        vertical-align: top;\n",
       "    }\n",
       "\n",
       "    .dataframe thead th {\n",
       "        text-align: right;\n",
       "    }\n",
       "</style>\n",
       "<table border=\"1\" class=\"dataframe\">\n",
       "  <thead>\n",
       "    <tr style=\"text-align: right;\">\n",
       "      <th></th>\n",
       "      <th>x</th>\n",
       "      <th>y</th>\n",
       "    </tr>\n",
       "  </thead>\n",
       "  <tbody>\n",
       "    <tr>\n",
       "      <th>0</th>\n",
       "      <td>-3.0</td>\n",
       "      <td>-5.624341</td>\n",
       "    </tr>\n",
       "    <tr>\n",
       "      <th>1</th>\n",
       "      <td>-2.5</td>\n",
       "      <td>-4.662160</td>\n",
       "    </tr>\n",
       "    <tr>\n",
       "      <th>2</th>\n",
       "      <td>-2.0</td>\n",
       "      <td>-3.982791</td>\n",
       "    </tr>\n",
       "    <tr>\n",
       "      <th>3</th>\n",
       "      <td>-1.5</td>\n",
       "      <td>-3.161049</td>\n",
       "    </tr>\n",
       "    <tr>\n",
       "      <th>4</th>\n",
       "      <td>-1.0</td>\n",
       "      <td>-1.918234</td>\n",
       "    </tr>\n",
       "  </tbody>\n",
       "</table>\n",
       "</div>"
      ],
      "text/plain": [
       "     x         y\n",
       "0 -3.0 -5.624341\n",
       "1 -2.5 -4.662160\n",
       "2 -2.0 -3.982791\n",
       "3 -1.5 -3.161049\n",
       "4 -1.0 -1.918234"
      ]
     },
     "execution_count": 4,
     "metadata": {},
     "output_type": "execute_result"
    }
   ],
   "source": [
    "df01_low.head()"
   ]
  },
  {
   "cell_type": "code",
   "execution_count": 5,
   "metadata": {},
   "outputs": [
    {
     "data": {
      "image/png": "[encoded data removed]",
      "text/plain": [
       "<Figure size 432x288 with 1 Axes>"
      ]
     },
     "metadata": {
      "needs_background": "light"
     },
     "output_type": "display_data"
    }
   ],
   "source": [
    "sns.scatterplot(data=df01_low, x='x', y='y')\n",
    "\n",
    "plt.show()"
   ]
  },
  {
   "cell_type": "markdown",
   "metadata": {},
   "source": [
    "Scatterplot for the high noise data set"
   ]
  },
  {
   "cell_type": "code",
   "execution_count": 6,
   "metadata": {},
   "outputs": [
    {
     "data": {
      "image/png": "[encoded data removed]",
      "text/plain": [
       "<Figure size 432x288 with 1 Axes>"
      ]
     },
     "metadata": {
      "needs_background": "light"
     },
     "output_type": "display_data"
    }
   ],
   "source": [
    "sns.scatterplot(data=df01_high, x='x', y='y')\n",
    "\n",
    "plt.show()"
   ]
  },
  {
   "cell_type": "markdown",
   "metadata": {},
   "source": [
    "### 1b)\n",
    "Fit a linear model assuming a linear relationship between the response and the input using the **low noise** data set. Assign the result to the `mod01_low` object. You must use the `statsmodels` formula interface api to fit the model."
   ]
  },
  {
   "cell_type": "markdown",
   "metadata": {},
   "source": [
    "#### 1b) - SOLUTION"
   ]
  },
  {
   "cell_type": "markdown",
   "metadata": {},
   "source": [
    "We will fit a linear model with a linear relationship between the input and the response.\n",
    "\n",
    "$$ \\mathrm{trend}_n = \\beta_0 + \\beta_1 x_{n} $$"
   ]
  },
  {
   "cell_type": "code",
   "execution_count": 7,
   "metadata": {},
   "outputs": [],
   "source": [
    "mod01_low = smf.ols(formula = 'y~x', data=df01_low).fit()"
   ]
  },
  {
   "cell_type": "markdown",
   "metadata": {},
   "source": [
    "### 1c)\n",
    "Display the summary associated with the `mod01_low` object. How many coefficients are estimated? What are their estimates? "
   ]
  },
  {
   "cell_type": "markdown",
   "metadata": {},
   "source": [
    "#### 1c) - SOLUTION"
   ]
  },
  {
   "cell_type": "code",
   "execution_count": 8,
   "metadata": {},
   "outputs": [
    {
     "name": "stdout",
     "output_type": "stream",
     "text": [
      "                            OLS Regression Results                            \n",
      "==============================================================================\n",
      "Dep. Variable:                      y   R-squared:                       0.995\n",
      "Model:                            OLS   Adj. R-squared:                  0.994\n",
      "Method:                 Least Squares   F-statistic:                     2020.\n",
      "Date:                Sun, 07 Nov 2021   Prob (F-statistic):           8.08e-14\n",
      "Time:                        06:41:01   Log-Likelihood:               -0.76223\n",
      "No. Observations:                  13   AIC:                             5.524\n",
      "Df Residuals:                      11   BIC:                             6.654\n",
      "Df Model:                           1                                         \n",
      "Covariance Type:            nonrobust                                         \n",
      "==============================================================================\n",
      "                 coef    std err          t      P>|t|      [0.025      0.975]\n",
      "------------------------------------------------------------------------------\n",
      "Intercept     -0.2329      0.077     -3.010      0.012      -0.403      -0.063\n",
      "x              1.8585      0.041     44.944      0.000       1.768       1.950\n",
      "==============================================================================\n",
      "Omnibus:                        1.023   Durbin-Watson:                   2.261\n",
      "Prob(Omnibus):                  0.599   Jarque-Bera (JB):                0.129\n",
      "Skew:                          -0.232   Prob(JB):                        0.937\n",
      "Kurtosis:                       3.153   Cond. No.                         1.87\n",
      "==============================================================================\n",
      "\n",
      "Notes:\n",
      "[1] Standard Errors assume that the covariance matrix of the errors is correctly specified.\n"
     ]
    },
    {
     "name": "stderr",
     "output_type": "stream",
     "text": [
      "C:\\Users\\Vedant\\anaconda3\\lib\\site-packages\\scipy\\stats\\stats.py:1603: UserWarning: kurtosistest only valid for n>=20 ... continuing anyway, n=13\n",
      "  warnings.warn(\"kurtosistest only valid for n>=20 ... continuing \"\n"
     ]
    }
   ],
   "source": [
    "print(mod01_low.summary())"
   ]
  },
  {
   "cell_type": "markdown",
   "metadata": {},
   "source": [
    "Two coefficients one for the intercept and one for the slope is estimated. \n",
    "\n",
    "The estimate for value of the intercept is **-0.2329**\n",
    "\n",
    "The estimate for value of the slope is **1.8585**"
   ]
  },
  {
   "cell_type": "markdown",
   "metadata": {},
   "source": [
    "### 1d)\n",
    "Fit a linear model assuming a linear relationship between the response and the input using the **high noise** data set. Assign the result to the `mod01_high` object. You muse use the `statsmodels` formula intereface api to fit the model."
   ]
  },
  {
   "cell_type": "markdown",
   "metadata": {},
   "source": [
    "#### 1d) - SOLUTION"
   ]
  },
  {
   "cell_type": "code",
   "execution_count": 9,
   "metadata": {},
   "outputs": [],
   "source": [
    "mod01_high = smf.ols(formula = 'y~x', data = df01_high).fit()"
   ]
  },
  {
   "cell_type": "markdown",
   "metadata": {},
   "source": [
    "### 1e)\n",
    "Display the summary associated with the `mod01_high` object. How many coefficients are estimated? What are their estimates?"
   ]
  },
  {
   "cell_type": "markdown",
   "metadata": {},
   "source": [
    "#### 1e) - SOLUTION"
   ]
  },
  {
   "cell_type": "code",
   "execution_count": 10,
   "metadata": {},
   "outputs": [
    {
     "name": "stdout",
     "output_type": "stream",
     "text": [
      "                            OLS Regression Results                            \n",
      "==============================================================================\n",
      "Dep. Variable:                      y   R-squared:                       0.884\n",
      "Model:                            OLS   Adj. R-squared:                  0.873\n",
      "Method:                 Least Squares   F-statistic:                     83.79\n",
      "Date:                Sun, 07 Nov 2021   Prob (F-statistic):           1.78e-06\n",
      "Time:                        06:41:01   Log-Likelihood:                -21.685\n",
      "No. Observations:                  13   AIC:                             47.37\n",
      "Df Residuals:                      11   BIC:                             48.50\n",
      "Df Model:                           1                                         \n",
      "Covariance Type:            nonrobust                                         \n",
      "==============================================================================\n",
      "                 coef    std err          t      P>|t|      [0.025      0.975]\n",
      "------------------------------------------------------------------------------\n",
      "Intercept     -0.1644      0.387     -0.425      0.679      -1.016       0.687\n",
      "x              1.8926      0.207      9.154      0.000       1.438       2.348\n",
      "==============================================================================\n",
      "Omnibus:                        1.023   Durbin-Watson:                   2.261\n",
      "Prob(Omnibus):                  0.599   Jarque-Bera (JB):                0.129\n",
      "Skew:                          -0.232   Prob(JB):                        0.937\n",
      "Kurtosis:                       3.153   Cond. No.                         1.87\n",
      "==============================================================================\n",
      "\n",
      "Notes:\n",
      "[1] Standard Errors assume that the covariance matrix of the errors is correctly specified.\n"
     ]
    },
    {
     "name": "stderr",
     "output_type": "stream",
     "text": [
      "C:\\Users\\Vedant\\anaconda3\\lib\\site-packages\\scipy\\stats\\stats.py:1603: UserWarning: kurtosistest only valid for n>=20 ... continuing anyway, n=13\n",
      "  warnings.warn(\"kurtosistest only valid for n>=20 ... continuing \"\n"
     ]
    }
   ],
   "source": [
    "print(mod01_high.summary())"
   ]
  },
  {
   "cell_type": "markdown",
   "metadata": {},
   "source": [
    "Two coefficients one for the intercept and one for the slope is estimated. \n",
    "\n",
    "The estimate for value of the intercept is **-0.1644**\n",
    "\n",
    "The estimate for value of the slope is **1.8926**"
   ]
  },
  {
   "cell_type": "markdown",
   "metadata": {},
   "source": [
    "### 1f)\n",
    "Study the summaries associated with your two different models. Which of the reported summaries about the coefficients describes the uncertainty associated with the coefficients? Which model's coefficients are more uncertain?"
   ]
  },
  {
   "cell_type": "markdown",
   "metadata": {},
   "source": [
    "#### 1f) - SOLUTION"
   ]
  },
  {
   "cell_type": "markdown",
   "metadata": {},
   "source": [
    "The data with high noise describes the uncertainity associated wih the coefficients.\n",
    "\n",
    "From the summary table we can see that the 95% confidence interval for the intercept is between **-1.016** and **0.687** which gives us the idea that the value is uncertain wheter to be greater than zero or less than zero.\n",
    "\n",
    "Whereas in the data with low noise we can cleary distinguish that the value of intercept will be negetive as we can see the confidence interval is between **-0.403** and **-0.063**"
   ]
  },
  {
   "cell_type": "markdown",
   "metadata": {},
   "source": [
    "## Problem 02\n",
    "A data set is read in for you in the cell below and assigned to the `df02` object. The `.info()` method is displayed for you to show that this data set includes 2 variables. The variable `x` is a continuous input and the variable `y` is a continuous response. \n",
    "\n",
    "In this question you fit 4 different polynomial models to predict `y` as a function of the input `x`. You will consider a linear relationship, a cubic relationship, a 5th order polynomial, and 7th order polynomial. You will fit the models with the `statsmodels` formula api, and thus you must type in the formula for each model."
   ]
  },
  {
   "cell_type": "code",
   "execution_count": 11,
   "metadata": {},
   "outputs": [],
   "source": [
    "url_02 = 'https://raw.githubusercontent.com/jyurko/CMPINF_2100_Fall_2021/main/HW/07/hw07_prob02.csv'\n",
    "\n",
    "df02 = pd.read_csv(url_02)"
   ]
  },
  {
   "cell_type": "code",
   "execution_count": 12,
   "metadata": {},
   "outputs": [
    {
     "name": "stdout",
     "output_type": "stream",
     "text": [
      "<class 'pandas.core.frame.DataFrame'>\n",
      "RangeIndex: 30 entries, 0 to 29\n",
      "Data columns (total 2 columns):\n",
      " #   Column  Non-Null Count  Dtype  \n",
      "---  ------  --------------  -----  \n",
      " 0   x       30 non-null     float64\n",
      " 1   y       30 non-null     float64\n",
      "dtypes: float64(2)\n",
      "memory usage: 608.0 bytes\n"
     ]
    }
   ],
   "source": [
    "# information about the DataFrame\n",
    "df02.info()"
   ]
  },
  {
   "cell_type": "markdown",
   "metadata": {},
   "source": [
    "### 2a)\n",
    "You should always start out by visualizing your data. Create a scatter plot between the response `y` and the input `x`."
   ]
  },
  {
   "cell_type": "markdown",
   "metadata": {},
   "source": [
    "#### 2a) - SOLUTION"
   ]
  },
  {
   "cell_type": "code",
   "execution_count": 13,
   "metadata": {},
   "outputs": [
    {
     "data": {
      "image/png": "[encoded data removed]",
      "text/plain": [
       "<Figure size 432x288 with 1 Axes>"
      ]
     },
     "metadata": {
      "needs_background": "light"
     },
     "output_type": "display_data"
    }
   ],
   "source": [
    "sns.scatterplot(data = df02, x='x', y='y')\n",
    "\n",
    "plt.show()"
   ]
  },
  {
   "cell_type": "markdown",
   "metadata": {},
   "source": [
    "### 2b)\n",
    "\n",
    "Fit a linear relationship between the continuous response `y` and the input `x`. You are therefore fitting the following relationship between the trend $\\mu_n$ and the input, $x_n$:  \n",
    "\n",
    "$$\\mu_n =\\beta_0 + \\beta_1 x_n$$\n",
    "\n",
    "Assign the result to the `mod02_linear` object. Display the summary associated with the model to the screen."
   ]
  },
  {
   "cell_type": "markdown",
   "metadata": {},
   "source": [
    "#### 2b) - SOLUTION"
   ]
  },
  {
   "cell_type": "code",
   "execution_count": 14,
   "metadata": {},
   "outputs": [],
   "source": [
    "mod02_linear = smf.ols(formula = 'y~x', data = df02).fit()"
   ]
  },
  {
   "cell_type": "code",
   "execution_count": 15,
   "metadata": {},
   "outputs": [
    {
     "name": "stdout",
     "output_type": "stream",
     "text": [
      "                            OLS Regression Results                            \n",
      "==============================================================================\n",
      "Dep. Variable:                      y   R-squared:                       0.066\n",
      "Model:                            OLS   Adj. R-squared:                  0.033\n",
      "Method:                 Least Squares   F-statistic:                     1.987\n",
      "Date:                Sun, 07 Nov 2021   Prob (F-statistic):              0.170\n",
      "Time:                        06:41:01   Log-Likelihood:                -84.475\n",
      "No. Observations:                  30   AIC:                             173.0\n",
      "Df Residuals:                      28   BIC:                             175.8\n",
      "Df Model:                           1                                         \n",
      "Covariance Type:            nonrobust                                         \n",
      "==============================================================================\n",
      "                 coef    std err          t      P>|t|      [0.025      0.975]\n",
      "------------------------------------------------------------------------------\n",
      "Intercept      3.1693      0.764      4.148      0.000       1.604       4.734\n",
      "x              0.9126      0.647      1.409      0.170      -0.414       2.239\n",
      "==============================================================================\n",
      "Omnibus:                       32.444   Durbin-Watson:                   1.896\n",
      "Prob(Omnibus):                  0.000   Jarque-Bera (JB):               90.079\n",
      "Skew:                           2.205   Prob(JB):                     2.75e-20\n",
      "Kurtosis:                      10.254   Cond. No.                         1.18\n",
      "==============================================================================\n",
      "\n",
      "Notes:\n",
      "[1] Standard Errors assume that the covariance matrix of the errors is correctly specified.\n"
     ]
    }
   ],
   "source": [
    "print(mod02_linear.summary())"
   ]
  },
  {
   "cell_type": "markdown",
   "metadata": {},
   "source": [
    "### 2c)\n",
    "Fit a cubic relationship (a third order polynomial) between the continuous response `y` and the input `x`. You are therefore fitting the following relationship between the trend $\\mu_n$ and the input, $x_n$:  \n",
    "\n",
    "$$\\mu_n =\\beta_0 + \\beta_1 x_n + \\beta_2 x_n^{2} + \\beta_3 x_n^{3}$$\n",
    "\n",
    "Assign the model the `mod02_cubic` object. Display the summary associated with the model to the screen.\n",
    "\n",
    "**HINT**: Polynomials or powers in the formula interface **cannot** be written with the usual Python `**` operator. This is because the formula interface comes from the old S-language syntax (the predecessor of the `R` statistical programming language). To create a polynomial term, such as the squared or quadratic term, please use the following syntax:  \n",
    "\n",
    "`'np.power(x, 2)'`\n",
    "\n",
    "Notice that the NumPy function `np.power()` is placed within character quotes to denote that you are typing your formula within a string."
   ]
  },
  {
   "cell_type": "markdown",
   "metadata": {},
   "source": [
    "#### 2c) - SOLUTION"
   ]
  },
  {
   "cell_type": "code",
   "execution_count": 16,
   "metadata": {},
   "outputs": [],
   "source": [
    "mod02_cubic = smf.ols(formula = 'y ~ x + np.power(x,2) + np.power(x,3)', data = df02).fit()"
   ]
  },
  {
   "cell_type": "code",
   "execution_count": 17,
   "metadata": {},
   "outputs": [
    {
     "name": "stdout",
     "output_type": "stream",
     "text": [
      "                            OLS Regression Results                            \n",
      "==============================================================================\n",
      "Dep. Variable:                      y   R-squared:                       0.765\n",
      "Model:                            OLS   Adj. R-squared:                  0.738\n",
      "Method:                 Least Squares   F-statistic:                     28.27\n",
      "Date:                Sun, 07 Nov 2021   Prob (F-statistic):           2.42e-08\n",
      "Time:                        06:41:01   Log-Likelihood:                -63.756\n",
      "No. Observations:                  30   AIC:                             135.5\n",
      "Df Residuals:                      26   BIC:                             141.1\n",
      "Df Model:                           3                                         \n",
      "Covariance Type:            nonrobust                                         \n",
      "==================================================================================\n",
      "                     coef    std err          t      P>|t|      [0.025      0.975]\n",
      "----------------------------------------------------------------------------------\n",
      "Intercept          1.3047      0.523      2.493      0.019       0.229       2.381\n",
      "x                 -1.8887      0.629     -3.005      0.006      -3.181      -0.597\n",
      "np.power(x, 2)     1.3157      0.246      5.353      0.000       0.811       1.821\n",
      "np.power(x, 3)     0.8145      0.155      5.247      0.000       0.495       1.133\n",
      "==============================================================================\n",
      "Omnibus:                        0.939   Durbin-Watson:                   1.961\n",
      "Prob(Omnibus):                  0.625   Jarque-Bera (JB):                0.793\n",
      "Skew:                          -0.037   Prob(JB):                        0.673\n",
      "Kurtosis:                       2.207   Cond. No.                         8.23\n",
      "==============================================================================\n",
      "\n",
      "Notes:\n",
      "[1] Standard Errors assume that the covariance matrix of the errors is correctly specified.\n"
     ]
    }
   ],
   "source": [
    "print(mod02_cubic.summary())"
   ]
  },
  {
   "cell_type": "markdown",
   "metadata": {},
   "source": [
    "### 2d)\n",
    "Fit a fifth order polynomial between the continuous response `y` and the input `x`. You are therefore fitting the following relationship between the trend $\\mu_n$ and the input, $x_n$:  \n",
    "\n",
    "$$\\mu_n =\\beta_0 + \\beta_1 x_n + \\beta_2 x_n^{2} + \\beta_3 x_n^{3} + \\beta_4 x_n^{4} + \\beta_5 x_n^{5}$$\n",
    "\n",
    "Assign the model the `mod02_fifth` object. Display the summary associated with the model to the screen."
   ]
  },
  {
   "cell_type": "markdown",
   "metadata": {},
   "source": [
    "#### 2d) - SOLUTION"
   ]
  },
  {
   "cell_type": "code",
   "execution_count": 18,
   "metadata": {},
   "outputs": [],
   "source": [
    "mod02_fifth = smf.ols(formula = 'y ~ x + np.power(x,2) + np.power(x,3) + np.power(x,4) + np.power(x,5)', data = df02).fit()"
   ]
  },
  {
   "cell_type": "code",
   "execution_count": 19,
   "metadata": {},
   "outputs": [
    {
     "name": "stdout",
     "output_type": "stream",
     "text": [
      "                            OLS Regression Results                            \n",
      "==============================================================================\n",
      "Dep. Variable:                      y   R-squared:                       0.789\n",
      "Model:                            OLS   Adj. R-squared:                  0.745\n",
      "Method:                 Least Squares   F-statistic:                     17.98\n",
      "Date:                Sun, 07 Nov 2021   Prob (F-statistic):           2.00e-07\n",
      "Time:                        06:41:01   Log-Likelihood:                -62.141\n",
      "No. Observations:                  30   AIC:                             136.3\n",
      "Df Residuals:                      24   BIC:                             144.7\n",
      "Df Model:                           5                                         \n",
      "Covariance Type:            nonrobust                                         \n",
      "==================================================================================\n",
      "                     coef    std err          t      P>|t|      [0.025      0.975]\n",
      "----------------------------------------------------------------------------------\n",
      "Intercept          1.5614      0.625      2.500      0.020       0.272       2.850\n",
      "x                 -0.3100      1.297     -0.239      0.813      -2.987       2.367\n",
      "np.power(x, 2)     0.8256      0.672      1.228      0.231      -0.562       2.213\n",
      "np.power(x, 3)    -0.3758      0.886     -0.424      0.675      -2.205       1.453\n",
      "np.power(x, 4)     0.0537      0.117      0.458      0.651      -0.188       0.296\n",
      "np.power(x, 5)     0.1456      0.112      1.297      0.207      -0.086       0.377\n",
      "==============================================================================\n",
      "Omnibus:                        0.137   Durbin-Watson:                   2.262\n",
      "Prob(Omnibus):                  0.934   Jarque-Bera (JB):                0.292\n",
      "Skew:                           0.135   Prob(JB):                        0.864\n",
      "Kurtosis:                       2.599   Cond. No.                         122.\n",
      "==============================================================================\n",
      "\n",
      "Notes:\n",
      "[1] Standard Errors assume that the covariance matrix of the errors is correctly specified.\n"
     ]
    }
   ],
   "source": [
    "print(mod02_fifth.summary())"
   ]
  },
  {
   "cell_type": "markdown",
   "metadata": {},
   "source": [
    "### 2e)\n",
    "Fit a seventh order polynomial between the continuous response `y` and the input `x`. You are therefore fitting the following relationship between the trend $\\mu_n$ and the input, $x_n$:  \n",
    "\n",
    "$$\\mu_n =\\beta_0 + \\beta_1 x_n + \\beta_2 x_n^{2} + \\beta_3 x_n^{3} + \\beta_4 x_n^{4} + \\beta_5 x_n^{5} + \\beta_6 x_n^{6} + \\beta_7 x_n^{7}$$\n",
    "\n",
    "Assign the model the `mod02_seventh` object. Display the summary associated with the model to the screen."
   ]
  },
  {
   "cell_type": "code",
   "execution_count": 20,
   "metadata": {},
   "outputs": [],
   "source": [
    "mod02_seventh = smf.ols(formula = 'y ~ x + np.power(x,2) + np.power(x,3) + np.power(x,4) + np.power(x,5) + np.power(x,6) + np.power(x,7)',\n",
    "                        data=df02).fit()"
   ]
  },
  {
   "cell_type": "code",
   "execution_count": 21,
   "metadata": {},
   "outputs": [
    {
     "name": "stdout",
     "output_type": "stream",
     "text": [
      "                            OLS Regression Results                            \n",
      "==============================================================================\n",
      "Dep. Variable:                      y   R-squared:                       0.795\n",
      "Model:                            OLS   Adj. R-squared:                  0.729\n",
      "Method:                 Least Squares   F-statistic:                     12.17\n",
      "Date:                Sun, 07 Nov 2021   Prob (F-statistic):           2.82e-06\n",
      "Time:                        06:41:01   Log-Likelihood:                -61.753\n",
      "No. Observations:                  30   AIC:                             139.5\n",
      "Df Residuals:                      22   BIC:                             150.7\n",
      "Df Model:                           7                                         \n",
      "Covariance Type:            nonrobust                                         \n",
      "==================================================================================\n",
      "                     coef    std err          t      P>|t|      [0.025      0.975]\n",
      "----------------------------------------------------------------------------------\n",
      "Intercept          1.6555      0.755      2.193      0.039       0.090       3.221\n",
      "x                  0.8533      2.329      0.366      0.718      -3.976       5.683\n",
      "np.power(x, 2)    -0.0248      2.042     -0.012      0.990      -4.260       4.210\n",
      "np.power(x, 3)    -2.6267      3.620     -0.726      0.476     -10.134       4.881\n",
      "np.power(x, 4)     0.5512      1.086      0.507      0.617      -1.702       2.804\n",
      "np.power(x, 5)     1.1312      1.500      0.754      0.459      -1.980       4.242\n",
      "np.power(x, 6)    -0.0417      0.122     -0.343      0.735      -0.294       0.210\n",
      "np.power(x, 7)    -0.1009      0.154     -0.657      0.518      -0.420       0.218\n",
      "==============================================================================\n",
      "Omnibus:                        0.206   Durbin-Watson:                   2.217\n",
      "Prob(Omnibus):                  0.902   Jarque-Bera (JB):                0.385\n",
      "Skew:                           0.145   Prob(JB):                        0.825\n",
      "Kurtosis:                       2.527   Cond. No.                     2.33e+03\n",
      "==============================================================================\n",
      "\n",
      "Notes:\n",
      "[1] Standard Errors assume that the covariance matrix of the errors is correctly specified.\n",
      "[2] The condition number is large, 2.33e+03. This might indicate that there are\n",
      "strong multicollinearity or other numerical problems.\n"
     ]
    }
   ],
   "source": [
    "print(mod02_seventh.summary())"
   ]
  },
  {
   "cell_type": "markdown",
   "metadata": {},
   "source": [
    "### 2f)\n",
    "Which of the 4 models has the highest R-squared value on the training set?"
   ]
  },
  {
   "cell_type": "markdown",
   "metadata": {},
   "source": [
    "#### 2f) - SOLUTION"
   ]
  },
  {
   "cell_type": "markdown",
   "metadata": {},
   "source": [
    "Type your response in a markdown cell, you may add additional code and markdown cells to support your response."
   ]
  },
  {
   "cell_type": "code",
   "execution_count": 22,
   "metadata": {},
   "outputs": [
    {
     "data": {
      "text/plain": [
       "0.06625079657768629"
      ]
     },
     "execution_count": 22,
     "metadata": {},
     "output_type": "execute_result"
    }
   ],
   "source": [
    "mod02_linear.rsquared"
   ]
  },
  {
   "cell_type": "code",
   "execution_count": 23,
   "metadata": {},
   "outputs": [
    {
     "data": {
      "text/plain": [
       "0.7653816735436172"
      ]
     },
     "execution_count": 23,
     "metadata": {},
     "output_type": "execute_result"
    }
   ],
   "source": [
    "mod02_cubic.rsquared"
   ]
  },
  {
   "cell_type": "code",
   "execution_count": 24,
   "metadata": {},
   "outputs": [
    {
     "data": {
      "text/plain": [
       "0.7893297614409919"
      ]
     },
     "execution_count": 24,
     "metadata": {},
     "output_type": "execute_result"
    }
   ],
   "source": [
    "mod02_fifth.rsquared"
   ]
  },
  {
   "cell_type": "code",
   "execution_count": 25,
   "metadata": {},
   "outputs": [
    {
     "data": {
      "text/plain": [
       "0.7947139895758659"
      ]
     },
     "execution_count": 25,
     "metadata": {},
     "output_type": "execute_result"
    }
   ],
   "source": [
    "mod02_seventh.rsquared"
   ]
  },
  {
   "cell_type": "markdown",
   "metadata": {},
   "source": [
    "By comparing all the values of **R-square** we can see that the `mod02_seventh` model has the highest value of **R-squared**"
   ]
  },
  {
   "cell_type": "markdown",
   "metadata": {},
   "source": [
    "## Problem 03\n",
    "The cell below reads in a data set assigns it to the `df03` object. The `.info()` method is displayed to the screen to show you that the DataFrame consists of 2 continuous inputs, `x1` and `x2`, and a continuous response `y`. In this problem you will consider the difference between a model without interactions, an additive only model, and a model with interactions."
   ]
  },
  {
   "cell_type": "code",
   "execution_count": 26,
   "metadata": {},
   "outputs": [],
   "source": [
    "url_03 = 'https://raw.githubusercontent.com/jyurko/CMPINF_2100_Fall_2021/main/HW/07/hw07_prob03.csv'\n",
    "\n",
    "df03 = pd.read_csv(url_03)"
   ]
  },
  {
   "cell_type": "code",
   "execution_count": 27,
   "metadata": {},
   "outputs": [
    {
     "name": "stdout",
     "output_type": "stream",
     "text": [
      "<class 'pandas.core.frame.DataFrame'>\n",
      "RangeIndex: 25 entries, 0 to 24\n",
      "Data columns (total 3 columns):\n",
      " #   Column  Non-Null Count  Dtype  \n",
      "---  ------  --------------  -----  \n",
      " 0   x1      25 non-null     float64\n",
      " 1   x2      25 non-null     float64\n",
      " 2   y       25 non-null     float64\n",
      "dtypes: float64(3)\n",
      "memory usage: 728.0 bytes\n"
     ]
    }
   ],
   "source": [
    "# display the information of the DataFrame\n",
    "df03.info()"
   ]
  },
  {
   "cell_type": "markdown",
   "metadata": {},
   "source": [
    "### 3a)\n",
    "Create a scatter plot between the response `y` and the input `x1`."
   ]
  },
  {
   "cell_type": "markdown",
   "metadata": {},
   "source": [
    "#### 3a) - SOLUTION"
   ]
  },
  {
   "cell_type": "code",
   "execution_count": 28,
   "metadata": {},
   "outputs": [
    {
     "data": {
      "image/png": "[encoded data removed]",
      "text/plain": [
       "<Figure size 432x288 with 1 Axes>"
      ]
     },
     "metadata": {
      "needs_background": "light"
     },
     "output_type": "display_data"
    }
   ],
   "source": [
    "sns.scatterplot(data = df03, x='x1', y='y')\n",
    "\n",
    "plt.show()"
   ]
  },
  {
   "cell_type": "markdown",
   "metadata": {},
   "source": [
    "### 3b) \n",
    "Create a scatter plot between the response `y` and the input `x2`."
   ]
  },
  {
   "cell_type": "markdown",
   "metadata": {},
   "source": [
    "#### 3b) - SOLUTION"
   ]
  },
  {
   "cell_type": "code",
   "execution_count": 29,
   "metadata": {},
   "outputs": [
    {
     "data": {
      "image/png": "[encoded data removed]",
      "text/plain": [
       "<Figure size 432x288 with 1 Axes>"
      ]
     },
     "metadata": {
      "needs_background": "light"
     },
     "output_type": "display_data"
    }
   ],
   "source": [
    "sns.scatterplot(data = df03, x='x2', y='y')\n",
    "\n",
    "plt.show()"
   ]
  },
  {
   "cell_type": "markdown",
   "metadata": {},
   "source": [
    "### 3c)\n",
    "Fit a model between the response `y` and the two inputs, assuming linear additive terms. You are therefore fitting the following relationship between the trend $\\mu_n$ and the inputs, $x_{n,1}$ and $x_{n,2}$:  \n",
    "\n",
    "$$\\mu_n =\\beta_0 + \\beta_1 x_{n,1} + \\beta_2 x_{n,2}$$\n",
    "\n",
    "Assign the model the `mod03_add` object. Display the summary associated with the model to the screen. How many coefficients estimates are there?"
   ]
  },
  {
   "cell_type": "markdown",
   "metadata": {},
   "source": [
    "#### 3c) - SOLUTION"
   ]
  },
  {
   "cell_type": "code",
   "execution_count": 30,
   "metadata": {},
   "outputs": [],
   "source": [
    "mod03_add = smf.ols(formula = 'y ~ x1 + x2', data=df03).fit()"
   ]
  },
  {
   "cell_type": "code",
   "execution_count": 31,
   "metadata": {},
   "outputs": [
    {
     "name": "stdout",
     "output_type": "stream",
     "text": [
      "                            OLS Regression Results                            \n",
      "==============================================================================\n",
      "Dep. Variable:                      y   R-squared:                       0.182\n",
      "Model:                            OLS   Adj. R-squared:                  0.107\n",
      "Method:                 Least Squares   F-statistic:                     2.443\n",
      "Date:                Sun, 07 Nov 2021   Prob (F-statistic):              0.110\n",
      "Time:                        06:41:02   Log-Likelihood:                -45.769\n",
      "No. Observations:                  25   AIC:                             97.54\n",
      "Df Residuals:                      22   BIC:                             101.2\n",
      "Df Model:                           2                                         \n",
      "Covariance Type:            nonrobust                                         \n",
      "==============================================================================\n",
      "                 coef    std err          t      P>|t|      [0.025      0.975]\n",
      "------------------------------------------------------------------------------\n",
      "Intercept     -0.0513      0.327     -0.157      0.877      -0.729       0.626\n",
      "x1             0.6833      0.343      1.993      0.059      -0.028       1.394\n",
      "x2            -0.2066      0.346     -0.597      0.557      -0.924       0.511\n",
      "==============================================================================\n",
      "Omnibus:                        0.048   Durbin-Watson:                   2.413\n",
      "Prob(Omnibus):                  0.976   Jarque-Bera (JB):                0.060\n",
      "Skew:                          -0.001   Prob(JB):                        0.970\n",
      "Kurtosis:                       2.760   Cond. No.                         1.25\n",
      "==============================================================================\n",
      "\n",
      "Notes:\n",
      "[1] Standard Errors assume that the covariance matrix of the errors is correctly specified.\n"
     ]
    }
   ],
   "source": [
    "print(mod03_add.summary())"
   ]
  },
  {
   "cell_type": "markdown",
   "metadata": {},
   "source": [
    "There are 3 cofficients estimated one for the intercept, one for x1 and one for x2."
   ]
  },
  {
   "cell_type": "markdown",
   "metadata": {},
   "source": [
    "### 3d) \n",
    "Fit a model between the response `y` and the two inputs, which includes an interaction term as well as the additive (main) terms. You are therefore fitting the following relationship between the trend $\\mu_n$ and the inputs, $x_{n,1}$ and $x_{n,2}$:  \n",
    "\n",
    "$$\\mu_n =\\beta_0 + \\beta_1 x_{n,1} + \\beta_2 x_{n,2} + \\beta_3 x_{n,1} x_{n,2}$$\n",
    "\n",
    "Assign the model the `mod03_interact` object. Display the summary associated with the model to the screen. How many coefficient estimates are there?"
   ]
  },
  {
   "cell_type": "markdown",
   "metadata": {},
   "source": [
    "#### 3d) - SOLUTION"
   ]
  },
  {
   "cell_type": "code",
   "execution_count": 32,
   "metadata": {},
   "outputs": [],
   "source": [
    "mod03_interact = smf.ols(formula = 'y ~ x1*x2', data = df03).fit()"
   ]
  },
  {
   "cell_type": "code",
   "execution_count": 33,
   "metadata": {},
   "outputs": [
    {
     "name": "stdout",
     "output_type": "stream",
     "text": [
      "                            OLS Regression Results                            \n",
      "==============================================================================\n",
      "Dep. Variable:                      y   R-squared:                       0.918\n",
      "Model:                            OLS   Adj. R-squared:                  0.907\n",
      "Method:                 Least Squares   F-statistic:                     78.57\n",
      "Date:                Sun, 07 Nov 2021   Prob (F-statistic):           1.40e-11\n",
      "Time:                        06:41:02   Log-Likelihood:                -16.984\n",
      "No. Observations:                  25   AIC:                             41.97\n",
      "Df Residuals:                      21   BIC:                             46.84\n",
      "Df Model:                           3                                         \n",
      "Covariance Type:            nonrobust                                         \n",
      "==============================================================================\n",
      "                 coef    std err          t      P>|t|      [0.025      0.975]\n",
      "------------------------------------------------------------------------------\n",
      "Intercept      0.1932      0.107      1.802      0.086      -0.030       0.416\n",
      "x1             0.3603      0.113      3.176      0.005       0.124       0.596\n",
      "x2            -0.0546      0.113     -0.485      0.633      -0.289       0.179\n",
      "x1:x2          1.7870      0.130     13.749      0.000       1.517       2.057\n",
      "==============================================================================\n",
      "Omnibus:                        1.059   Durbin-Watson:                   1.584\n",
      "Prob(Omnibus):                  0.589   Jarque-Bera (JB):                0.400\n",
      "Skew:                           0.302   Prob(JB):                        0.819\n",
      "Kurtosis:                       3.141   Cond. No.                         1.45\n",
      "==============================================================================\n",
      "\n",
      "Notes:\n",
      "[1] Standard Errors assume that the covariance matrix of the errors is correctly specified.\n"
     ]
    }
   ],
   "source": [
    "print(mod03_interact.summary())"
   ]
  },
  {
   "cell_type": "markdown",
   "metadata": {},
   "source": [
    "There are 4 cofficients estimates interceot, x1, x2, and for x1x2"
   ]
  },
  {
   "cell_type": "markdown",
   "metadata": {},
   "source": [
    "## Problem 04\n",
    "The previous three problems were associated with regression, or modeling a continuous response. This problem introduces fitting binary classification models with logistic regression. You will still use the `statsmodels` formula api to fit the model. \n",
    "\n",
    "The data are read in the cell below for you and assigned to the `df04` object. The `.info()` and the first 9 rows are displayed for you in the two following cells."
   ]
  },
  {
   "cell_type": "code",
   "execution_count": 34,
   "metadata": {},
   "outputs": [],
   "source": [
    "url_04 = 'https://raw.githubusercontent.com/jyurko/CMPINF_2100_Fall_2021/main/HW/07/hw07_prob04.csv'\n",
    "\n",
    "df04 = pd.read_csv(url_04)"
   ]
  },
  {
   "cell_type": "code",
   "execution_count": 35,
   "metadata": {},
   "outputs": [
    {
     "name": "stdout",
     "output_type": "stream",
     "text": [
      "<class 'pandas.core.frame.DataFrame'>\n",
      "RangeIndex: 25 entries, 0 to 24\n",
      "Data columns (total 2 columns):\n",
      " #   Column  Non-Null Count  Dtype  \n",
      "---  ------  --------------  -----  \n",
      " 0   x       25 non-null     float64\n",
      " 1   y       25 non-null     int64  \n",
      "dtypes: float64(1), int64(1)\n",
      "memory usage: 528.0 bytes\n"
     ]
    }
   ],
   "source": [
    "df04.info()"
   ]
  },
  {
   "cell_type": "code",
   "execution_count": 36,
   "metadata": {},
   "outputs": [
    {
     "data": {
      "text/html": [
       "<div>\n",
       "<style scoped>\n",
       "    .dataframe tbody tr th:only-of-type {\n",
       "        vertical-align: middle;\n",
       "    }\n",
       "\n",
       "    .dataframe tbody tr th {\n",
       "        vertical-align: top;\n",
       "    }\n",
       "\n",
       "    .dataframe thead th {\n",
       "        text-align: right;\n",
       "    }\n",
       "</style>\n",
       "<table border=\"1\" class=\"dataframe\">\n",
       "  <thead>\n",
       "    <tr style=\"text-align: right;\">\n",
       "      <th></th>\n",
       "      <th>x</th>\n",
       "      <th>y</th>\n",
       "    </tr>\n",
       "  </thead>\n",
       "  <tbody>\n",
       "    <tr>\n",
       "      <th>0</th>\n",
       "      <td>0.683311</td>\n",
       "      <td>0</td>\n",
       "    </tr>\n",
       "    <tr>\n",
       "      <th>1</th>\n",
       "      <td>-1.125220</td>\n",
       "      <td>0</td>\n",
       "    </tr>\n",
       "    <tr>\n",
       "      <th>2</th>\n",
       "      <td>-1.368057</td>\n",
       "      <td>0</td>\n",
       "    </tr>\n",
       "    <tr>\n",
       "      <th>3</th>\n",
       "      <td>-2.137875</td>\n",
       "      <td>0</td>\n",
       "    </tr>\n",
       "    <tr>\n",
       "      <th>4</th>\n",
       "      <td>-1.325809</td>\n",
       "      <td>0</td>\n",
       "    </tr>\n",
       "    <tr>\n",
       "      <th>5</th>\n",
       "      <td>0.457833</td>\n",
       "      <td>0</td>\n",
       "    </tr>\n",
       "    <tr>\n",
       "      <th>6</th>\n",
       "      <td>0.656738</td>\n",
       "      <td>1</td>\n",
       "    </tr>\n",
       "    <tr>\n",
       "      <th>7</th>\n",
       "      <td>0.459380</td>\n",
       "      <td>0</td>\n",
       "    </tr>\n",
       "    <tr>\n",
       "      <th>8</th>\n",
       "      <td>-0.522140</td>\n",
       "      <td>0</td>\n",
       "    </tr>\n",
       "  </tbody>\n",
       "</table>\n",
       "</div>"
      ],
      "text/plain": [
       "          x  y\n",
       "0  0.683311  0\n",
       "1 -1.125220  0\n",
       "2 -1.368057  0\n",
       "3 -2.137875  0\n",
       "4 -1.325809  0\n",
       "5  0.457833  0\n",
       "6  0.656738  1\n",
       "7  0.459380  0\n",
       "8 -0.522140  0"
      ]
     },
     "execution_count": 36,
     "metadata": {},
     "output_type": "execute_result"
    }
   ],
   "source": [
    "df04.head(9)"
   ]
  },
  {
   "cell_type": "markdown",
   "metadata": {},
   "source": [
    "### 4a)\n",
    "You are working on a binary classification problem, however as shown by the `.info()` display the response is an integer data type. Check the number of unique values associated with the `y` variable and display the number of rows associated with each unique value of `y`."
   ]
  },
  {
   "cell_type": "markdown",
   "metadata": {},
   "source": [
    "#### 4a) - SOLUTION"
   ]
  },
  {
   "cell_type": "code",
   "execution_count": 37,
   "metadata": {},
   "outputs": [
    {
     "data": {
      "text/plain": [
       "(25, 2)"
      ]
     },
     "execution_count": 37,
     "metadata": {},
     "output_type": "execute_result"
    }
   ],
   "source": [
    "df04.shape"
   ]
  },
  {
   "cell_type": "code",
   "execution_count": 38,
   "metadata": {},
   "outputs": [
    {
     "data": {
      "text/plain": [
       "2"
      ]
     },
     "execution_count": 38,
     "metadata": {},
     "output_type": "execute_result"
    }
   ],
   "source": [
    "df04.y.nunique()"
   ]
  },
  {
   "cell_type": "code",
   "execution_count": 39,
   "metadata": {},
   "outputs": [
    {
     "data": {
      "text/plain": [
       "18"
      ]
     },
     "execution_count": 39,
     "metadata": {},
     "output_type": "execute_result"
    }
   ],
   "source": [
    "df04[df04.y == 0].value_counts().sum()"
   ]
  },
  {
   "cell_type": "code",
   "execution_count": 40,
   "metadata": {},
   "outputs": [
    {
     "data": {
      "text/plain": [
       "7"
      ]
     },
     "execution_count": 40,
     "metadata": {},
     "output_type": "execute_result"
    }
   ],
   "source": [
    "df04[df04.y == 1].value_counts().sum()"
   ]
  },
  {
   "cell_type": "markdown",
   "metadata": {},
   "source": [
    "### 4b)\n",
    "In binary classification we are interested in classifying an event of interest. Which unique value of the response `y` represents the event of interest? What is the observed fraction of events in the data set?"
   ]
  },
  {
   "cell_type": "markdown",
   "metadata": {},
   "source": [
    "#### 4b) - SOLUTION"
   ]
  },
  {
   "cell_type": "markdown",
   "metadata": {},
   "source": [
    "We are interseted in event where the calue of `y` corresponds to **1**.\n",
    "\n",
    "The observed fraction of events in the dataset is "
   ]
  },
  {
   "cell_type": "code",
   "execution_count": 41,
   "metadata": {},
   "outputs": [
    {
     "data": {
      "text/plain": [
       "0.28"
      ]
     },
     "execution_count": 41,
     "metadata": {},
     "output_type": "execute_result"
    }
   ],
   "source": [
    "df04[df04.y == 1].value_counts().sum() / df04.y.value_counts().sum()"
   ]
  },
  {
   "cell_type": "markdown",
   "metadata": {},
   "source": [
    "### 4c)\n",
    "Fit a logistic regression model for the binary outcome `y` with respect to the input `x`. You may assume a linear relationship between the trend of the log-odds ratio and the input."
   ]
  },
  {
   "cell_type": "markdown",
   "metadata": {},
   "source": [
    "#### 4c) - SOLUTION"
   ]
  },
  {
   "cell_type": "code",
   "execution_count": 42,
   "metadata": {},
   "outputs": [
    {
     "name": "stderr",
     "output_type": "stream",
     "text": [
      "C:\\Users\\Vedant\\anaconda3\\lib\\site-packages\\pandas\\core\\arraylike.py:358: RuntimeWarning: invalid value encountered in log\n",
      "  result = getattr(ufunc, method)(*inputs, **kwargs)\n"
     ]
    }
   ],
   "source": [
    "mod_log = smf.ols(formula='y ~ np.log(x/(1-x))', data=df04).fit()"
   ]
  },
  {
   "cell_type": "markdown",
   "metadata": {},
   "source": [
    "### 4d) \n",
    "Display the summary for the logistic regression model to the screen. How many coefficients are there? What are the estimates? Is the trend with respect to `x` considered to be increasing or decreasing?"
   ]
  },
  {
   "cell_type": "markdown",
   "metadata": {},
   "source": [
    "#### 4d) - SOLUTION"
   ]
  },
  {
   "cell_type": "code",
   "execution_count": 43,
   "metadata": {},
   "outputs": [
    {
     "name": "stdout",
     "output_type": "stream",
     "text": [
      "                            OLS Regression Results                            \n",
      "==============================================================================\n",
      "Dep. Variable:                      y   R-squared:                       0.054\n",
      "Model:                            OLS   Adj. R-squared:                 -0.104\n",
      "Method:                 Least Squares   F-statistic:                    0.3433\n",
      "Date:                Sun, 07 Nov 2021   Prob (F-statistic):              0.579\n",
      "Time:                        06:41:02   Log-Likelihood:                -5.5838\n",
      "No. Observations:                   8   AIC:                             15.17\n",
      "Df Residuals:                       6   BIC:                             15.33\n",
      "Df Model:                           1                                         \n",
      "Covariance Type:            nonrobust                                         \n",
      "=======================================================================================\n",
      "                          coef    std err          t      P>|t|      [0.025      0.975]\n",
      "---------------------------------------------------------------------------------------\n",
      "Intercept               0.4993      0.199      2.515      0.046       0.014       0.985\n",
      "np.log(x / (1 - x))    -0.0717      0.122     -0.586      0.579      -0.371       0.228\n",
      "==============================================================================\n",
      "Omnibus:                        5.847   Durbin-Watson:                   1.815\n",
      "Prob(Omnibus):                  0.054   Jarque-Bera (JB):                1.161\n",
      "Skew:                           0.123   Prob(JB):                        0.560\n",
      "Kurtosis:                       1.150   Cond. No.                         1.62\n",
      "==============================================================================\n",
      "\n",
      "Notes:\n",
      "[1] Standard Errors assume that the covariance matrix of the errors is correctly specified.\n"
     ]
    },
    {
     "name": "stderr",
     "output_type": "stream",
     "text": [
      "C:\\Users\\Vedant\\anaconda3\\lib\\site-packages\\scipy\\stats\\stats.py:1603: UserWarning: kurtosistest only valid for n>=20 ... continuing anyway, n=8\n",
      "  warnings.warn(\"kurtosistest only valid for n>=20 ... continuing \"\n"
     ]
    }
   ],
   "source": [
    "print(mod_log.summary())"
   ]
  },
  {
   "cell_type": "markdown",
   "metadata": {},
   "source": [
    "There are 2 coefficients intercept and log(x/1-x). The trend is increasing."
   ]
  }
 ],
 "metadata": {
  "kernelspec": {
   "display_name": "Python 3",
   "language": "python",
   "name": "python3"
  },
  "language_info": {
   "codemirror_mode": {
    "name": "ipython",
    "version": 3
   },
   "file_extension": ".py",
   "mimetype": "text/x-python",
   "name": "python",
   "nbconvert_exporter": "python",
   "pygments_lexer": "ipython3",
   "version": "3.8.8"
  }
 },
 "nbformat": 4,
 "nbformat_minor": 4
}
