{
 "cells": [
  {
   "cell_type": "markdown",
   "metadata": {},
   "source": [
    "# CMPINF 2100: Homework 09\n",
    "\n",
    "## Vedant Kansara\n",
    "\n",
    "### Assigned: Monday November 15, 2021\n",
    "\n",
    "### DUE: Tuesday November 23, 2020 at 11:00PM EST\n",
    "\n",
    "You may add as many code and markdown cells as you see fit to answer the questions.  \n",
    "\n",
    "**NOTE**: The assignment is due within the Thanksgiving break in case you are traveling over the weekend. You may turn the assignment in by Monday without any penalty. It is a short assignment, and so you should try to complete it by the typical Sunday due date.\n",
    "\n",
    "#### Write the name of your collaborators here\n",
    "\n",
    "None.\n",
    "\n",
    "### Overview\n",
    "\n",
    "You will consider different types of regularization methods in this assignment. You will fit logistic regression models considering the Ridge and Lasso penalties to understand the influence of the regularization strength on the coefficient estimates. You will also tune the regularization strength with cross-validation."
   ]
  },
  {
   "cell_type": "markdown",
   "metadata": {},
   "source": [
    "## Import modules\n",
    "You will use the following modules in this assignment."
   ]
  },
  {
   "cell_type": "code",
   "execution_count": 1,
   "metadata": {},
   "outputs": [],
   "source": [
    "import numpy as np\n",
    "import pandas as pd\n",
    "import matplotlib.pyplot as plt\n",
    "\n",
    "import seaborn as sns"
   ]
  },
  {
   "cell_type": "markdown",
   "metadata": {},
   "source": [
    "You will use `statsmodels` and `sklearn` to fit the models. The `statsmodels` formula api, the `dmatrices()` function from `patsy` and the `sklearn` logistic regression method is imported in for you below."
   ]
  },
  {
   "cell_type": "code",
   "execution_count": 2,
   "metadata": {},
   "outputs": [],
   "source": [
    "import statsmodels.formula.api as smf\n",
    "from patsy import dmatrices\n",
    "from sklearn.linear_model import LogisticRegression"
   ]
  },
  {
   "cell_type": "markdown",
   "metadata": {},
   "source": [
    "You will tune the regularization in logistic regression using cross-validation. The `sklearn` built-in tuning function is loaded in for you below."
   ]
  },
  {
   "cell_type": "code",
   "execution_count": 3,
   "metadata": {},
   "outputs": [],
   "source": [
    "from sklearn.linear_model import LogisticRegressionCV"
   ]
  },
  {
   "cell_type": "markdown",
   "metadata": {},
   "source": [
    "## Read in data\n",
    "The training data is read in for you in the cell below. As shown by the `.info()` output, there are 4 continuous inputs `x1` through `x4` and a response `y`. The response is a binary outcome that has already been encoded as 0 and 1 for you, that is why it is an integer data type. A value of 0 represents the non-event, while a value of 1 represents the event. The unique values of `y` are displayed for you to confirm it is a binary variable."
   ]
  },
  {
   "cell_type": "code",
   "execution_count": 4,
   "metadata": {},
   "outputs": [
    {
     "name": "stdout",
     "output_type": "stream",
     "text": [
      "<class 'pandas.core.frame.DataFrame'>\n",
      "RangeIndex: 200 entries, 0 to 199\n",
      "Data columns (total 5 columns):\n",
      " #   Column  Non-Null Count  Dtype  \n",
      "---  ------  --------------  -----  \n",
      " 0   x1      200 non-null    float64\n",
      " 1   x2      200 non-null    float64\n",
      " 2   x3      200 non-null    float64\n",
      " 3   x4      200 non-null    float64\n",
      " 4   y       200 non-null    int64  \n",
      "dtypes: float64(4), int64(1)\n",
      "memory usage: 7.9 KB\n"
     ]
    }
   ],
   "source": [
    "train_url = 'https://raw.githubusercontent.com/jyurko/CMPINF_2100_Fall_2021/main/HW/09/hw09_classify_train.csv'\n",
    "\n",
    "train_df = pd.read_csv(train_url)\n",
    "\n",
    "train_df.info()"
   ]
  },
  {
   "cell_type": "code",
   "execution_count": 5,
   "metadata": {},
   "outputs": [
    {
     "data": {
      "text/plain": [
       "array([0, 1], dtype=int64)"
      ]
     },
     "execution_count": 5,
     "metadata": {},
     "output_type": "execute_result"
    }
   ],
   "source": [
    "train_df.y.unique()"
   ]
  },
  {
   "cell_type": "markdown",
   "metadata": {},
   "source": [
    "## Problem 01\n",
    "\n",
    "You will start out by fitting a logistic regression model with `statsmodels`.\n",
    "\n",
    "### 1a)\n",
    "\n",
    "Fit a logistic regression model with all pair wise interactions between the inputs. Assign the result to the `stats_fit` object."
   ]
  },
  {
   "cell_type": "markdown",
   "metadata": {},
   "source": [
    "#### 1a) - SOLUTION"
   ]
  },
  {
   "cell_type": "code",
   "execution_count": 6,
   "metadata": {},
   "outputs": [
    {
     "name": "stdout",
     "output_type": "stream",
     "text": [
      "Optimization terminated successfully.\n",
      "         Current function value: 0.498603\n",
      "         Iterations 8\n"
     ]
    }
   ],
   "source": [
    "formula_fit = 'y ~ (x1*x2*x3*x4)'\n",
    "\n",
    "stats_fit =  smf.logit(formula = formula_fit, data=train_df).fit()"
   ]
  },
  {
   "cell_type": "markdown",
   "metadata": {},
   "source": [
    "### 1b)\n",
    "Display the summary of the for your logistic regression model. How many coefficients were estimated? Which coefficients are statistically significant?"
   ]
  },
  {
   "cell_type": "markdown",
   "metadata": {},
   "source": [
    "#### 1b) - SOLUTION"
   ]
  },
  {
   "cell_type": "code",
   "execution_count": 7,
   "metadata": {},
   "outputs": [
    {
     "name": "stdout",
     "output_type": "stream",
     "text": [
      "                           Logit Regression Results                           \n",
      "==============================================================================\n",
      "Dep. Variable:                      y   No. Observations:                  200\n",
      "Model:                          Logit   Df Residuals:                      184\n",
      "Method:                           MLE   Df Model:                           15\n",
      "Date:                Tue, 23 Nov 2021   Pseudo R-squ.:                  0.2764\n",
      "Time:                        14:58:23   Log-Likelihood:                -99.721\n",
      "converged:                       True   LL-Null:                       -137.82\n",
      "Covariance Type:            nonrobust   LLR p-value:                 3.441e-10\n",
      "===============================================================================\n",
      "                  coef    std err          z      P>|z|      [0.025      0.975]\n",
      "-------------------------------------------------------------------------------\n",
      "Intercept      -0.0589      0.184     -0.320      0.749      -0.419       0.301\n",
      "x1              0.1457      0.219      0.665      0.506      -0.283       0.575\n",
      "x2              0.5600      0.255      2.200      0.028       0.061       1.059\n",
      "x1:x2           2.2415      0.434      5.169      0.000       1.392       3.091\n",
      "x3             -0.1006      0.174     -0.579      0.563      -0.441       0.240\n",
      "x1:x3          -0.2036      0.210     -0.971      0.331      -0.614       0.207\n",
      "x2:x3          -0.1655      0.233     -0.711      0.477      -0.622       0.291\n",
      "x1:x2:x3       -0.7273      0.424     -1.713      0.087      -1.559       0.105\n",
      "x4             -0.1998      0.190     -1.052      0.293      -0.572       0.172\n",
      "x1:x4           0.0213      0.214      0.099      0.921      -0.399       0.442\n",
      "x2:x4          -0.6020      0.247     -2.440      0.015      -1.086      -0.118\n",
      "x1:x2:x4       -0.4364      0.412     -1.059      0.290      -1.244       0.371\n",
      "x3:x4          -0.1257      0.195     -0.645      0.519      -0.508       0.256\n",
      "x1:x3:x4       -0.0655      0.278     -0.236      0.814      -0.610       0.479\n",
      "x2:x3:x4        0.1859      0.223      0.832      0.405      -0.252       0.624\n",
      "x1:x2:x3:x4     0.1167      0.474      0.246      0.805      -0.812       1.046\n",
      "===============================================================================\n"
     ]
    }
   ],
   "source": [
    "print(stats_fit.summary())"
   ]
  },
  {
   "cell_type": "code",
   "execution_count": 8,
   "metadata": {},
   "outputs": [
    {
     "data": {
      "text/plain": [
       "16"
      ]
     },
     "execution_count": 8,
     "metadata": {},
     "output_type": "execute_result"
    }
   ],
   "source": [
    "stats_fit.params.nunique()"
   ]
  },
  {
   "cell_type": "markdown",
   "metadata": {},
   "source": [
    "From the summary table we can observe that only the coefficient `x2` coefficient with interaction between `x1:x2`,`x2:x4` are significantly significant."
   ]
  },
  {
   "cell_type": "markdown",
   "metadata": {},
   "source": [
    "### 1c)\n",
    "In addition to displaying the summary report, we have visualized the coefficient estimates and confidence intervals. Visualize the coefficient estimates and confidence for your logistic regression model.  \n",
    "\n",
    "The previous assignment provided a function to you plot the coefficients. You are allowed to reuse the function from the previous assignment. "
   ]
  },
  {
   "cell_type": "markdown",
   "metadata": {},
   "source": [
    "#### 1c) - SOLUTION"
   ]
  },
  {
   "cell_type": "code",
   "execution_count": 9,
   "metadata": {},
   "outputs": [],
   "source": [
    "def my_coefplot(model_object, figsize_use=(10, 5)):\n",
    "    fig, ax = plt.subplots(figsize=figsize_use)\n",
    "    \n",
    "    ax.errorbar(y = model_object.params.index,\n",
    "               x = model_object.params,\n",
    "               fmt = 'o', color = 'black', ecolor='black',\n",
    "               xerr = 2 * model_object.bse,\n",
    "               elinewidth = 3, ms=10)\n",
    "    \n",
    "    ax.axvline(x = 0, linestyle='--', linewidth=5, color='grey')\n",
    "    \n",
    "    ax.set_xlabel('coefficient value')\n",
    "    \n",
    "    plt.show()"
   ]
  },
  {
   "cell_type": "code",
   "execution_count": 10,
   "metadata": {},
   "outputs": [
    {
     "data": {
      "image/png": "[encoded data removed]",
      "text/plain": [
       "<Figure size 720x360 with 1 Axes>"
      ]
     },
     "metadata": {
      "needs_background": "light"
     },
     "output_type": "display_data"
    }
   ],
   "source": [
    "my_coefplot(stats_fit)"
   ]
  },
  {
   "cell_type": "markdown",
   "metadata": {},
   "source": [
    "### 1d)\n",
    "A copy of the training data set is created for you below. You will assign predictions of the training set to this copy."
   ]
  },
  {
   "cell_type": "code",
   "execution_count": 11,
   "metadata": {},
   "outputs": [],
   "source": [
    "train_copy = train_df.copy()"
   ]
  },
  {
   "cell_type": "markdown",
   "metadata": {},
   "source": [
    "Predict the training set with your fit logistic regression model. Assign the prediction to a new column in the `train_copy` DataFrame. Name that new column `pred_prob`."
   ]
  },
  {
   "cell_type": "markdown",
   "metadata": {},
   "source": [
    "#### 1d) - SOLUTION"
   ]
  },
  {
   "cell_type": "code",
   "execution_count": 12,
   "metadata": {},
   "outputs": [],
   "source": [
    "train_copy['pred_prob'] = stats_fit.predict(train_copy)"
   ]
  },
  {
   "cell_type": "markdown",
   "metadata": {},
   "source": [
    "### 1e)\n",
    "Classify your predictions on the training set assuming a threshold of 0.5. Assign your classifications to the `pred_class` variable in the `train_copy` DataFrame."
   ]
  },
  {
   "cell_type": "markdown",
   "metadata": {},
   "source": [
    "#### 1e) - SOLUTION"
   ]
  },
  {
   "cell_type": "code",
   "execution_count": 13,
   "metadata": {},
   "outputs": [],
   "source": [
    "train_copy['pred_class'] = np.where( train_copy['pred_prob'] > 0.5, 1, 0)"
   ]
  },
  {
   "cell_type": "markdown",
   "metadata": {},
   "source": [
    "### 1f)\n",
    "Calculate the Accuracy of your logistic regression model on the training set."
   ]
  },
  {
   "cell_type": "markdown",
   "metadata": {},
   "source": [
    "#### 1f) - SOLUTION"
   ]
  },
  {
   "cell_type": "code",
   "execution_count": 14,
   "metadata": {},
   "outputs": [
    {
     "data": {
      "text/plain": [
       "0.72"
      ]
     },
     "execution_count": 14,
     "metadata": {},
     "output_type": "execute_result"
    }
   ],
   "source": [
    "train_copy.loc[ train_copy.y == train_copy['pred_class'] ].shape[0] / train_copy.shape[0]"
   ]
  },
  {
   "cell_type": "markdown",
   "metadata": {},
   "source": [
    "## Problem 02"
   ]
  },
  {
   "cell_type": "markdown",
   "metadata": {},
   "source": [
    "You will now fit a logistic regression model with the `sklearn` method `LogisticRegression()`. However, before the model can be fit the we have to assemble the data objects in the correct format. "
   ]
  },
  {
   "cell_type": "markdown",
   "metadata": {},
   "source": [
    "### 2a) \n",
    "Create the response and input feature array in the format required by `sklearn`. You may use the `dmatrices()` function to create the objects. You should include all pair wise interactions between the inputs, but carefully think through the behavior of the intercept. Assign the response array to `y_sk` and the input feature array to `X_sk`."
   ]
  },
  {
   "cell_type": "markdown",
   "metadata": {},
   "source": [
    "#### 2a) - SOLUTION"
   ]
  },
  {
   "cell_type": "code",
   "execution_count": 15,
   "metadata": {},
   "outputs": [],
   "source": [
    "y_sk, X_sk = dmatrices(formula_fit + '-1', data= train_df)"
   ]
  },
  {
   "cell_type": "markdown",
   "metadata": {},
   "source": [
    "### 2b)\n",
    "You will now fit the logistic regression model with `sklearn`. You will **not** use the default settings. Rather, you will set the `penalty` argument equal to `'none'`, you will set the `solver` argument equal to `'lbfgs'`, and you will set the `max_iter` argument to 5001. Assign the fitted model to the `sk_none` object."
   ]
  },
  {
   "cell_type": "markdown",
   "metadata": {},
   "source": [
    "#### 2b) - SOLUTION"
   ]
  },
  {
   "cell_type": "code",
   "execution_count": 16,
   "metadata": {},
   "outputs": [],
   "source": [
    "sk_none = LogisticRegression(penalty='none', solver='lbfgs', max_iter=5001, fit_intercept=True).fit(X_sk, y_sk.ravel())"
   ]
  },
  {
   "cell_type": "markdown",
   "metadata": {},
   "source": [
    "### 2c)\n",
    "Display the `sklearn` estimated coefficients to the screen, and do not forget to include the intercept.  \n",
    "\n",
    "How do the coefficient estimates compare between the `statsmodels` and `sklearn` model fits? Are they similar or are they very different?"
   ]
  },
  {
   "cell_type": "markdown",
   "metadata": {},
   "source": [
    "#### 2c) - SOLUTION"
   ]
  },
  {
   "cell_type": "code",
   "execution_count": 17,
   "metadata": {},
   "outputs": [],
   "source": [
    "def extract_sklearn_coefs(sk_mod):\n",
    "    return list(sk_mod.intercept_.ravel()) + list(sk_mod.coef_.ravel())"
   ]
  },
  {
   "cell_type": "code",
   "execution_count": 18,
   "metadata": {},
   "outputs": [
    {
     "data": {
      "text/plain": [
       "[-0.0588689482203567,\n",
       " 0.1457184088956187,\n",
       " 0.5600327624714894,\n",
       " 2.2416025552227383,\n",
       " -0.10058548536164022,\n",
       " -0.20358860929326453,\n",
       " -0.1655115558867452,\n",
       " -0.7272661076644187,\n",
       " -0.19980661610689598,\n",
       " 0.021289551557704824,\n",
       " -0.6019664978746235,\n",
       " -0.4364409757757376,\n",
       " -0.1257243275930188,\n",
       " -0.06556004071892028,\n",
       " 0.1858599532380458,\n",
       " 0.11671693059023688]"
      ]
     },
     "execution_count": 18,
     "metadata": {},
     "output_type": "execute_result"
    }
   ],
   "source": [
    "extract_sklearn_coefs(sk_none)"
   ]
  },
  {
   "cell_type": "code",
   "execution_count": 19,
   "metadata": {},
   "outputs": [
    {
     "data": {
      "text/html": [
       "<div>\n",
       "<style scoped>\n",
       "    .dataframe tbody tr th:only-of-type {\n",
       "        vertical-align: middle;\n",
       "    }\n",
       "\n",
       "    .dataframe tbody tr th {\n",
       "        vertical-align: top;\n",
       "    }\n",
       "\n",
       "    .dataframe thead th {\n",
       "        text-align: right;\n",
       "    }\n",
       "</style>\n",
       "<table border=\"1\" class=\"dataframe\">\n",
       "  <thead>\n",
       "    <tr style=\"text-align: right;\">\n",
       "      <th></th>\n",
       "      <th>statsmodels</th>\n",
       "      <th>sklearn</th>\n",
       "    </tr>\n",
       "  </thead>\n",
       "  <tbody>\n",
       "    <tr>\n",
       "      <th>Intercept</th>\n",
       "      <td>-0.058878</td>\n",
       "      <td>-0.058869</td>\n",
       "    </tr>\n",
       "    <tr>\n",
       "      <th>x1</th>\n",
       "      <td>0.145705</td>\n",
       "      <td>0.145718</td>\n",
       "    </tr>\n",
       "    <tr>\n",
       "      <th>x2</th>\n",
       "      <td>0.560019</td>\n",
       "      <td>0.560033</td>\n",
       "    </tr>\n",
       "    <tr>\n",
       "      <th>x1:x2</th>\n",
       "      <td>2.241473</td>\n",
       "      <td>2.241603</td>\n",
       "    </tr>\n",
       "    <tr>\n",
       "      <th>x3</th>\n",
       "      <td>-0.100603</td>\n",
       "      <td>-0.100585</td>\n",
       "    </tr>\n",
       "    <tr>\n",
       "      <th>x1:x3</th>\n",
       "      <td>-0.203579</td>\n",
       "      <td>-0.203589</td>\n",
       "    </tr>\n",
       "    <tr>\n",
       "      <th>x2:x3</th>\n",
       "      <td>-0.165509</td>\n",
       "      <td>-0.165512</td>\n",
       "    </tr>\n",
       "    <tr>\n",
       "      <th>x1:x2:x3</th>\n",
       "      <td>-0.727286</td>\n",
       "      <td>-0.727266</td>\n",
       "    </tr>\n",
       "    <tr>\n",
       "      <th>x4</th>\n",
       "      <td>-0.199806</td>\n",
       "      <td>-0.199807</td>\n",
       "    </tr>\n",
       "    <tr>\n",
       "      <th>x1:x4</th>\n",
       "      <td>0.021289</td>\n",
       "      <td>0.021290</td>\n",
       "    </tr>\n",
       "    <tr>\n",
       "      <th>x2:x4</th>\n",
       "      <td>-0.601959</td>\n",
       "      <td>-0.601966</td>\n",
       "    </tr>\n",
       "    <tr>\n",
       "      <th>x1:x2:x4</th>\n",
       "      <td>-0.436369</td>\n",
       "      <td>-0.436441</td>\n",
       "    </tr>\n",
       "    <tr>\n",
       "      <th>x3:x4</th>\n",
       "      <td>-0.125732</td>\n",
       "      <td>-0.125724</td>\n",
       "    </tr>\n",
       "    <tr>\n",
       "      <th>x1:x3:x4</th>\n",
       "      <td>-0.065539</td>\n",
       "      <td>-0.065560</td>\n",
       "    </tr>\n",
       "    <tr>\n",
       "      <th>x2:x3:x4</th>\n",
       "      <td>0.185884</td>\n",
       "      <td>0.185860</td>\n",
       "    </tr>\n",
       "    <tr>\n",
       "      <th>x1:x2:x3:x4</th>\n",
       "      <td>0.116719</td>\n",
       "      <td>0.116717</td>\n",
       "    </tr>\n",
       "  </tbody>\n",
       "</table>\n",
       "</div>"
      ],
      "text/plain": [
       "             statsmodels   sklearn\n",
       "Intercept      -0.058878 -0.058869\n",
       "x1              0.145705  0.145718\n",
       "x2              0.560019  0.560033\n",
       "x1:x2           2.241473  2.241603\n",
       "x3             -0.100603 -0.100585\n",
       "x1:x3          -0.203579 -0.203589\n",
       "x2:x3          -0.165509 -0.165512\n",
       "x1:x2:x3       -0.727286 -0.727266\n",
       "x4             -0.199806 -0.199807\n",
       "x1:x4           0.021289  0.021290\n",
       "x2:x4          -0.601959 -0.601966\n",
       "x1:x2:x4       -0.436369 -0.436441\n",
       "x3:x4          -0.125732 -0.125724\n",
       "x1:x3:x4       -0.065539 -0.065560\n",
       "x2:x3:x4        0.185884  0.185860\n",
       "x1:x2:x3:x4     0.116719  0.116717"
      ]
     },
     "execution_count": 19,
     "metadata": {},
     "output_type": "execute_result"
    }
   ],
   "source": [
    "pd.DataFrame({'statsmodels': stats_fit.params,\n",
    "              'sklearn': extract_sklearn_coefs( sk_none)},\n",
    "             index=stats_fit.params.index)"
   ]
  },
  {
   "cell_type": "markdown",
   "metadata": {},
   "source": [
    "### 2d)\n",
    "`sklearn` provides several useful methods for evaluating model performance for us. We do not have to first make predictions and then manually calculate performance metrics, if we are interested in quantities such as Accuracy. The `.score()` method will return the \"scoring function\" which measures performance. The syntax is:  \n",
    "\n",
    "`<your model>.score(<input feature array>, <known response array>)`\n",
    "\n",
    "Accuracy is the default scoring function for logistic regression. Thus, you just need to supply the input feature array as the first argument to the `.score()` method, and the response array as the second argument to the `.score()` method. Behind the scenes, `sklearn` predicts the probability at each input condition, classifies the prediction with the default threshold of 0.5, compares the predicted class to the observed class, and then calculates the fraction of correclty classified observations.\n",
    "\n",
    "Calculate the accuracy of your `sklearn` fit model. How does the accuracy compare to the accuracy calculated from the `statsmodels` fit?"
   ]
  },
  {
   "cell_type": "markdown",
   "metadata": {},
   "source": [
    "#### 2d) - SOLUTION"
   ]
  },
  {
   "cell_type": "code",
   "execution_count": 20,
   "metadata": {},
   "outputs": [
    {
     "data": {
      "text/plain": [
       "0.72"
      ]
     },
     "execution_count": 20,
     "metadata": {},
     "output_type": "execute_result"
    }
   ],
   "source": [
    "sk_none.score(X_sk, y_sk.ravel())"
   ]
  },
  {
   "cell_type": "markdown",
   "metadata": {},
   "source": [
    "## Problem 03\n",
    "You did not use the default settings when you fit your `sklean` logistic regression model in Problem 02. The default `penalty` argument is `l2` which stands for the L2-norm, and is commonly referred to as the **Ridge penalty**. This problem is focused on studying the behavior of the ridge penalty as you change the inverse of the regularization strength parameter, `C`."
   ]
  },
  {
   "cell_type": "markdown",
   "metadata": {},
   "source": [
    "### 3a)\n",
    "Fit a logistic regression model using the default solver settings. However, you must specify those arguments rather than just relying on the default values, that way we know exactly what was run. Specify the `penalty` argument to be `'l2'`, and set the `C` argument to be equal to `1.0`. You must also set the `solver` argument equal to `'lbfgs'` and set the `max_iter` argument equal to 5001. Assign your fit model to the `sk_default` object."
   ]
  },
  {
   "cell_type": "markdown",
   "metadata": {},
   "source": [
    "#### 3a) - SOLUTION"
   ]
  },
  {
   "cell_type": "code",
   "execution_count": 21,
   "metadata": {},
   "outputs": [],
   "source": [
    "sk_default = LogisticRegression(penalty='l2', solver = 'lbfgs', max_iter = 5001, fit_intercept=True, C=1.0).fit(X_sk, y_sk.ravel())\n",
    "\n"
   ]
  },
  {
   "cell_type": "markdown",
   "metadata": {},
   "source": [
    "### 3b)\n",
    "Display the coefficient estimates for the default logistic regression model. How do they compare to the estimated coefficients when the `penalty` term was set to `'none'`? Don't forget about the intercept!"
   ]
  },
  {
   "cell_type": "markdown",
   "metadata": {},
   "source": [
    "#### 3b) - SOLUTION"
   ]
  },
  {
   "cell_type": "code",
   "execution_count": 22,
   "metadata": {},
   "outputs": [
    {
     "data": {
      "text/html": [
       "<div>\n",
       "<style scoped>\n",
       "    .dataframe tbody tr th:only-of-type {\n",
       "        vertical-align: middle;\n",
       "    }\n",
       "\n",
       "    .dataframe tbody tr th {\n",
       "        vertical-align: top;\n",
       "    }\n",
       "\n",
       "    .dataframe thead th {\n",
       "        text-align: right;\n",
       "    }\n",
       "</style>\n",
       "<table border=\"1\" class=\"dataframe\">\n",
       "  <thead>\n",
       "    <tr style=\"text-align: right;\">\n",
       "      <th></th>\n",
       "      <th>statsmodels</th>\n",
       "      <th>sklearn</th>\n",
       "      <th>sklearn_l2</th>\n",
       "    </tr>\n",
       "  </thead>\n",
       "  <tbody>\n",
       "    <tr>\n",
       "      <th>Intercept</th>\n",
       "      <td>-0.058878</td>\n",
       "      <td>-0.058869</td>\n",
       "      <td>-0.082598</td>\n",
       "    </tr>\n",
       "    <tr>\n",
       "      <th>x1</th>\n",
       "      <td>0.145705</td>\n",
       "      <td>0.145718</td>\n",
       "      <td>0.100582</td>\n",
       "    </tr>\n",
       "    <tr>\n",
       "      <th>x2</th>\n",
       "      <td>0.560019</td>\n",
       "      <td>0.560033</td>\n",
       "      <td>0.468322</td>\n",
       "    </tr>\n",
       "    <tr>\n",
       "      <th>x1:x2</th>\n",
       "      <td>2.241473</td>\n",
       "      <td>2.241603</td>\n",
       "      <td>1.878686</td>\n",
       "    </tr>\n",
       "    <tr>\n",
       "      <th>x3</th>\n",
       "      <td>-0.100603</td>\n",
       "      <td>-0.100585</td>\n",
       "      <td>-0.091436</td>\n",
       "    </tr>\n",
       "    <tr>\n",
       "      <th>x1:x3</th>\n",
       "      <td>-0.203579</td>\n",
       "      <td>-0.203589</td>\n",
       "      <td>-0.182673</td>\n",
       "    </tr>\n",
       "    <tr>\n",
       "      <th>x2:x3</th>\n",
       "      <td>-0.165509</td>\n",
       "      <td>-0.165512</td>\n",
       "      <td>-0.125884</td>\n",
       "    </tr>\n",
       "    <tr>\n",
       "      <th>x1:x2:x3</th>\n",
       "      <td>-0.727286</td>\n",
       "      <td>-0.727266</td>\n",
       "      <td>-0.520707</td>\n",
       "    </tr>\n",
       "    <tr>\n",
       "      <th>x4</th>\n",
       "      <td>-0.199806</td>\n",
       "      <td>-0.199807</td>\n",
       "      <td>-0.174707</td>\n",
       "    </tr>\n",
       "    <tr>\n",
       "      <th>x1:x4</th>\n",
       "      <td>0.021289</td>\n",
       "      <td>0.021290</td>\n",
       "      <td>0.052878</td>\n",
       "    </tr>\n",
       "    <tr>\n",
       "      <th>x2:x4</th>\n",
       "      <td>-0.601959</td>\n",
       "      <td>-0.601966</td>\n",
       "      <td>-0.513418</td>\n",
       "    </tr>\n",
       "    <tr>\n",
       "      <th>x1:x2:x4</th>\n",
       "      <td>-0.436369</td>\n",
       "      <td>-0.436441</td>\n",
       "      <td>-0.293074</td>\n",
       "    </tr>\n",
       "    <tr>\n",
       "      <th>x3:x4</th>\n",
       "      <td>-0.125732</td>\n",
       "      <td>-0.125724</td>\n",
       "      <td>-0.133728</td>\n",
       "    </tr>\n",
       "    <tr>\n",
       "      <th>x1:x3:x4</th>\n",
       "      <td>-0.065539</td>\n",
       "      <td>-0.065560</td>\n",
       "      <td>-0.050078</td>\n",
       "    </tr>\n",
       "    <tr>\n",
       "      <th>x2:x3:x4</th>\n",
       "      <td>0.185884</td>\n",
       "      <td>0.185860</td>\n",
       "      <td>0.140649</td>\n",
       "    </tr>\n",
       "    <tr>\n",
       "      <th>x1:x2:x3:x4</th>\n",
       "      <td>0.116719</td>\n",
       "      <td>0.116717</td>\n",
       "      <td>0.039561</td>\n",
       "    </tr>\n",
       "  </tbody>\n",
       "</table>\n",
       "</div>"
      ],
      "text/plain": [
       "             statsmodels   sklearn  sklearn_l2\n",
       "Intercept      -0.058878 -0.058869   -0.082598\n",
       "x1              0.145705  0.145718    0.100582\n",
       "x2              0.560019  0.560033    0.468322\n",
       "x1:x2           2.241473  2.241603    1.878686\n",
       "x3             -0.100603 -0.100585   -0.091436\n",
       "x1:x3          -0.203579 -0.203589   -0.182673\n",
       "x2:x3          -0.165509 -0.165512   -0.125884\n",
       "x1:x2:x3       -0.727286 -0.727266   -0.520707\n",
       "x4             -0.199806 -0.199807   -0.174707\n",
       "x1:x4           0.021289  0.021290    0.052878\n",
       "x2:x4          -0.601959 -0.601966   -0.513418\n",
       "x1:x2:x4       -0.436369 -0.436441   -0.293074\n",
       "x3:x4          -0.125732 -0.125724   -0.133728\n",
       "x1:x3:x4       -0.065539 -0.065560   -0.050078\n",
       "x2:x3:x4        0.185884  0.185860    0.140649\n",
       "x1:x2:x3:x4     0.116719  0.116717    0.039561"
      ]
     },
     "execution_count": 22,
     "metadata": {},
     "output_type": "execute_result"
    }
   ],
   "source": [
    "pd.DataFrame({'statsmodels': stats_fit.params,\n",
    "              'sklearn': extract_sklearn_coefs( sk_none),\n",
    "               'sklearn_l2': extract_sklearn_coefs(sk_default)},\n",
    "             index=stats_fit.params.index)"
   ]
  },
  {
   "cell_type": "markdown",
   "metadata": {},
   "source": [
    "### 3c)\n",
    "Calculate the Accuracy on the training set for the model with the default `penalty` and `C` values. "
   ]
  },
  {
   "cell_type": "markdown",
   "metadata": {},
   "source": [
    "#### 3c) - SOLUTION"
   ]
  },
  {
   "cell_type": "code",
   "execution_count": 23,
   "metadata": {},
   "outputs": [],
   "source": [
    "from sklearn.model_selection import KFold"
   ]
  },
  {
   "cell_type": "code",
   "execution_count": 24,
   "metadata": {},
   "outputs": [],
   "source": [
    "kf05 = KFold(n_splits=5, shuffle=True, random_state=101)"
   ]
  },
  {
   "cell_type": "code",
   "execution_count": 25,
   "metadata": {},
   "outputs": [],
   "source": [
    "from sklearn.model_selection import cross_val_score"
   ]
  },
  {
   "cell_type": "code",
   "execution_count": 26,
   "metadata": {},
   "outputs": [
    {
     "name": "stdout",
     "output_type": "stream",
     "text": [
      "0.6599999999999999\n"
     ]
    }
   ],
   "source": [
    "ridge_default_c = LogisticRegression(penalty='l2', solver='lbfgs', C=1.0, max_iter=5001, fit_intercept=False)\n",
    "\n",
    "accuracy_ridge_default_c = cross_val_score( ridge_default_c, X_sk, y_sk.ravel(), cv=kf05)\n",
    "\n",
    "print( accuracy_ridge_default_c.mean() )"
   ]
  },
  {
   "cell_type": "markdown",
   "metadata": {},
   "source": [
    "### 3d)\n",
    "Next, you change the `C` parameter to a very large value of 10000. Fit the logistic regression model again with this large value of `C` and assign the result to the `sk_large_c` object."
   ]
  },
  {
   "cell_type": "markdown",
   "metadata": {},
   "source": [
    "#### 3d) - SOLUTION"
   ]
  },
  {
   "cell_type": "code",
   "execution_count": 27,
   "metadata": {},
   "outputs": [],
   "source": [
    "sk_large_c = LogisticRegression(penalty='l2', solver = 'lbfgs', max_iter = 5001, fit_intercept=True, C=10000).fit(X_sk, y_sk.ravel())"
   ]
  },
  {
   "cell_type": "markdown",
   "metadata": {},
   "source": [
    "### 3e)\n",
    "Display the coefficients for the model with large `C` parameter value. How do they compare to the model with `penalty='none'`?"
   ]
  },
  {
   "cell_type": "markdown",
   "metadata": {},
   "source": [
    "#### 3e) - SOLUTION"
   ]
  },
  {
   "cell_type": "code",
   "execution_count": 28,
   "metadata": {},
   "outputs": [
    {
     "data": {
      "text/html": [
       "<div>\n",
       "<style scoped>\n",
       "    .dataframe tbody tr th:only-of-type {\n",
       "        vertical-align: middle;\n",
       "    }\n",
       "\n",
       "    .dataframe tbody tr th {\n",
       "        vertical-align: top;\n",
       "    }\n",
       "\n",
       "    .dataframe thead th {\n",
       "        text-align: right;\n",
       "    }\n",
       "</style>\n",
       "<table border=\"1\" class=\"dataframe\">\n",
       "  <thead>\n",
       "    <tr style=\"text-align: right;\">\n",
       "      <th></th>\n",
       "      <th>statsmodels</th>\n",
       "      <th>sklearn</th>\n",
       "      <th>sklearn_large</th>\n",
       "    </tr>\n",
       "  </thead>\n",
       "  <tbody>\n",
       "    <tr>\n",
       "      <th>Intercept</th>\n",
       "      <td>-0.058878</td>\n",
       "      <td>-0.058869</td>\n",
       "      <td>-0.058872</td>\n",
       "    </tr>\n",
       "    <tr>\n",
       "      <th>x1</th>\n",
       "      <td>0.145705</td>\n",
       "      <td>0.145718</td>\n",
       "      <td>0.145712</td>\n",
       "    </tr>\n",
       "    <tr>\n",
       "      <th>x2</th>\n",
       "      <td>0.560019</td>\n",
       "      <td>0.560033</td>\n",
       "      <td>0.560019</td>\n",
       "    </tr>\n",
       "    <tr>\n",
       "      <th>x1:x2</th>\n",
       "      <td>2.241473</td>\n",
       "      <td>2.241603</td>\n",
       "      <td>2.241549</td>\n",
       "    </tr>\n",
       "    <tr>\n",
       "      <th>x3</th>\n",
       "      <td>-0.100603</td>\n",
       "      <td>-0.100585</td>\n",
       "      <td>-0.100584</td>\n",
       "    </tr>\n",
       "    <tr>\n",
       "      <th>x1:x3</th>\n",
       "      <td>-0.203579</td>\n",
       "      <td>-0.203589</td>\n",
       "      <td>-0.203586</td>\n",
       "    </tr>\n",
       "    <tr>\n",
       "      <th>x2:x3</th>\n",
       "      <td>-0.165509</td>\n",
       "      <td>-0.165512</td>\n",
       "      <td>-0.165506</td>\n",
       "    </tr>\n",
       "    <tr>\n",
       "      <th>x1:x2:x3</th>\n",
       "      <td>-0.727286</td>\n",
       "      <td>-0.727266</td>\n",
       "      <td>-0.727233</td>\n",
       "    </tr>\n",
       "    <tr>\n",
       "      <th>x4</th>\n",
       "      <td>-0.199806</td>\n",
       "      <td>-0.199807</td>\n",
       "      <td>-0.199803</td>\n",
       "    </tr>\n",
       "    <tr>\n",
       "      <th>x1:x4</th>\n",
       "      <td>0.021289</td>\n",
       "      <td>0.021290</td>\n",
       "      <td>0.021294</td>\n",
       "    </tr>\n",
       "    <tr>\n",
       "      <th>x2:x4</th>\n",
       "      <td>-0.601959</td>\n",
       "      <td>-0.601966</td>\n",
       "      <td>-0.601954</td>\n",
       "    </tr>\n",
       "    <tr>\n",
       "      <th>x1:x2:x4</th>\n",
       "      <td>-0.436369</td>\n",
       "      <td>-0.436441</td>\n",
       "      <td>-0.436417</td>\n",
       "    </tr>\n",
       "    <tr>\n",
       "      <th>x3:x4</th>\n",
       "      <td>-0.125732</td>\n",
       "      <td>-0.125724</td>\n",
       "      <td>-0.125726</td>\n",
       "    </tr>\n",
       "    <tr>\n",
       "      <th>x1:x3:x4</th>\n",
       "      <td>-0.065539</td>\n",
       "      <td>-0.065560</td>\n",
       "      <td>-0.065558</td>\n",
       "    </tr>\n",
       "    <tr>\n",
       "      <th>x2:x3:x4</th>\n",
       "      <td>0.185884</td>\n",
       "      <td>0.185860</td>\n",
       "      <td>0.185853</td>\n",
       "    </tr>\n",
       "    <tr>\n",
       "      <th>x1:x2:x3:x4</th>\n",
       "      <td>0.116719</td>\n",
       "      <td>0.116717</td>\n",
       "      <td>0.116704</td>\n",
       "    </tr>\n",
       "  </tbody>\n",
       "</table>\n",
       "</div>"
      ],
      "text/plain": [
       "             statsmodels   sklearn  sklearn_large\n",
       "Intercept      -0.058878 -0.058869      -0.058872\n",
       "x1              0.145705  0.145718       0.145712\n",
       "x2              0.560019  0.560033       0.560019\n",
       "x1:x2           2.241473  2.241603       2.241549\n",
       "x3             -0.100603 -0.100585      -0.100584\n",
       "x1:x3          -0.203579 -0.203589      -0.203586\n",
       "x2:x3          -0.165509 -0.165512      -0.165506\n",
       "x1:x2:x3       -0.727286 -0.727266      -0.727233\n",
       "x4             -0.199806 -0.199807      -0.199803\n",
       "x1:x4           0.021289  0.021290       0.021294\n",
       "x2:x4          -0.601959 -0.601966      -0.601954\n",
       "x1:x2:x4       -0.436369 -0.436441      -0.436417\n",
       "x3:x4          -0.125732 -0.125724      -0.125726\n",
       "x1:x3:x4       -0.065539 -0.065560      -0.065558\n",
       "x2:x3:x4        0.185884  0.185860       0.185853\n",
       "x1:x2:x3:x4     0.116719  0.116717       0.116704"
      ]
     },
     "execution_count": 28,
     "metadata": {},
     "output_type": "execute_result"
    }
   ],
   "source": [
    "pd.DataFrame({'statsmodels': stats_fit.params,\n",
    "              'sklearn': extract_sklearn_coefs( sk_none),\n",
    "               'sklearn_large': extract_sklearn_coefs(sk_large_c)},\n",
    "             index=stats_fit.params.index)"
   ]
  },
  {
   "cell_type": "code",
   "execution_count": 29,
   "metadata": {},
   "outputs": [
    {
     "name": "stdout",
     "output_type": "stream",
     "text": [
      "0.67\n"
     ]
    }
   ],
   "source": [
    "ridge_large_c = LogisticRegression(penalty='l2', solver='lbfgs', C=10000, max_iter=5001, fit_intercept=True)\n",
    "\n",
    "accuracy_ridge_large_c = cross_val_score( ridge_large_c, X_sk, y_sk.ravel(), cv=kf05)\n",
    "\n",
    "print( accuracy_ridge_large_c.mean() )"
   ]
  },
  {
   "cell_type": "markdown",
   "metadata": {},
   "source": [
    "### 3f)\n",
    "Next, reduce `C` to a very small value of 0.0001. Fit the logistic regression model and assign the result to `sk_small_c`."
   ]
  },
  {
   "cell_type": "markdown",
   "metadata": {},
   "source": [
    "#### 3f) - SOLUTION"
   ]
  },
  {
   "cell_type": "code",
   "execution_count": 30,
   "metadata": {},
   "outputs": [],
   "source": [
    "sk_small_c = LogisticRegression(penalty='l2', solver = 'lbfgs', max_iter = 5001, fit_intercept=True, C=0.0001).fit(X_sk, y_sk.ravel())"
   ]
  },
  {
   "cell_type": "markdown",
   "metadata": {},
   "source": [
    "### 3g)\n",
    "Display the coefficients for the model with small `C` parameter value. How do the coefficients compare to the model with `penalty='none'`?"
   ]
  },
  {
   "cell_type": "markdown",
   "metadata": {},
   "source": [
    "#### 3g) - SOLUTION"
   ]
  },
  {
   "cell_type": "code",
   "execution_count": 31,
   "metadata": {},
   "outputs": [
    {
     "data": {
      "text/html": [
       "<div>\n",
       "<style scoped>\n",
       "    .dataframe tbody tr th:only-of-type {\n",
       "        vertical-align: middle;\n",
       "    }\n",
       "\n",
       "    .dataframe tbody tr th {\n",
       "        vertical-align: top;\n",
       "    }\n",
       "\n",
       "    .dataframe thead th {\n",
       "        text-align: right;\n",
       "    }\n",
       "</style>\n",
       "<table border=\"1\" class=\"dataframe\">\n",
       "  <thead>\n",
       "    <tr style=\"text-align: right;\">\n",
       "      <th></th>\n",
       "      <th>statsmodels</th>\n",
       "      <th>sklearn</th>\n",
       "      <th>sklearn_small</th>\n",
       "    </tr>\n",
       "  </thead>\n",
       "  <tbody>\n",
       "    <tr>\n",
       "      <th>Intercept</th>\n",
       "      <td>-0.058878</td>\n",
       "      <td>-0.058869</td>\n",
       "      <td>-0.180583</td>\n",
       "    </tr>\n",
       "    <tr>\n",
       "      <th>x1</th>\n",
       "      <td>0.145705</td>\n",
       "      <td>0.145718</td>\n",
       "      <td>-0.000372</td>\n",
       "    </tr>\n",
       "    <tr>\n",
       "      <th>x2</th>\n",
       "      <td>0.560019</td>\n",
       "      <td>0.560033</td>\n",
       "      <td>0.000712</td>\n",
       "    </tr>\n",
       "    <tr>\n",
       "      <th>x1:x2</th>\n",
       "      <td>2.241473</td>\n",
       "      <td>2.241603</td>\n",
       "      <td>0.004570</td>\n",
       "    </tr>\n",
       "    <tr>\n",
       "      <th>x3</th>\n",
       "      <td>-0.100603</td>\n",
       "      <td>-0.100585</td>\n",
       "      <td>-0.000307</td>\n",
       "    </tr>\n",
       "    <tr>\n",
       "      <th>x1:x3</th>\n",
       "      <td>-0.203579</td>\n",
       "      <td>-0.203589</td>\n",
       "      <td>-0.000279</td>\n",
       "    </tr>\n",
       "    <tr>\n",
       "      <th>x2:x3</th>\n",
       "      <td>-0.165509</td>\n",
       "      <td>-0.165512</td>\n",
       "      <td>-0.000004</td>\n",
       "    </tr>\n",
       "    <tr>\n",
       "      <th>x1:x2:x3</th>\n",
       "      <td>-0.727286</td>\n",
       "      <td>-0.727266</td>\n",
       "      <td>-0.000245</td>\n",
       "    </tr>\n",
       "    <tr>\n",
       "      <th>x4</th>\n",
       "      <td>-0.199806</td>\n",
       "      <td>-0.199807</td>\n",
       "      <td>-0.000721</td>\n",
       "    </tr>\n",
       "    <tr>\n",
       "      <th>x1:x4</th>\n",
       "      <td>0.021289</td>\n",
       "      <td>0.021290</td>\n",
       "      <td>0.001345</td>\n",
       "    </tr>\n",
       "    <tr>\n",
       "      <th>x2:x4</th>\n",
       "      <td>-0.601959</td>\n",
       "      <td>-0.601966</td>\n",
       "      <td>-0.000439</td>\n",
       "    </tr>\n",
       "    <tr>\n",
       "      <th>x1:x2:x4</th>\n",
       "      <td>-0.436369</td>\n",
       "      <td>-0.436441</td>\n",
       "      <td>-0.000981</td>\n",
       "    </tr>\n",
       "    <tr>\n",
       "      <th>x3:x4</th>\n",
       "      <td>-0.125732</td>\n",
       "      <td>-0.125724</td>\n",
       "      <td>-0.001170</td>\n",
       "    </tr>\n",
       "    <tr>\n",
       "      <th>x1:x3:x4</th>\n",
       "      <td>-0.065539</td>\n",
       "      <td>-0.065560</td>\n",
       "      <td>-0.000005</td>\n",
       "    </tr>\n",
       "    <tr>\n",
       "      <th>x2:x3:x4</th>\n",
       "      <td>0.185884</td>\n",
       "      <td>0.185860</td>\n",
       "      <td>0.000416</td>\n",
       "    </tr>\n",
       "    <tr>\n",
       "      <th>x1:x2:x3:x4</th>\n",
       "      <td>0.116719</td>\n",
       "      <td>0.116717</td>\n",
       "      <td>-0.000739</td>\n",
       "    </tr>\n",
       "  </tbody>\n",
       "</table>\n",
       "</div>"
      ],
      "text/plain": [
       "             statsmodels   sklearn  sklearn_small\n",
       "Intercept      -0.058878 -0.058869      -0.180583\n",
       "x1              0.145705  0.145718      -0.000372\n",
       "x2              0.560019  0.560033       0.000712\n",
       "x1:x2           2.241473  2.241603       0.004570\n",
       "x3             -0.100603 -0.100585      -0.000307\n",
       "x1:x3          -0.203579 -0.203589      -0.000279\n",
       "x2:x3          -0.165509 -0.165512      -0.000004\n",
       "x1:x2:x3       -0.727286 -0.727266      -0.000245\n",
       "x4             -0.199806 -0.199807      -0.000721\n",
       "x1:x4           0.021289  0.021290       0.001345\n",
       "x2:x4          -0.601959 -0.601966      -0.000439\n",
       "x1:x2:x4       -0.436369 -0.436441      -0.000981\n",
       "x3:x4          -0.125732 -0.125724      -0.001170\n",
       "x1:x3:x4       -0.065539 -0.065560      -0.000005\n",
       "x2:x3:x4        0.185884  0.185860       0.000416\n",
       "x1:x2:x3:x4     0.116719  0.116717      -0.000739"
      ]
     },
     "execution_count": 31,
     "metadata": {},
     "output_type": "execute_result"
    }
   ],
   "source": [
    "pd.DataFrame({'statsmodels': stats_fit.params,\n",
    "              'sklearn': extract_sklearn_coefs( sk_none),\n",
    "               'sklearn_small': extract_sklearn_coefs(sk_small_c)},\n",
    "             index=stats_fit.params.index)"
   ]
  },
  {
   "cell_type": "markdown",
   "metadata": {},
   "source": [
    "### 3h) \n",
    "Calculate the Accuracy for the model with small `C` parameter value. How does the Accuracy compare to the other models you have fit?"
   ]
  },
  {
   "cell_type": "markdown",
   "metadata": {},
   "source": [
    "#### 3h) - SOLUTION"
   ]
  },
  {
   "cell_type": "code",
   "execution_count": 32,
   "metadata": {},
   "outputs": [
    {
     "name": "stdout",
     "output_type": "stream",
     "text": [
      "0.545\n"
     ]
    }
   ],
   "source": [
    "ridge_small_c = LogisticRegression(penalty='l2', solver='lbfgs', C=0.0001, max_iter=5001, fit_intercept=True)\n",
    "\n",
    "accuracy_ridge_small_c = cross_val_score( ridge_small_c, X_sk, y_sk.ravel(), cv=kf05)\n",
    "\n",
    "print( accuracy_ridge_small_c.mean() )"
   ]
  },
  {
   "cell_type": "markdown",
   "metadata": {},
   "source": [
    "### 3i)\n",
    "Describe the impact of the `C` parameter on the coefficient behavior. What happens to the coefficients when `C` is large compared to when `C` is very small."
   ]
  },
  {
   "cell_type": "markdown",
   "metadata": {},
   "source": [
    "#### 3i) - SOLUTION"
   ]
  },
  {
   "cell_type": "markdown",
   "metadata": {},
   "source": [
    "What do you think?"
   ]
  },
  {
   "cell_type": "markdown",
   "metadata": {},
   "source": [
    "When `C` is large the accuracy increses a little but to **67%** but when `c` is small the accuracy drops ti just **54.5%**."
   ]
  },
  {
   "cell_type": "markdown",
   "metadata": {},
   "source": [
    "## Problem 04\n",
    "The logistic regression function in `sklearn` includes 2 other types of penalties besides the Ridge penalty. You will work with the `penalty='l1'` option in this question, which corresponds to the L1-norm or the **Lasso penalty**. The syntax is similar to the previous question, except that you must change the `solver` argument as well. \n",
    "\n",
    "You must specify the `penalty` argument to be `'l1'` and specify the `solver` argument to be `'saga'` for all parts in this question."
   ]
  },
  {
   "cell_type": "markdown",
   "metadata": {},
   "source": [
    "### 4a)\n",
    "Fit a logistic regression model with the lasso penalty with the `C` parameter set to 1. Assign the result to the `sk_lasso_default` object."
   ]
  },
  {
   "cell_type": "markdown",
   "metadata": {},
   "source": [
    "#### 4a) - SOLUTION"
   ]
  },
  {
   "cell_type": "code",
   "execution_count": 33,
   "metadata": {},
   "outputs": [],
   "source": [
    "sk_lasso_default = LogisticRegression(penalty='l1', solver='saga', max_iter=5001, fit_intercept=True, C=1.0).\\\n",
    "fit(X_sk, y_sk.ravel())"
   ]
  },
  {
   "cell_type": "markdown",
   "metadata": {},
   "source": [
    "### 4b)\n",
    "Fit a logistic regression model with the lasso penalty with the `C` parameter set to a large value of 10000. Assign the result to the `sk_lasso_large_c` object."
   ]
  },
  {
   "cell_type": "markdown",
   "metadata": {},
   "source": [
    "#### 4b) - SOLUTION"
   ]
  },
  {
   "cell_type": "code",
   "execution_count": 34,
   "metadata": {},
   "outputs": [],
   "source": [
    "sk_lasso_large_c = LogisticRegression(penalty='l1', solver='saga', max_iter=5001, fit_intercept=True, C=10000).\\\n",
    "fit(X_sk, y_sk.ravel())"
   ]
  },
  {
   "cell_type": "markdown",
   "metadata": {},
   "source": [
    "### 4c)\n",
    "Fit a logistic regression model with the lasso penalty with the `C` parameter set to a very small value of 0.0001. Assign the result to the `sk_lasso_small_c` object."
   ]
  },
  {
   "cell_type": "markdown",
   "metadata": {},
   "source": [
    "#### 4c) - SOLUTION"
   ]
  },
  {
   "cell_type": "code",
   "execution_count": 35,
   "metadata": {},
   "outputs": [],
   "source": [
    "sk_lasso_small_c = LogisticRegression(penalty='l1', solver='saga', max_iter=5001, fit_intercept=True, C=0.0001).\\\n",
    "fit(X_sk, y_sk.ravel())"
   ]
  },
  {
   "cell_type": "markdown",
   "metadata": {},
   "source": [
    "### 4d)\n",
    "Display the coefficient estimates for the 3 different lasso models, `sk_lasso_default`, `sk_lasso_large_c`, and `sk_lasso_small_c` to the screen. What's going on with the coefficient estimates? How are they changing as the value of `C` changes?"
   ]
  },
  {
   "cell_type": "markdown",
   "metadata": {},
   "source": [
    "#### 4d) - SOLUTION"
   ]
  },
  {
   "cell_type": "code",
   "execution_count": 36,
   "metadata": {},
   "outputs": [
    {
     "data": {
      "text/html": [
       "<div>\n",
       "<style scoped>\n",
       "    .dataframe tbody tr th:only-of-type {\n",
       "        vertical-align: middle;\n",
       "    }\n",
       "\n",
       "    .dataframe tbody tr th {\n",
       "        vertical-align: top;\n",
       "    }\n",
       "\n",
       "    .dataframe thead th {\n",
       "        text-align: right;\n",
       "    }\n",
       "</style>\n",
       "<table border=\"1\" class=\"dataframe\">\n",
       "  <thead>\n",
       "    <tr style=\"text-align: right;\">\n",
       "      <th></th>\n",
       "      <th>statsmodels</th>\n",
       "      <th>default</th>\n",
       "      <th>large_c</th>\n",
       "      <th>small_c</th>\n",
       "    </tr>\n",
       "  </thead>\n",
       "  <tbody>\n",
       "    <tr>\n",
       "      <th>Intercept</th>\n",
       "      <td>-0.058878</td>\n",
       "      <td>-0.095581</td>\n",
       "      <td>-0.059364</td>\n",
       "      <td>-0.098584</td>\n",
       "    </tr>\n",
       "    <tr>\n",
       "      <th>x1</th>\n",
       "      <td>0.145705</td>\n",
       "      <td>0.036624</td>\n",
       "      <td>0.144804</td>\n",
       "      <td>0.000000</td>\n",
       "    </tr>\n",
       "    <tr>\n",
       "      <th>x2</th>\n",
       "      <td>0.560019</td>\n",
       "      <td>0.423590</td>\n",
       "      <td>0.558458</td>\n",
       "      <td>0.000000</td>\n",
       "    </tr>\n",
       "    <tr>\n",
       "      <th>x1:x2</th>\n",
       "      <td>2.241473</td>\n",
       "      <td>1.927859</td>\n",
       "      <td>2.235808</td>\n",
       "      <td>0.000000</td>\n",
       "    </tr>\n",
       "    <tr>\n",
       "      <th>x3</th>\n",
       "      <td>-0.100603</td>\n",
       "      <td>-0.069726</td>\n",
       "      <td>-0.100406</td>\n",
       "      <td>0.000000</td>\n",
       "    </tr>\n",
       "    <tr>\n",
       "      <th>x1:x3</th>\n",
       "      <td>-0.203579</td>\n",
       "      <td>-0.155680</td>\n",
       "      <td>-0.203501</td>\n",
       "      <td>0.000000</td>\n",
       "    </tr>\n",
       "    <tr>\n",
       "      <th>x2:x3</th>\n",
       "      <td>-0.165509</td>\n",
       "      <td>-0.062214</td>\n",
       "      <td>-0.164561</td>\n",
       "      <td>0.000000</td>\n",
       "    </tr>\n",
       "    <tr>\n",
       "      <th>x1:x2:x3</th>\n",
       "      <td>-0.727286</td>\n",
       "      <td>-0.406430</td>\n",
       "      <td>-0.722587</td>\n",
       "      <td>0.000000</td>\n",
       "    </tr>\n",
       "    <tr>\n",
       "      <th>x4</th>\n",
       "      <td>-0.199806</td>\n",
       "      <td>-0.149296</td>\n",
       "      <td>-0.199371</td>\n",
       "      <td>0.000000</td>\n",
       "    </tr>\n",
       "    <tr>\n",
       "      <th>x1:x4</th>\n",
       "      <td>0.021289</td>\n",
       "      <td>0.017333</td>\n",
       "      <td>0.021879</td>\n",
       "      <td>0.000000</td>\n",
       "    </tr>\n",
       "    <tr>\n",
       "      <th>x2:x4</th>\n",
       "      <td>-0.601959</td>\n",
       "      <td>-0.473863</td>\n",
       "      <td>-0.600833</td>\n",
       "      <td>0.000000</td>\n",
       "    </tr>\n",
       "    <tr>\n",
       "      <th>x1:x2:x4</th>\n",
       "      <td>-0.436369</td>\n",
       "      <td>-0.151630</td>\n",
       "      <td>-0.432106</td>\n",
       "      <td>0.000000</td>\n",
       "    </tr>\n",
       "    <tr>\n",
       "      <th>x3:x4</th>\n",
       "      <td>-0.125732</td>\n",
       "      <td>-0.111226</td>\n",
       "      <td>-0.125994</td>\n",
       "      <td>0.000000</td>\n",
       "    </tr>\n",
       "    <tr>\n",
       "      <th>x1:x3:x4</th>\n",
       "      <td>-0.065539</td>\n",
       "      <td>0.000000</td>\n",
       "      <td>-0.065516</td>\n",
       "      <td>0.000000</td>\n",
       "    </tr>\n",
       "    <tr>\n",
       "      <th>x2:x3:x4</th>\n",
       "      <td>0.185884</td>\n",
       "      <td>0.096447</td>\n",
       "      <td>0.184865</td>\n",
       "      <td>0.000000</td>\n",
       "    </tr>\n",
       "    <tr>\n",
       "      <th>x1:x2:x3:x4</th>\n",
       "      <td>0.116719</td>\n",
       "      <td>0.000000</td>\n",
       "      <td>0.113704</td>\n",
       "      <td>0.000000</td>\n",
       "    </tr>\n",
       "  </tbody>\n",
       "</table>\n",
       "</div>"
      ],
      "text/plain": [
       "             statsmodels   default   large_c   small_c\n",
       "Intercept      -0.058878 -0.095581 -0.059364 -0.098584\n",
       "x1              0.145705  0.036624  0.144804  0.000000\n",
       "x2              0.560019  0.423590  0.558458  0.000000\n",
       "x1:x2           2.241473  1.927859  2.235808  0.000000\n",
       "x3             -0.100603 -0.069726 -0.100406  0.000000\n",
       "x1:x3          -0.203579 -0.155680 -0.203501  0.000000\n",
       "x2:x3          -0.165509 -0.062214 -0.164561  0.000000\n",
       "x1:x2:x3       -0.727286 -0.406430 -0.722587  0.000000\n",
       "x4             -0.199806 -0.149296 -0.199371  0.000000\n",
       "x1:x4           0.021289  0.017333  0.021879  0.000000\n",
       "x2:x4          -0.601959 -0.473863 -0.600833  0.000000\n",
       "x1:x2:x4       -0.436369 -0.151630 -0.432106  0.000000\n",
       "x3:x4          -0.125732 -0.111226 -0.125994  0.000000\n",
       "x1:x3:x4       -0.065539  0.000000 -0.065516  0.000000\n",
       "x2:x3:x4        0.185884  0.096447  0.184865  0.000000\n",
       "x1:x2:x3:x4     0.116719  0.000000  0.113704  0.000000"
      ]
     },
     "execution_count": 36,
     "metadata": {},
     "output_type": "execute_result"
    }
   ],
   "source": [
    "pd.DataFrame({'statsmodels': stats_fit.params,\n",
    "              'default': extract_sklearn_coefs( sk_lasso_default),\n",
    "               'large_c': extract_sklearn_coefs(sk_lasso_large_c),\n",
    "             'small_c': extract_sklearn_coefs(sk_lasso_small_c)},\n",
    "             index=stats_fit.params.index)"
   ]
  },
  {
   "cell_type": "markdown",
   "metadata": {},
   "source": [
    "### 4e)\n",
    "Calculate the Accuracy associated the 3 different lasso models and display the results to the screen. Describe the behavior of the model performance as `C` changes."
   ]
  },
  {
   "cell_type": "markdown",
   "metadata": {},
   "source": [
    "#### 4e) - SOLUTION"
   ]
  },
  {
   "cell_type": "code",
   "execution_count": 37,
   "metadata": {},
   "outputs": [],
   "source": [
    "lasso_default_c = LogisticRegression(penalty='l1', solver='saga', C=1.0, max_iter=5001, fit_intercept=True)\n",
    "\n",
    "lasso_large_c = LogisticRegression(penalty='l1', solver='saga', C=10000, max_iter=5001, fit_intercept=True)\n",
    "\n",
    "lasso_small_c = LogisticRegression(penalty='l1', solver='saga', C=0.0001, max_iter=5001, fit_intercept=True)"
   ]
  },
  {
   "cell_type": "code",
   "execution_count": 38,
   "metadata": {},
   "outputs": [],
   "source": [
    "test_accuracy_lasso_default_c = cross_val_score( lasso_default_c, X_sk, y_sk.ravel(), cv=kf05)"
   ]
  },
  {
   "cell_type": "code",
   "execution_count": 39,
   "metadata": {},
   "outputs": [],
   "source": [
    "test_accuracy_lasso_large_c = cross_val_score( lasso_large_c, X_sk, y_sk.ravel(), cv=kf05)"
   ]
  },
  {
   "cell_type": "code",
   "execution_count": 40,
   "metadata": {},
   "outputs": [],
   "source": [
    "test_accuracy_lasso_small_c = cross_val_score( lasso_small_c, X_sk, y_sk.ravel(), cv=kf05)"
   ]
  },
  {
   "cell_type": "code",
   "execution_count": 41,
   "metadata": {},
   "outputs": [
    {
     "name": "stdout",
     "output_type": "stream",
     "text": [
      "0.67\n",
      "0.675\n",
      "0.5349999999999999\n"
     ]
    }
   ],
   "source": [
    "print( test_accuracy_lasso_large_c.mean() )\n",
    "\n",
    "print( test_accuracy_lasso_default_c.mean() )\n",
    "\n",
    "print( test_accuracy_lasso_small_c.mean() )"
   ]
  },
  {
   "cell_type": "markdown",
   "metadata": {},
   "source": [
    "### 4f)\n",
    "How are the coefficients different as the `C` parameter changes when you use the Lasso compared to the Ridge penalty?"
   ]
  },
  {
   "cell_type": "markdown",
   "metadata": {},
   "source": [
    "#### 4f) - SOLUTION"
   ]
  },
  {
   "cell_type": "markdown",
   "metadata": {},
   "source": [
    "In ridge the as `C` gets smaller the coefficients becomes closer to zero but they are never exactly zero.\n",
    "\n",
    "In Lasso as `c` gets smalls the coefficient becomes zero if the coefficient doesn't metter."
   ]
  },
  {
   "cell_type": "markdown",
   "metadata": {},
   "source": [
    "## Problem 05\n",
    "The previous questions focused on studying the model behavior as the `C` parameter is changed. In this problem you will tune or optimize the `C` parameter using cross-validation. You are allowed to the built-in cross-validation function `LogisticRegressionCV()` to perform the cross-validation. "
   ]
  },
  {
   "cell_type": "markdown",
   "metadata": {},
   "source": [
    "### 5a)\n",
    "\n",
    "Tune the `C` parameter using 10 fold cross-validation for the Ridge Penalty. Assign the result to the `ridge_cv` object."
   ]
  },
  {
   "cell_type": "markdown",
   "metadata": {},
   "source": [
    "#### 5a) - SOLUTION"
   ]
  },
  {
   "cell_type": "code",
   "execution_count": 42,
   "metadata": {},
   "outputs": [],
   "source": [
    "from sklearn.linear_model import LogisticRegressionCV"
   ]
  },
  {
   "cell_type": "code",
   "execution_count": 43,
   "metadata": {},
   "outputs": [],
   "source": [
    "kf10 = KFold(n_splits=10, shuffle=True, random_state=101)"
   ]
  },
  {
   "cell_type": "code",
   "execution_count": 44,
   "metadata": {},
   "outputs": [],
   "source": [
    "ridge_cv = LogisticRegressionCV(penalty='l2', Cs=101, cv=kf10, solver='lbfgs', max_iter=5001, fit_intercept=True).\\\n",
    "fit(X_sk, y_sk.ravel())"
   ]
  },
  {
   "cell_type": "markdown",
   "metadata": {},
   "source": [
    "### 5b)\n",
    "What is the optimal `C` value?"
   ]
  },
  {
   "cell_type": "markdown",
   "metadata": {},
   "source": [
    "#### 5b) - SOLUTION"
   ]
  },
  {
   "cell_type": "code",
   "execution_count": 45,
   "metadata": {},
   "outputs": [
    {
     "data": {
      "text/plain": [
       "array([0.06309573])"
      ]
     },
     "execution_count": 45,
     "metadata": {},
     "output_type": "execute_result"
    }
   ],
   "source": [
    "ridge_cv.C_"
   ]
  },
  {
   "cell_type": "markdown",
   "metadata": {},
   "source": [
    "### 5c)\n",
    "Display the coefficients associated with the optimal `C` value. How do they compare to the logistic regression model fit with `penalty='none'`?"
   ]
  },
  {
   "cell_type": "markdown",
   "metadata": {},
   "source": [
    "#### 5c) - SOLUTION"
   ]
  },
  {
   "cell_type": "code",
   "execution_count": 46,
   "metadata": {},
   "outputs": [
    {
     "data": {
      "text/html": [
       "<div>\n",
       "<style scoped>\n",
       "    .dataframe tbody tr th:only-of-type {\n",
       "        vertical-align: middle;\n",
       "    }\n",
       "\n",
       "    .dataframe tbody tr th {\n",
       "        vertical-align: top;\n",
       "    }\n",
       "\n",
       "    .dataframe thead th {\n",
       "        text-align: right;\n",
       "    }\n",
       "</style>\n",
       "<table border=\"1\" class=\"dataframe\">\n",
       "  <thead>\n",
       "    <tr style=\"text-align: right;\">\n",
       "      <th></th>\n",
       "      <th>statsmodels</th>\n",
       "      <th>sk_none</th>\n",
       "      <th>ridge_best</th>\n",
       "    </tr>\n",
       "  </thead>\n",
       "  <tbody>\n",
       "    <tr>\n",
       "      <th>Intercept</th>\n",
       "      <td>-0.058878</td>\n",
       "      <td>-0.058869</td>\n",
       "      <td>-0.149066</td>\n",
       "    </tr>\n",
       "    <tr>\n",
       "      <th>x1</th>\n",
       "      <td>0.145705</td>\n",
       "      <td>0.145718</td>\n",
       "      <td>0.005149</td>\n",
       "    </tr>\n",
       "    <tr>\n",
       "      <th>x2</th>\n",
       "      <td>0.560019</td>\n",
       "      <td>0.560033</td>\n",
       "      <td>0.214793</td>\n",
       "    </tr>\n",
       "    <tr>\n",
       "      <th>x1:x2</th>\n",
       "      <td>2.241473</td>\n",
       "      <td>2.241603</td>\n",
       "      <td>0.862227</td>\n",
       "    </tr>\n",
       "    <tr>\n",
       "      <th>x3</th>\n",
       "      <td>-0.100603</td>\n",
       "      <td>-0.100585</td>\n",
       "      <td>-0.061636</td>\n",
       "    </tr>\n",
       "    <tr>\n",
       "      <th>x1:x3</th>\n",
       "      <td>-0.203579</td>\n",
       "      <td>-0.203589</td>\n",
       "      <td>-0.081773</td>\n",
       "    </tr>\n",
       "    <tr>\n",
       "      <th>x2:x3</th>\n",
       "      <td>-0.165509</td>\n",
       "      <td>-0.165512</td>\n",
       "      <td>-0.035314</td>\n",
       "    </tr>\n",
       "    <tr>\n",
       "      <th>x1:x2:x3</th>\n",
       "      <td>-0.727286</td>\n",
       "      <td>-0.727266</td>\n",
       "      <td>-0.142439</td>\n",
       "    </tr>\n",
       "    <tr>\n",
       "      <th>x4</th>\n",
       "      <td>-0.199806</td>\n",
       "      <td>-0.199807</td>\n",
       "      <td>-0.098530</td>\n",
       "    </tr>\n",
       "    <tr>\n",
       "      <th>x1:x4</th>\n",
       "      <td>0.021289</td>\n",
       "      <td>0.021290</td>\n",
       "      <td>0.102834</td>\n",
       "    </tr>\n",
       "    <tr>\n",
       "      <th>x2:x4</th>\n",
       "      <td>-0.601959</td>\n",
       "      <td>-0.601966</td>\n",
       "      <td>-0.220562</td>\n",
       "    </tr>\n",
       "    <tr>\n",
       "      <th>x1:x2:x4</th>\n",
       "      <td>-0.436369</td>\n",
       "      <td>-0.436441</td>\n",
       "      <td>-0.104381</td>\n",
       "    </tr>\n",
       "    <tr>\n",
       "      <th>x3:x4</th>\n",
       "      <td>-0.125732</td>\n",
       "      <td>-0.125724</td>\n",
       "      <td>-0.127503</td>\n",
       "    </tr>\n",
       "    <tr>\n",
       "      <th>x1:x3:x4</th>\n",
       "      <td>-0.065539</td>\n",
       "      <td>-0.065560</td>\n",
       "      <td>-0.014664</td>\n",
       "    </tr>\n",
       "    <tr>\n",
       "      <th>x2:x3:x4</th>\n",
       "      <td>0.185884</td>\n",
       "      <td>0.185860</td>\n",
       "      <td>0.051121</td>\n",
       "    </tr>\n",
       "    <tr>\n",
       "      <th>x1:x2:x3:x4</th>\n",
       "      <td>0.116719</td>\n",
       "      <td>0.116717</td>\n",
       "      <td>-0.069711</td>\n",
       "    </tr>\n",
       "  </tbody>\n",
       "</table>\n",
       "</div>"
      ],
      "text/plain": [
       "             statsmodels   sk_none  ridge_best\n",
       "Intercept      -0.058878 -0.058869   -0.149066\n",
       "x1              0.145705  0.145718    0.005149\n",
       "x2              0.560019  0.560033    0.214793\n",
       "x1:x2           2.241473  2.241603    0.862227\n",
       "x3             -0.100603 -0.100585   -0.061636\n",
       "x1:x3          -0.203579 -0.203589   -0.081773\n",
       "x2:x3          -0.165509 -0.165512   -0.035314\n",
       "x1:x2:x3       -0.727286 -0.727266   -0.142439\n",
       "x4             -0.199806 -0.199807   -0.098530\n",
       "x1:x4           0.021289  0.021290    0.102834\n",
       "x2:x4          -0.601959 -0.601966   -0.220562\n",
       "x1:x2:x4       -0.436369 -0.436441   -0.104381\n",
       "x3:x4          -0.125732 -0.125724   -0.127503\n",
       "x1:x3:x4       -0.065539 -0.065560   -0.014664\n",
       "x2:x3:x4        0.185884  0.185860    0.051121\n",
       "x1:x2:x3:x4     0.116719  0.116717   -0.069711"
      ]
     },
     "execution_count": 46,
     "metadata": {},
     "output_type": "execute_result"
    }
   ],
   "source": [
    "pd.DataFrame({'statsmodels': stats_fit.params,\n",
    "              'sk_none': extract_sklearn_coefs(sk_none),\n",
    "              'ridge_best': extract_sklearn_coefs(ridge_cv)},\n",
    "            index=stats_fit.params.index)"
   ]
  },
  {
   "cell_type": "markdown",
   "metadata": {},
   "source": [
    "### 5d)\n",
    "Tune the `C` parameter using 10 fold cross-validation for the Lasso Penalty. Assign the result to the `lasso_cv` object."
   ]
  },
  {
   "cell_type": "markdown",
   "metadata": {},
   "source": [
    "#### 5d) - SOLUTION"
   ]
  },
  {
   "cell_type": "code",
   "execution_count": 47,
   "metadata": {},
   "outputs": [],
   "source": [
    "lasso_cv = LogisticRegressionCV(penalty='l1', Cs=101, cv=kf10, solver='saga', max_iter=5001, fit_intercept=True).\\\n",
    "fit(X_sk, y_sk.ravel())"
   ]
  },
  {
   "cell_type": "markdown",
   "metadata": {},
   "source": [
    "### 5e)\n",
    "What is the optimal `C` value associated with the lasso model?"
   ]
  },
  {
   "cell_type": "markdown",
   "metadata": {},
   "source": [
    "#### 5e) - SOLUTION"
   ]
  },
  {
   "cell_type": "code",
   "execution_count": 48,
   "metadata": {},
   "outputs": [
    {
     "data": {
      "text/plain": [
       "array([0.06309573])"
      ]
     },
     "execution_count": 48,
     "metadata": {},
     "output_type": "execute_result"
    }
   ],
   "source": [
    "lasso_cv.C_"
   ]
  },
  {
   "cell_type": "markdown",
   "metadata": {},
   "source": [
    "### 5f)\n",
    "Display the coefficients associated with the optimal `C` value for the lasso model. What has your model \"turned into\"?"
   ]
  },
  {
   "cell_type": "markdown",
   "metadata": {},
   "source": [
    "#### 5f) - SOLUTION"
   ]
  },
  {
   "cell_type": "code",
   "execution_count": 49,
   "metadata": {},
   "outputs": [
    {
     "data": {
      "text/html": [
       "<div>\n",
       "<style scoped>\n",
       "    .dataframe tbody tr th:only-of-type {\n",
       "        vertical-align: middle;\n",
       "    }\n",
       "\n",
       "    .dataframe tbody tr th {\n",
       "        vertical-align: top;\n",
       "    }\n",
       "\n",
       "    .dataframe thead th {\n",
       "        text-align: right;\n",
       "    }\n",
       "</style>\n",
       "<table border=\"1\" class=\"dataframe\">\n",
       "  <thead>\n",
       "    <tr style=\"text-align: right;\">\n",
       "      <th></th>\n",
       "      <th>statsmodels</th>\n",
       "      <th>sk_none</th>\n",
       "      <th>lasso_best</th>\n",
       "    </tr>\n",
       "  </thead>\n",
       "  <tbody>\n",
       "    <tr>\n",
       "      <th>Intercept</th>\n",
       "      <td>-0.058878</td>\n",
       "      <td>-0.058869</td>\n",
       "      <td>-0.184136</td>\n",
       "    </tr>\n",
       "    <tr>\n",
       "      <th>x1</th>\n",
       "      <td>0.145705</td>\n",
       "      <td>0.145718</td>\n",
       "      <td>0.000000</td>\n",
       "    </tr>\n",
       "    <tr>\n",
       "      <th>x2</th>\n",
       "      <td>0.560019</td>\n",
       "      <td>0.560033</td>\n",
       "      <td>0.000000</td>\n",
       "    </tr>\n",
       "    <tr>\n",
       "      <th>x1:x2</th>\n",
       "      <td>2.241473</td>\n",
       "      <td>2.241603</td>\n",
       "      <td>0.798613</td>\n",
       "    </tr>\n",
       "    <tr>\n",
       "      <th>x3</th>\n",
       "      <td>-0.100603</td>\n",
       "      <td>-0.100585</td>\n",
       "      <td>0.000000</td>\n",
       "    </tr>\n",
       "    <tr>\n",
       "      <th>x1:x3</th>\n",
       "      <td>-0.203579</td>\n",
       "      <td>-0.203589</td>\n",
       "      <td>0.000000</td>\n",
       "    </tr>\n",
       "    <tr>\n",
       "      <th>x2:x3</th>\n",
       "      <td>-0.165509</td>\n",
       "      <td>-0.165512</td>\n",
       "      <td>0.000000</td>\n",
       "    </tr>\n",
       "    <tr>\n",
       "      <th>x1:x2:x3</th>\n",
       "      <td>-0.727286</td>\n",
       "      <td>-0.727266</td>\n",
       "      <td>0.000000</td>\n",
       "    </tr>\n",
       "    <tr>\n",
       "      <th>x4</th>\n",
       "      <td>-0.199806</td>\n",
       "      <td>-0.199807</td>\n",
       "      <td>0.000000</td>\n",
       "    </tr>\n",
       "    <tr>\n",
       "      <th>x1:x4</th>\n",
       "      <td>0.021289</td>\n",
       "      <td>0.021290</td>\n",
       "      <td>0.000000</td>\n",
       "    </tr>\n",
       "    <tr>\n",
       "      <th>x2:x4</th>\n",
       "      <td>-0.601959</td>\n",
       "      <td>-0.601966</td>\n",
       "      <td>0.000000</td>\n",
       "    </tr>\n",
       "    <tr>\n",
       "      <th>x1:x2:x4</th>\n",
       "      <td>-0.436369</td>\n",
       "      <td>-0.436441</td>\n",
       "      <td>0.000000</td>\n",
       "    </tr>\n",
       "    <tr>\n",
       "      <th>x3:x4</th>\n",
       "      <td>-0.125732</td>\n",
       "      <td>-0.125724</td>\n",
       "      <td>0.000000</td>\n",
       "    </tr>\n",
       "    <tr>\n",
       "      <th>x1:x3:x4</th>\n",
       "      <td>-0.065539</td>\n",
       "      <td>-0.065560</td>\n",
       "      <td>0.000000</td>\n",
       "    </tr>\n",
       "    <tr>\n",
       "      <th>x2:x3:x4</th>\n",
       "      <td>0.185884</td>\n",
       "      <td>0.185860</td>\n",
       "      <td>0.000000</td>\n",
       "    </tr>\n",
       "    <tr>\n",
       "      <th>x1:x2:x3:x4</th>\n",
       "      <td>0.116719</td>\n",
       "      <td>0.116717</td>\n",
       "      <td>0.000000</td>\n",
       "    </tr>\n",
       "  </tbody>\n",
       "</table>\n",
       "</div>"
      ],
      "text/plain": [
       "             statsmodels   sk_none  lasso_best\n",
       "Intercept      -0.058878 -0.058869   -0.184136\n",
       "x1              0.145705  0.145718    0.000000\n",
       "x2              0.560019  0.560033    0.000000\n",
       "x1:x2           2.241473  2.241603    0.798613\n",
       "x3             -0.100603 -0.100585    0.000000\n",
       "x1:x3          -0.203579 -0.203589    0.000000\n",
       "x2:x3          -0.165509 -0.165512    0.000000\n",
       "x1:x2:x3       -0.727286 -0.727266    0.000000\n",
       "x4             -0.199806 -0.199807    0.000000\n",
       "x1:x4           0.021289  0.021290    0.000000\n",
       "x2:x4          -0.601959 -0.601966    0.000000\n",
       "x1:x2:x4       -0.436369 -0.436441    0.000000\n",
       "x3:x4          -0.125732 -0.125724    0.000000\n",
       "x1:x3:x4       -0.065539 -0.065560    0.000000\n",
       "x2:x3:x4        0.185884  0.185860    0.000000\n",
       "x1:x2:x3:x4     0.116719  0.116717    0.000000"
      ]
     },
     "execution_count": 49,
     "metadata": {},
     "output_type": "execute_result"
    }
   ],
   "source": [
    "pd.DataFrame({'statsmodels': stats_fit.params,\n",
    "              'sk_none': extract_sklearn_coefs(sk_none),\n",
    "              'lasso_best': extract_sklearn_coefs(lasso_cv)},\n",
    "            index=stats_fit.params.index)"
   ]
  },
  {
   "cell_type": "markdown",
   "metadata": {},
   "source": [
    "The model has turned into just the interaction betweem `x1:x2` and zeroed all other variables"
   ]
  }
 ],
 "metadata": {
  "kernelspec": {
   "display_name": "Python 3 (ipykernel)",
   "language": "python",
   "name": "python3"
  },
  "language_info": {
   "codemirror_mode": {
    "name": "ipython",
    "version": 3
   },
   "file_extension": ".py",
   "mimetype": "text/x-python",
   "name": "python",
   "nbconvert_exporter": "python",
   "pygments_lexer": "ipython3",
   "version": "3.8.11"
  }
 },
 "nbformat": 4,
 "nbformat_minor": 4
}
